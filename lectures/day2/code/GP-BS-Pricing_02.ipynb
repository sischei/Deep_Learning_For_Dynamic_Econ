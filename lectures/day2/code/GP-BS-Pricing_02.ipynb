{
 "cells": [
  {
   "cell_type": "markdown",
   "metadata": {},
   "source": [
    "# Black Scholes option pricing & GPs\n",
    "\n",
    "* The purpose of this notebook is to demonstrate the derivation of the greeks in a Gaussian Process Regression model (GP), fitted to option price data. \n",
    "\n",
    "* In this notebook, European option prices are generated from the Black-Scholes model.  \n",
    "\n",
    "* The notebook begins by building a GP call model, where the input is the underlying price. \n",
    "\n",
    "* The delta is then derived and compared with the Black-Scholes (BS) delta. \n",
    "\n",
    "* The exercise is repeated, but using the volatility as the input instead of the underlying price. \n",
    "\n",
    "* The vega of the GP is then derived and compared with the BS vega (vega measures sensitivity to volatility. Vega is the derivative of the option value with respect to the volatility of the underlying asset).\n",
    "\n"
   ]
  },
  {
   "cell_type": "code",
   "execution_count": 1,
   "metadata": {},
   "outputs": [],
   "source": [
    "from BlackScholes import bsformula\n",
    "\n",
    "import numpy as np\n",
    "import scipy as sp\n",
    "\n",
    "from sklearn import gaussian_process\n",
    "from sklearn.gaussian_process.kernels import RBF\n",
    "\n",
    "import matplotlib.pyplot as plt\n",
    "\n",
    "%matplotlib inline"
   ]
  },
  {
   "cell_type": "markdown",
   "metadata": {},
   "source": [
    "## Black-Scholes Model"
   ]
  },
  {
   "cell_type": "markdown",
   "metadata": {},
   "source": [
    "First, set the model parameters"
   ]
  },
  {
   "cell_type": "code",
   "execution_count": 2,
   "metadata": {},
   "outputs": [],
   "source": [
    "KC = 130    # Call strike\n",
    "KP = 70     # Put strike\n",
    "r = 0.002   # risk-free rate\n",
    "sigma = 0.4 # implied volatility\n",
    "T = 2.0     # Time to maturity\n",
    "S0 = 100    # Underlying spot"
   ]
  },
  {
   "cell_type": "code",
   "execution_count": 3,
   "metadata": {},
   "outputs": [],
   "source": [
    "lb = 0   # lower bound on domain\n",
    "ub = 300 # upper bound on domain\n",
    "training_number = 100 # Number of training samples\n",
    "testing_number = 50   # Number of testing samples\n",
    "sigma_n = 1e-8 # additive noise in GP"
   ]
  },
  {
   "cell_type": "markdown",
   "metadata": {},
   "source": [
    "Define the call and put prices using the BS model"
   ]
  },
  {
   "cell_type": "code",
   "execution_count": 4,
   "metadata": {},
   "outputs": [],
   "source": [
    "call = lambda x, y: bsformula(1, lb+(ub-lb)*x, KC, r, T, y, 0)[0]\n",
    "put = lambda x, y: bsformula(-1, lb+(ub-lb)*x, KP, r, T, y, 0)[0]"
   ]
  },
  {
   "cell_type": "markdown",
   "metadata": {},
   "source": [
    "# Delta"
   ]
  },
  {
   "cell_type": "markdown",
   "metadata": {},
   "source": [
    "Generate the training and testing data, where the input is the gridded underlying and the output are the option prices. "
   ]
  },
  {
   "cell_type": "code",
   "execution_count": 5,
   "metadata": {},
   "outputs": [],
   "source": [
    "x_train = np.array(np.linspace(0.01, 1.2, training_number), dtype='float32').reshape(training_number, 1)\n",
    "x_test = np.array(np.linspace(0.01, 1.0, testing_number), dtype='float32').reshape(testing_number, 1)\n",
    "\n",
    "y_train = []\n",
    "    \n",
    "for idx in range(len(x_train)):\n",
    "    y_train.append(call(x_train[idx], sigma))\n",
    "y_train = np.array(y_train)"
   ]
  },
  {
   "cell_type": "markdown",
   "metadata": {},
   "source": [
    "Fit the GP model to the generated data"
   ]
  },
  {
   "cell_type": "code",
   "execution_count": 6,
   "metadata": {
    "scrolled": true
   },
   "outputs": [
    {
     "name": "stderr",
     "output_type": "stream",
     "text": [
      "/usr/local/lib/python3.6/dist-packages/sklearn/gaussian_process/_gpr.py:504: ConvergenceWarning: lbfgs failed to converge (status=2):\n",
      "ABNORMAL_TERMINATION_IN_LNSRCH.\n",
      "\n",
      "Increase the number of iterations (max_iter) or scale the data as shown in:\n",
      "    https://scikit-learn.org/stable/modules/preprocessing.html\n",
      "  _check_optimize_result(\"lbfgs\", opt_res)\n"
     ]
    },
    {
     "data": {
      "text/plain": [
       "GaussianProcessRegressor(kernel=RBF(length_scale=1), n_restarts_optimizer=20)"
      ]
     },
     "execution_count": 6,
     "metadata": {},
     "output_type": "execute_result"
    }
   ],
   "source": [
    "sk_kernel = RBF(length_scale=1.0, length_scale_bounds=(0.01, 10000.0))\n",
    "gp = gaussian_process.GaussianProcessRegressor(kernel=sk_kernel, n_restarts_optimizer=20)\n",
    "gp.fit(x_train, y_train)\n"
   ]
  },
  {
   "cell_type": "markdown",
   "metadata": {},
   "source": [
    "Get the model's predicted outputs for each of the test inputs"
   ]
  },
  {
   "cell_type": "code",
   "execution_count": 7,
   "metadata": {
    "scrolled": true
   },
   "outputs": [
    {
     "name": "stderr",
     "output_type": "stream",
     "text": [
      "/usr/local/lib/python3.6/dist-packages/sklearn/gaussian_process/_gpr.py:370: UserWarning: Predicted variances smaller than 0. Setting those variances to 0.\n",
      "  warnings.warn(\"Predicted variances smaller than 0. \"\n"
     ]
    }
   ],
   "source": [
    "y_pred, sigma_hat = gp.predict(x_test, return_std=True)"
   ]
  },
  {
   "cell_type": "markdown",
   "metadata": {},
   "source": [
    "## Derive the GP delta"
   ]
  },
  {
   "cell_type": "code",
   "execution_count": 8,
   "metadata": {},
   "outputs": [
    {
     "name": "stderr",
     "output_type": "stream",
     "text": [
      "/usr/local/lib/python3.6/dist-packages/numpy/core/_asarray.py:83: VisibleDeprecationWarning: Creating an ndarray from ragged nested sequences (which is a list-or-tuple of lists-or-tuples-or ndarrays with different lengths or shapes) is deprecated. If you meant to do this, you must specify 'dtype=object' when creating the ndarray\n",
      "  return array(a, dtype, copy=False, order=order)\n"
     ]
    }
   ],
   "source": [
    "l = gp.kernel_.length_scale\n",
    "rbf = gaussian_process.kernels.RBF(length_scale=l)\n",
    " \n",
    "Kernel = rbf(x_train, x_train)\n",
    "K_y = Kernel + np.eye(training_number) * sigma_n\n",
    "L = sp.linalg.cho_factor(K_y)\n",
    "alpha_p = sp.linalg.cho_solve(np.transpose(L), y_train)\n",
    "    \n",
    "k_s = rbf(x_test, x_train)\n",
    "k_s_prime = (x_train.T - x_test) * k_s / l**2\n",
    "f_prime = np.dot(k_s_prime, alpha_p) / (ub - lb)"
   ]
  },
  {
   "cell_type": "markdown",
   "metadata": {},
   "source": [
    "## Calculate the BS delta"
   ]
  },
  {
   "cell_type": "code",
   "execution_count": 9,
   "metadata": {
    "scrolled": true
   },
   "outputs": [
    {
     "data": {
      "text/plain": [
       "array([[ 4.49894761e-04],\n",
       "       [-1.48833441e-04],\n",
       "       [-6.93913435e-05],\n",
       "       [ 4.65385803e-05],\n",
       "       [-4.98361790e-06],\n",
       "       [-6.27400717e-05],\n",
       "       [-8.62552503e-05],\n",
       "       [-2.51381502e-05],\n",
       "       [-1.47299604e-05],\n",
       "       [-3.82167371e-05],\n",
       "       [-7.22612021e-05],\n",
       "       [-1.09925525e-05],\n",
       "       [-7.32271155e-05],\n",
       "       [-3.83089605e-05],\n",
       "       [-3.29955983e-05],\n",
       "       [-4.32648978e-05],\n",
       "       [-4.68437001e-05],\n",
       "       [-4.04393282e-05],\n",
       "       [-2.67814069e-05],\n",
       "       [-1.76363382e-05],\n",
       "       [-1.94383865e-05],\n",
       "       [-2.70635246e-05],\n",
       "       [-3.05092406e-05],\n",
       "       [-2.35631835e-05],\n",
       "       [-1.48750391e-05],\n",
       "       [-9.23441482e-06],\n",
       "       [-1.68036306e-05],\n",
       "       [-3.23303050e-05],\n",
       "       [-4.23449670e-05],\n",
       "       [-3.88301894e-05],\n",
       "       [-2.62582636e-05],\n",
       "       [-1.85345285e-05],\n",
       "       [-2.87462109e-05],\n",
       "       [-5.09098433e-05],\n",
       "       [-6.50349044e-05],\n",
       "       [-5.08255886e-05],\n",
       "       [-3.78843033e-06],\n",
       "       [ 5.67892481e-05],\n",
       "       [ 1.10524320e-04],\n",
       "       [ 1.55639129e-04],\n",
       "       [ 2.19518691e-04],\n",
       "       [ 3.43617331e-04],\n",
       "       [ 5.47301648e-04],\n",
       "       [ 8.15623470e-04],\n",
       "       [ 1.10704450e-03],\n",
       "       [ 1.39580542e-03],\n",
       "       [ 1.69917364e-03],\n",
       "       [ 2.07908613e-03],\n",
       "       [ 2.58281389e-03],\n",
       "       [ 3.18387898e-03]])"
      ]
     },
     "execution_count": 9,
     "metadata": {},
     "output_type": "execute_result"
    }
   ],
   "source": [
    "delta = lambda x, y: bsformula(1, lb+(ub-lb)*x, KC, r, T, y, 0)[1]\n",
    "delta(x_test, sigma) - f_prime"
   ]
  },
  {
   "cell_type": "markdown",
   "metadata": {},
   "source": [
    "## Compare the GP delta with the BS delta"
   ]
  },
  {
   "cell_type": "code",
   "execution_count": 10,
   "metadata": {},
   "outputs": [
    {
     "data": {
      "image/png": "[encoded data removed]",
      "text/plain": [
       "<matplotlib.figure.Figure at 0x7fc3dac85cc0>"
      ]
     },
     "metadata": {},
     "output_type": "display_data"
    }
   ],
   "source": [
    "plt.figure(figsize = (10,6),facecolor='white', edgecolor='black')\n",
    "plt.plot(lb+(ub-lb)*x_test, delta(x_test,sigma), color = 'black', label = 'Exact')\n",
    "plt.plot(lb+(ub-lb)*x_test, f_prime, color = 'red', label = 'GP')\n",
    "plt.grid(True)\n",
    "plt.xlabel('S')\n",
    "plt.ylabel('$\\Delta$')\n",
    "plt.legend(loc = 'best', prop={'size':10});"
   ]
  },
  {
   "cell_type": "markdown",
   "metadata": {},
   "source": [
    "## Show the error between the GP delta and the BS delta"
   ]
  },
  {
   "cell_type": "code",
   "execution_count": 11,
   "metadata": {},
   "outputs": [
    {
     "data": {
      "image/png": "[encoded data removed]",
      "text/plain": [
       "<matplotlib.figure.Figure at 0x7fc3d9e18b38>"
      ]
     },
     "metadata": {},
     "output_type": "display_data"
    }
   ],
   "source": [
    "plt.figure(figsize = (10,6),facecolor='white', edgecolor='black')\n",
    "plt.plot(lb+(ub-lb)*x_test, delta(x_test,sigma) - f_prime, color = 'black', label = 'GP Error')\n",
    "plt.grid(True)\n",
    "plt.xlabel('S')\n",
    "plt.ylabel('Error in $\\Delta$')\n",
    "plt.legend(loc = 'best', prop={'size':10});"
   ]
  },
  {
   "cell_type": "markdown",
   "metadata": {},
   "source": [
    "## Vega"
   ]
  },
  {
   "cell_type": "markdown",
   "metadata": {},
   "source": [
    "* Generate the training and testing data, where the input is the gridded underlying and the output are the option prices. \n",
    "* The inputs are again scaled to the unit domain. "
   ]
  },
  {
   "cell_type": "code",
   "execution_count": 12,
   "metadata": {},
   "outputs": [],
   "source": [
    "x_train = np.array(np.linspace(0.01, 1.2, training_number), dtype='float32').reshape(training_number, 1)\n",
    "x_test = np.array(np.linspace(0.01, 1.0, testing_number), dtype='float32').reshape(testing_number, 1)\n",
    "\n",
    "y_train = []\n",
    "for idx in range(len(x_train)):\n",
    "    y_train.append(call((S0-lb)/(ub-lb), x_train[idx]))\n",
    "y_train = np.array(y_train)"
   ]
  },
  {
   "cell_type": "markdown",
   "metadata": {},
   "source": [
    "Fit the GP model to the generated data"
   ]
  },
  {
   "cell_type": "code",
   "execution_count": 13,
   "metadata": {},
   "outputs": [
    {
     "data": {
      "text/plain": [
       "GaussianProcessRegressor(kernel=RBF(length_scale=1), n_restarts_optimizer=20)"
      ]
     },
     "execution_count": 13,
     "metadata": {},
     "output_type": "execute_result"
    }
   ],
   "source": [
    "sk_kernel = RBF(length_scale=1.0, length_scale_bounds=(0.01, 10000.0))\n",
    "gp = gaussian_process.GaussianProcessRegressor(kernel=sk_kernel, n_restarts_optimizer=20)\n",
    "gp.fit(x_train, y_train)"
   ]
  },
  {
   "cell_type": "markdown",
   "metadata": {},
   "source": [
    "## Get the model's predicted outputs for each of the test inputs"
   ]
  },
  {
   "cell_type": "code",
   "execution_count": 14,
   "metadata": {},
   "outputs": [
    {
     "name": "stderr",
     "output_type": "stream",
     "text": [
      "/usr/local/lib/python3.6/dist-packages/sklearn/gaussian_process/_gpr.py:370: UserWarning: Predicted variances smaller than 0. Setting those variances to 0.\n",
      "  warnings.warn(\"Predicted variances smaller than 0. \"\n"
     ]
    }
   ],
   "source": [
    "y_pred, sigma_hat = gp.predict(x_test, return_std=True)"
   ]
  },
  {
   "cell_type": "markdown",
   "metadata": {},
   "source": [
    "## Derive the GP vega"
   ]
  },
  {
   "cell_type": "code",
   "execution_count": 17,
   "metadata": {},
   "outputs": [
    {
     "name": "stderr",
     "output_type": "stream",
     "text": [
      "/usr/local/lib/python3.6/dist-packages/numpy/core/_asarray.py:83: VisibleDeprecationWarning: Creating an ndarray from ragged nested sequences (which is a list-or-tuple of lists-or-tuples-or ndarrays with different lengths or shapes) is deprecated. If you meant to do this, you must specify 'dtype=object' when creating the ndarray\n",
      "  return array(a, dtype, copy=False, order=order)\n"
     ]
    }
   ],
   "source": [
    "l = gp.kernel_.length_scale\n",
    "rbf = gaussian_process.kernels.RBF(length_scale=l)\n",
    " \n",
    "Kernel= rbf(x_train, x_train)\n",
    "K_y = Kernel + np.eye(training_number) * sigma_n\n",
    "L = sp.linalg.cho_factor(K_y)\n",
    "alpha_p = sp.linalg.cho_solve(np.transpose(L), y_train)\n",
    "    \n",
    "k_s = rbf(x_test, x_train)\n",
    "\n",
    "k_s_prime = np.zeros([len(x_test), len(x_train)])\n",
    "for i in range(len(x_test)):\n",
    "    for j in range(len(x_train)):\n",
    "        k_s_prime[i, j] = (1.0/l**2) * (x_train[j] - x_test[i]) * k_s[i, j]\n",
    "        \n",
    "f_prime = np.dot(k_s_prime, alpha_p)"
   ]
  },
  {
   "cell_type": "markdown",
   "metadata": {},
   "source": [
    "## Calculate the BS vega"
   ]
  },
  {
   "cell_type": "code",
   "execution_count": 18,
   "metadata": {},
   "outputs": [
    {
     "data": {
      "text/plain": [
       "array([[-0.02976497],\n",
       "       [-0.04088537],\n",
       "       [ 0.05650961],\n",
       "       [-0.01862286],\n",
       "       [ 0.07929726],\n",
       "       [-0.04356045],\n",
       "       [ 0.0141282 ],\n",
       "       [ 0.0549902 ],\n",
       "       [-0.02229726],\n",
       "       [ 0.01961521],\n",
       "       [ 0.02189037],\n",
       "       [ 0.00671363],\n",
       "       [ 0.00702096],\n",
       "       [ 0.01115929],\n",
       "       [ 0.00410982],\n",
       "       [ 0.0071057 ],\n",
       "       [ 0.01868945],\n",
       "       [ 0.00107479],\n",
       "       [-0.00254281],\n",
       "       [-0.00371633],\n",
       "       [-0.00267023],\n",
       "       [-0.00319543],\n",
       "       [-0.00088096],\n",
       "       [-0.00581987],\n",
       "       [-0.00521972],\n",
       "       [-0.00583219],\n",
       "       [-0.00462355],\n",
       "       [-0.00472223],\n",
       "       [-0.00372284],\n",
       "       [-0.00567935],\n",
       "       [-0.0025467 ],\n",
       "       [-0.00209934],\n",
       "       [-0.00235141],\n",
       "       [ 0.0006609 ],\n",
       "       [ 0.00159   ],\n",
       "       [-0.00203874],\n",
       "       [-0.00097373],\n",
       "       [ 0.00207862],\n",
       "       [-0.00063463],\n",
       "       [-0.00356933],\n",
       "       [ 0.00375744],\n",
       "       [-0.00283033],\n",
       "       [-0.01011117],\n",
       "       [-0.01430314],\n",
       "       [-0.02503132],\n",
       "       [-0.04477911],\n",
       "       [-0.06429683],\n",
       "       [-0.12263231],\n",
       "       [-0.13711686],\n",
       "       [-0.16173512]])"
      ]
     },
     "execution_count": 18,
     "metadata": {},
     "output_type": "execute_result"
    }
   ],
   "source": [
    "vega = lambda x, y: bsformula(1, lb + (ub-lb) * x, KC, r, T, y, 0)[2]\n",
    "vega((S0-lb)/(ub-lb), x_test) - f_prime"
   ]
  },
  {
   "cell_type": "markdown",
   "metadata": {},
   "source": [
    "## Compare the GP vega with the BS vega\n"
   ]
  },
  {
   "cell_type": "code",
   "execution_count": 19,
   "metadata": {},
   "outputs": [
    {
     "data": {
      "image/png": "[encoded data removed]",
      "text/plain": [
       "<matplotlib.figure.Figure at 0x7fc3d9d9ff98>"
      ]
     },
     "metadata": {},
     "output_type": "display_data"
    }
   ],
   "source": [
    "plt.figure(figsize = (10,6), facecolor='white', edgecolor='black')\n",
    "plt.plot(x_test, vega((S0-lb)/(ub-lb), x_test), color = 'black', label = 'Exact')\n",
    "plt.plot(x_test, f_prime, color = 'red', label = 'GP')\n",
    "plt.grid(True)\n",
    "plt.xlabel('$\\\\sigma$')\n",
    "plt.ylabel('$\\\\nu$')\n",
    "plt.legend(loc = 'best', prop={'size':10});"
   ]
  },
  {
   "cell_type": "markdown",
   "metadata": {},
   "source": [
    "Plot the error between the GP vega and the BS vega\n"
   ]
  },
  {
   "cell_type": "code",
   "execution_count": 20,
   "metadata": {
    "scrolled": true
   },
   "outputs": [
    {
     "data": {
      "image/png": "[encoded data removed]",
      "text/plain": [
       "<matplotlib.figure.Figure at 0x7fc3dbcaaa20>"
      ]
     },
     "metadata": {},
     "output_type": "display_data"
    }
   ],
   "source": [
    "plt.figure(figsize = (10,6), facecolor='white', edgecolor='black')\n",
    "plt.plot(x_test, vega((S0-lb)/(ub-lb), x_test)-f_prime, color = 'black', label = 'GP Error')\n",
    "plt.grid(True)\n",
    "plt.xlabel('$\\\\sigma$')\n",
    "plt.ylabel('Error in $\\\\nu$')\n",
    "plt.legend(loc = 'best', prop={'size':10});"
   ]
  }
 ],
 "metadata": {
  "kernelspec": {
   "display_name": "Python 3",
   "language": "python",
   "name": "python3"
  },
  "language_info": {
   "codemirror_mode": {
    "name": "ipython",
    "version": 3
   },
   "file_extension": ".py",
   "mimetype": "text/x-python",
   "name": "python",
   "nbconvert_exporter": "python",
   "pygments_lexer": "ipython3",
   "version": "3.6.9"
  }
 },
 "nbformat": 4,
 "nbformat_minor": 4
}
