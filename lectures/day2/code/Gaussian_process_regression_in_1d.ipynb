{
 "cells": [
  {
   "cell_type": "markdown",
   "id": "2c76605f",
   "metadata": {},
   "source": [
    "# Gaussian Processes Regression (GPR) in 1 dimension - a simple example"
   ]
  },
  {
   "cell_type": "code",
   "execution_count": 1,
   "id": "4d1da4df",
   "metadata": {},
   "outputs": [],
   "source": [
    "import numpy as np\n",
    "import matplotlib.pyplot as pl\n",
    "%matplotlib inline"
   ]
  },
  {
   "cell_type": "markdown",
   "id": "dfdbcba4",
   "metadata": {},
   "source": [
    "* This notebook provdies a simple code example to illustrate the workings of GP regression in 1d. \n",
    "\n",
    "* It is supplementary material to Section 4.2. of the paper [Machine Learning for Dynamic Incentive Problems](https://papers.ssrn.com/sol3/papers.cfm?abstract_id=3282487) by [P. Renner](https://www.lancaster.ac.uk/lums/people/philipp-renner), [S. Scheidegger](https://sites.google.com/site/simonscheidegger/home)"
   ]
  },
  {
   "cell_type": "markdown",
   "id": "d9be03a2",
   "metadata": {},
   "source": [
    "## Basic example in 1d\n",
    "\n",
    "* We assume a zero mean GP Prior, and choose the hyperparamters of the GP manually. \n",
    "\n",
    "* For more details, see Rasmussen et al's (2005) book [Gaussian Processes](http://gaussianprocess.org/gpml/chapters/RW.pdf), and Murphy's (2012) book [Machine Learning: a Probabilistic Perspective](https://probml.github.io/pml-book/book0.html), chapter 15.\n",
    "\n",
    "* We first choose is the true unknown, one-dimensional function we are trying to approximate."
   ]
  },
  {
   "cell_type": "code",
   "execution_count": 2,
   "id": "792f0865",
   "metadata": {},
   "outputs": [],
   "source": [
    "f = lambda x: np.sin(0.9*x).flatten()"
   ]
  },
  {
   "cell_type": "markdown",
   "id": "6aac5f25",
   "metadata": {},
   "source": [
    "Next, we define the kernel function"
   ]
  },
  {
   "cell_type": "code",
   "execution_count": 3,
   "id": "ca805c17",
   "metadata": {},
   "outputs": [],
   "source": [
    "def kernel_function(a, b):\n",
    "    \"\"\" GP squared exponential kernel function \"\"\"\n",
    "    kernelParameter = 1.0\n",
    "    sqdist = np.sum(a**2,1).reshape(-1,1) + np.sum(b**2,1) - 2*np.dot(a, b.T)\n",
    "    return np.exp(-.5 * (1/kernelParameter) * sqdist)"
   ]
  },
  {
   "cell_type": "markdown",
   "id": "d254604c",
   "metadata": {},
   "source": [
    "Now, here we choose then number of training and test data, and set the variance of the noise"
   ]
  },
  {
   "cell_type": "code",
   "execution_count": 4,
   "id": "1451f9ee",
   "metadata": {},
   "outputs": [],
   "source": [
    "N = 10         # number of training points.\n",
    "n = 50         # number of test points.\n",
    "s = 0.00005    # noise variance."
   ]
  },
  {
   "cell_type": "markdown",
   "id": "5c6cb1fb",
   "metadata": {},
   "source": [
    "Next, we sample some input points and noisy versions of the function evaluated at these points "
   ]
  },
  {
   "cell_type": "code",
   "execution_count": 5,
   "id": "918ef254",
   "metadata": {},
   "outputs": [],
   "source": [
    "X = np.random.uniform(-5, 5, size=(N,1))\n",
    "y = f(X) + s*np.random.randn(N)  #add some noise"
   ]
  },
  {
   "cell_type": "markdown",
   "id": "c628fd37",
   "metadata": {},
   "source": [
    "Now we follow [Murphy's (2012) book](https://probml.github.io/pml-book/book0.html), chapter 15, Algorithim 15 to obtain a numerically stable GPR."
   ]
  },
  {
   "cell_type": "code",
   "execution_count": 6,
   "id": "4d966548",
   "metadata": {},
   "outputs": [],
   "source": [
    "K = kernel_function(X, X)\n",
    "L = np.linalg.cholesky(K + s*np.eye(N))\n",
    "\n",
    "# points we're going to make predictions at.\n",
    "TestPoint = np.linspace(-5, 5, n).reshape(-1,1)\n",
    "\n",
    "# compute the mean at our test points.\n",
    "Lk = np.linalg.solve(L, kernel_function(X, TestPoint))\n",
    "mu = np.dot(Lk.T, np.linalg.solve(L, y))\n",
    "\n",
    "# compute the variance at our test points.\n",
    "K_ = kernel_function(TestPoint, TestPoint)\n",
    "s2 = np.diag(K_) - np.sum(Lk**2, axis=0)\n",
    "s =  np.sqrt(s2)"
   ]
  },
  {
   "cell_type": "markdown",
   "id": "9a14df65",
   "metadata": {},
   "source": [
    "Next, we plot the true function, and compare it to the predictive mean of the GP. Furthermore, we display the uncertainty band (2 std) around it. "
   ]
  },
  {
   "cell_type": "code",
   "execution_count": 7,
   "id": "e48b0176",
   "metadata": {},
   "outputs": [
    {
     "data": {
      "text/plain": [
       "(-5.0, 5.0, -3.0, 3.0)"
      ]
     },
     "execution_count": 7,
     "metadata": {},
     "output_type": "execute_result"
    },
    {
     "data": {
      "image/png": "[encoded data removed]",
      "text/plain": [
       "<Figure size 432x288 with 1 Axes>"
      ]
     },
     "metadata": {
      "needs_background": "light"
     },
     "output_type": "display_data"
    }
   ],
   "source": [
    "# PLOTS:\n",
    "pl.figure(1)\n",
    "pl.clf()\n",
    "pl.plot(X, y, 'r+', ms=20)\n",
    "pl.plot(TestPoint, f(TestPoint), 'b-')\n",
    "pl.gca().fill_between(TestPoint.flat, mu-2*s, mu+2*s, color=\"#dddddd\")\n",
    "pl.plot(TestPoint, mu, 'r--', lw=2)\n",
    "pl.savefig('draw_prediction.png', bbox_inches='tight')\n",
    "pl.title('Mean predictions +/- 2 st.deviations')\n",
    "pl.axis([-5, 5, -3, 3])"
   ]
  }
 ],
 "metadata": {
  "kernelspec": {
   "display_name": "Python 3 (ipykernel)",
   "language": "python",
   "name": "python3"
  },
  "language_info": {
   "codemirror_mode": {
    "name": "ipython",
    "version": 3
   },
   "file_extension": ".py",
   "mimetype": "text/x-python",
   "name": "python",
   "nbconvert_exporter": "python",
   "pygments_lexer": "ipython3",
   "version": "3.9.7"
  }
 },
 "nbformat": 4,
 "nbformat_minor": 5
}
