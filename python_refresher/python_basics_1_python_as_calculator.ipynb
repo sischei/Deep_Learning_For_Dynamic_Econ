{
 "cells": [
  {
   "cell_type": "markdown",
   "metadata": {
    "id": "IYSYmzkM6AbL"
   },
   "source": [
    "# Python Basics 1: Python as a Calculator\n",
    "\n",
    "Let's see how Python can do basic mathematics.\n",
    "\n",
    "## Addition, multiplication, exponentiation, division, etc.\n",
    "Here are some examples. Try to guess the result before your run them. You can run the code either by clicking on the \"Run\" button or by pressing \"Shift+Enter.\""
   ]
  },
  {
   "cell_type": "code",
   "execution_count": 1,
   "metadata": {
    "id": "JMSdRHvE6AbS"
   },
   "outputs": [
    {
     "data": {
      "text/plain": [
       "3"
      ]
     },
     "execution_count": 1,
     "metadata": {},
     "output_type": "execute_result"
    }
   ],
   "source": [
    "1 + 2"
   ]
  },
  {
   "cell_type": "code",
   "execution_count": 2,
   "metadata": {
    "id": "u5Vbgvcd6AbV"
   },
   "outputs": [
    {
     "data": {
      "text/plain": [
       "6"
      ]
     },
     "execution_count": 2,
     "metadata": {},
     "output_type": "execute_result"
    }
   ],
   "source": [
    "1 + 2 + 3"
   ]
  },
  {
   "cell_type": "code",
   "execution_count": 3,
   "metadata": {
    "id": "88zTKDxv6AbW"
   },
   "outputs": [
    {
     "data": {
      "text/plain": [
       "6"
      ]
     },
     "execution_count": 3,
     "metadata": {},
     "output_type": "execute_result"
    }
   ],
   "source": [
    "1 + (2 + 3)"
   ]
  },
  {
   "cell_type": "code",
   "execution_count": 4,
   "metadata": {
    "id": "2B77jvNT6AbX"
   },
   "outputs": [
    {
     "data": {
      "text/plain": [
       "6"
      ]
     },
     "execution_count": 4,
     "metadata": {},
     "output_type": "execute_result"
    }
   ],
   "source": [
    "2 * 3"
   ]
  },
  {
   "cell_type": "code",
   "execution_count": 5,
   "metadata": {
    "id": "zjXncldZ6AbY"
   },
   "outputs": [
    {
     "data": {
      "text/plain": [
       "14"
      ]
     },
     "execution_count": 5,
     "metadata": {},
     "output_type": "execute_result"
    }
   ],
   "source": [
    "2 * (3 + 4)"
   ]
  },
  {
   "cell_type": "markdown",
   "metadata": {
    "id": "NG9v9jFD6AbZ"
   },
   "source": [
    "That was easy... The only thing to remember here is that whatever you enclose in parentheses is evaluated first. Just like regular mathematics.\n",
    "\n",
    "The addition ``+`` and the multiplication ``*`` are called *binary operators*.\n",
    "Let's continue see some more binary operators. Just like before, try to guess the result before you run the code."
   ]
  },
  {
   "cell_type": "code",
   "execution_count": 6,
   "metadata": {
    "id": "wa6JwgS96Aba"
   },
   "outputs": [
    {
     "data": {
      "text/plain": [
       "8"
      ]
     },
     "execution_count": 6,
     "metadata": {},
     "output_type": "execute_result"
    }
   ],
   "source": [
    "2 ** 3"
   ]
  },
  {
   "cell_type": "code",
   "execution_count": 7,
   "metadata": {
    "id": "oBstlGVv6Aba"
   },
   "outputs": [
    {
     "data": {
      "text/plain": [
       "25"
      ]
     },
     "execution_count": 7,
     "metadata": {},
     "output_type": "execute_result"
    }
   ],
   "source": [
    "5 ** 2"
   ]
  },
  {
   "cell_type": "code",
   "execution_count": 8,
   "metadata": {
    "id": "rUV6KWNE6Abc"
   },
   "outputs": [
    {
     "data": {
      "text/plain": [
       "9"
      ]
     },
     "execution_count": 8,
     "metadata": {},
     "output_type": "execute_result"
    }
   ],
   "source": [
    "(1 + 2) ** 2"
   ]
  },
  {
   "cell_type": "markdown",
   "metadata": {
    "id": "Mr-MgG6z6Abd"
   },
   "source": [
    "So, the binary operator ``**`` exponentiates. Remember this. It is different than Matlab.\n",
    "\n",
    "Here is another binary operator:"
   ]
  },
  {
   "cell_type": "code",
   "execution_count": 9,
   "metadata": {
    "id": "dlSGC0UW6Abe"
   },
   "outputs": [
    {
     "data": {
      "text/plain": [
       "0.6666666666666666"
      ]
     },
     "execution_count": 9,
     "metadata": {},
     "output_type": "execute_result"
    }
   ],
   "source": [
    "2 / 3"
   ]
  },
  {
   "cell_type": "code",
   "execution_count": 10,
   "metadata": {
    "id": "ZR0vAE666Abe"
   },
   "outputs": [
    {
     "data": {
      "text/plain": [
       "0.5"
      ]
     },
     "execution_count": 10,
     "metadata": {},
     "output_type": "execute_result"
    }
   ],
   "source": [
    "1 / 2"
   ]
  },
  {
   "cell_type": "code",
   "execution_count": 11,
   "metadata": {
    "id": "h8cTHKjC6Abf"
   },
   "outputs": [
    {
     "data": {
      "text/plain": [
       "0.2"
      ]
     },
     "execution_count": 11,
     "metadata": {},
     "output_type": "execute_result"
    }
   ],
   "source": [
    "5 / (2 + 3) ** 2"
   ]
  },
  {
   "cell_type": "markdown",
   "metadata": {
    "id": "UV_0xeCQ6Abg"
   },
   "source": [
    "Okay, let's now divide with zero:"
   ]
  },
  {
   "cell_type": "code",
   "execution_count": 12,
   "metadata": {
    "id": "UPNo8vX46Abh"
   },
   "outputs": [
    {
     "ename": "ZeroDivisionError",
     "evalue": "division by zero",
     "output_type": "error",
     "traceback": [
      "\u001b[0;31m---------------------------------------------------------------------------\u001b[0m",
      "\u001b[0;31mZeroDivisionError\u001b[0m                         Traceback (most recent call last)",
      "\u001b[0;32m/tmp/ipykernel_20447/1455669704.py\u001b[0m in \u001b[0;36m<module>\u001b[0;34m\u001b[0m\n\u001b[0;32m----> 1\u001b[0;31m \u001b[0;36m1\u001b[0m \u001b[0;34m/\u001b[0m \u001b[0;36m0\u001b[0m\u001b[0;34m\u001b[0m\u001b[0;34m\u001b[0m\u001b[0m\n\u001b[0m",
      "\u001b[0;31mZeroDivisionError\u001b[0m: division by zero"
     ]
    }
   ],
   "source": [
    "1 / 0"
   ]
  },
  {
   "cell_type": "markdown",
   "metadata": {
    "id": "Ic-8JI8_6Abh"
   },
   "source": [
    "Oops... This is how error messages look in Python. You need to get used to reading them. Look what it says: ``ZeroDivisionErro``. Well, it's obvious what it means. Note also this ``----> 1 1 / 0``. The first number is the line number of the code block in which the error occured. Let's put the error a little bit further into the code, to see if that changes:"
   ]
  },
  {
   "cell_type": "code",
   "execution_count": 13,
   "metadata": {
    "id": "1ROKel8L6Abi"
   },
   "outputs": [
    {
     "ename": "ZeroDivisionError",
     "evalue": "division by zero",
     "output_type": "error",
     "traceback": [
      "\u001b[0;31m---------------------------------------------------------------------------\u001b[0m",
      "\u001b[0;31mZeroDivisionError\u001b[0m                         Traceback (most recent call last)",
      "\u001b[0;32m/tmp/ipykernel_20447/4138437632.py\u001b[0m in \u001b[0;36m<module>\u001b[0;34m\u001b[0m\n\u001b[1;32m      1\u001b[0m \u001b[0;31m# A comment line\u001b[0m\u001b[0;34m\u001b[0m\u001b[0;34m\u001b[0m\u001b[0m\n\u001b[1;32m      2\u001b[0m \u001b[0;31m# Another comment line\u001b[0m\u001b[0;34m\u001b[0m\u001b[0;34m\u001b[0m\u001b[0m\n\u001b[0;32m----> 3\u001b[0;31m \u001b[0;36m1\u001b[0m \u001b[0;34m/\u001b[0m \u001b[0;36m0\u001b[0m \u001b[0;31m# the error line (by the way, this is another way to write comments)\u001b[0m\u001b[0;34m\u001b[0m\u001b[0;34m\u001b[0m\u001b[0m\n\u001b[0m",
      "\u001b[0;31mZeroDivisionError\u001b[0m: division by zero"
     ]
    }
   ],
   "source": [
    "# A comment line\n",
    "# Another comment line\n",
    "1 / 0 # the error line (by the way, this is another way to write comments)"
   ]
  },
  {
   "cell_type": "markdown",
   "metadata": {
    "id": "h1aD4L7s6Abj"
   },
   "source": [
    "Notice that the error now appears in the third line. **Read the errors.**\n",
    "\n",
    "The binary operator ``/`` is the division operator. What if we wanted integer division? Then you need to use the ``//`` operator:"
   ]
  },
  {
   "cell_type": "code",
   "execution_count": 14,
   "metadata": {
    "id": "eloscH786Abk"
   },
   "outputs": [
    {
     "data": {
      "text/plain": [
       "1"
      ]
     },
     "execution_count": 14,
     "metadata": {},
     "output_type": "execute_result"
    }
   ],
   "source": [
    "3 // 2"
   ]
  },
  {
   "cell_type": "code",
   "execution_count": 15,
   "metadata": {
    "id": "OcBJ56RX6Abk"
   },
   "outputs": [
    {
     "data": {
      "text/plain": [
       "4"
      ]
     },
     "execution_count": 15,
     "metadata": {},
     "output_type": "execute_result"
    }
   ],
   "source": [
    "9 // 2"
   ]
  },
  {
   "cell_type": "code",
   "execution_count": 16,
   "metadata": {
    "id": "Go5gudBa6Abl"
   },
   "outputs": [
    {
     "data": {
      "text/plain": [
       "1"
      ]
     },
     "execution_count": 16,
     "metadata": {},
     "output_type": "execute_result"
    }
   ],
   "source": [
    "6 // 4"
   ]
  },
  {
   "cell_type": "markdown",
   "metadata": {
    "id": "P7TvLgMq6Abm"
   },
   "source": [
    "Integer division by zero?"
   ]
  },
  {
   "cell_type": "code",
   "execution_count": 17,
   "metadata": {
    "id": "kCMgW3jy6Abm"
   },
   "outputs": [
    {
     "ename": "ZeroDivisionError",
     "evalue": "integer division or modulo by zero",
     "output_type": "error",
     "traceback": [
      "\u001b[0;31m---------------------------------------------------------------------------\u001b[0m",
      "\u001b[0;31mZeroDivisionError\u001b[0m                         Traceback (most recent call last)",
      "\u001b[0;32m/tmp/ipykernel_20447/914108395.py\u001b[0m in \u001b[0;36m<module>\u001b[0;34m\u001b[0m\n\u001b[0;32m----> 1\u001b[0;31m \u001b[0;36m1\u001b[0m \u001b[0;34m//\u001b[0m \u001b[0;36m0\u001b[0m\u001b[0;34m\u001b[0m\u001b[0;34m\u001b[0m\u001b[0m\n\u001b[0m",
      "\u001b[0;31mZeroDivisionError\u001b[0m: integer division or modulo by zero"
     ]
    }
   ],
   "source": [
    "1 // 0"
   ]
  },
  {
   "cell_type": "markdown",
   "metadata": {
    "id": "mc6g2lWK6Abn"
   },
   "source": [
    "What about the remainder of the division. This is the so-called modulo operator ``%``.\n",
    "Guess the result of the following:"
   ]
  },
  {
   "cell_type": "code",
   "execution_count": 18,
   "metadata": {
    "id": "N2qfQCSl6Abn"
   },
   "outputs": [
    {
     "data": {
      "text/plain": [
       "1"
      ]
     },
     "execution_count": 18,
     "metadata": {},
     "output_type": "execute_result"
    }
   ],
   "source": [
    "3 % 2"
   ]
  },
  {
   "cell_type": "code",
   "execution_count": 19,
   "metadata": {
    "id": "ryjSp_O-6Abn"
   },
   "outputs": [
    {
     "data": {
      "text/plain": [
       "1"
      ]
     },
     "execution_count": 19,
     "metadata": {},
     "output_type": "execute_result"
    }
   ],
   "source": [
    "9 % 2"
   ]
  },
  {
   "cell_type": "code",
   "execution_count": 20,
   "metadata": {
    "id": "Eumhiucc6Abo"
   },
   "outputs": [
    {
     "data": {
      "text/plain": [
       "2"
      ]
     },
     "execution_count": 20,
     "metadata": {},
     "output_type": "execute_result"
    }
   ],
   "source": [
    "6 % 4"
   ]
  },
  {
   "cell_type": "code",
   "execution_count": 21,
   "metadata": {
    "id": "wzgrQOX96Abo"
   },
   "outputs": [
    {
     "data": {
      "text/plain": [
       "0"
      ]
     },
     "execution_count": 21,
     "metadata": {},
     "output_type": "execute_result"
    }
   ],
   "source": [
    "6 % 2"
   ]
  },
  {
   "cell_type": "markdown",
   "metadata": {
    "id": "sGdI1FhK6Abp"
   },
   "source": [
    "Let's divide by zero again:"
   ]
  },
  {
   "cell_type": "code",
   "execution_count": 22,
   "metadata": {
    "id": "1ZR73ZJD6Abp"
   },
   "outputs": [
    {
     "ename": "ZeroDivisionError",
     "evalue": "integer division or modulo by zero",
     "output_type": "error",
     "traceback": [
      "\u001b[0;31m---------------------------------------------------------------------------\u001b[0m",
      "\u001b[0;31mZeroDivisionError\u001b[0m                         Traceback (most recent call last)",
      "\u001b[0;32m/tmp/ipykernel_20447/1190083839.py\u001b[0m in \u001b[0;36m<module>\u001b[0;34m\u001b[0m\n\u001b[0;32m----> 1\u001b[0;31m \u001b[0;36m10\u001b[0m \u001b[0;34m%\u001b[0m \u001b[0;36m0\u001b[0m\u001b[0;34m\u001b[0m\u001b[0;34m\u001b[0m\u001b[0m\n\u001b[0m",
      "\u001b[0;31mZeroDivisionError\u001b[0m: integer division or modulo by zero"
     ]
    }
   ],
   "source": [
    "10 % 0"
   ]
  },
  {
   "cell_type": "markdown",
   "metadata": {
    "id": "WraxPog-6Abq"
   },
   "source": [
    "What about negative numbers? Sure:"
   ]
  },
  {
   "cell_type": "code",
   "execution_count": 23,
   "metadata": {
    "id": "ulpYYIDA6Abq"
   },
   "outputs": [
    {
     "data": {
      "text/plain": [
       "-4"
      ]
     },
     "execution_count": 23,
     "metadata": {},
     "output_type": "execute_result"
    }
   ],
   "source": [
    "-4"
   ]
  },
  {
   "cell_type": "code",
   "execution_count": 24,
   "metadata": {
    "id": "ti7Nph-W6Abq"
   },
   "outputs": [
    {
     "data": {
      "text/plain": [
       "1"
      ]
     },
     "execution_count": 24,
     "metadata": {},
     "output_type": "execute_result"
    }
   ],
   "source": [
    "-4 + 5"
   ]
  },
  {
   "cell_type": "code",
   "execution_count": 25,
   "metadata": {
    "id": "hderXrSk6Abq"
   },
   "outputs": [
    {
     "data": {
      "text/plain": [
       "0"
      ]
     },
     "execution_count": 25,
     "metadata": {},
     "output_type": "execute_result"
    }
   ],
   "source": [
    "-5 + 5"
   ]
  },
  {
   "cell_type": "markdown",
   "metadata": {
    "id": "g1NjFl6R6Abr"
   },
   "source": [
    "## Questions\n",
    "\n",
    "+ In the code block provided below evaluate the dot product of the vectors:\n",
    "$$\n",
    "\\vec{r}_1 = 4\\hat{i} + 3.5\\hat{j} + 2.5\\hat{k},\n",
    "$$\n",
    "and\n",
    "$$\n",
    "\\vec{r}_2 = 1.5\\hat{i} + 2.5\\hat{j}.\n",
    "$$\n",
    "Remembet that the dot product of two vectors is:\n",
    "$$\n",
    "\\vec{r}_1\\cdot \\vec{r}_2 = x_1x_2 + y_1y_2 + z_1z_2.\n",
    "$$"
   ]
  },
  {
   "cell_type": "code",
   "execution_count": 26,
   "metadata": {
    "id": "NV8YHAit6Abr"
   },
   "outputs": [],
   "source": [
    "# Your code here (by the way, this is how Python comments look like!)\n"
   ]
  },
  {
   "cell_type": "markdown",
   "metadata": {
    "id": "KousI0sg6Abr"
   },
   "source": [
    "## Scientific notation\n",
    "\n",
    "You can use scientific notation to define numbers in Python.\n",
    "For example:"
   ]
  },
  {
   "cell_type": "code",
   "execution_count": 27,
   "metadata": {
    "id": "i9nBzrcm6Abs"
   },
   "outputs": [
    {
     "data": {
      "text/plain": [
       "0.1"
      ]
     },
     "execution_count": 27,
     "metadata": {},
     "output_type": "execute_result"
    }
   ],
   "source": [
    "1e-1"
   ]
  },
  {
   "cell_type": "code",
   "execution_count": 28,
   "metadata": {
    "id": "87lyBSxx6Abs"
   },
   "outputs": [
    {
     "data": {
      "text/plain": [
       "0.0025"
      ]
     },
     "execution_count": 28,
     "metadata": {},
     "output_type": "execute_result"
    }
   ],
   "source": [
    "2.5e-3"
   ]
  },
  {
   "cell_type": "markdown",
   "metadata": {
    "id": "wX4MixXh6Abs"
   },
   "source": [
    "## Rounding numbers\n",
    "\n",
    "Very often we want to round numbers.\n",
    "Here is how:"
   ]
  },
  {
   "cell_type": "code",
   "execution_count": 29,
   "metadata": {
    "id": "SOZwIMeK6Abs"
   },
   "outputs": [
    {
     "data": {
      "text/plain": [
       "2"
      ]
     },
     "execution_count": 29,
     "metadata": {},
     "output_type": "execute_result"
    }
   ],
   "source": [
    "round(2.24345)"
   ]
  },
  {
   "cell_type": "code",
   "execution_count": 30,
   "metadata": {
    "id": "X_vzjYsX6Abt"
   },
   "outputs": [
    {
     "data": {
      "text/plain": [
       "2.234"
      ]
     },
     "execution_count": 30,
     "metadata": {},
     "output_type": "execute_result"
    }
   ],
   "source": [
    "round(2.233535, 3)"
   ]
  },
  {
   "cell_type": "markdown",
   "metadata": {
    "id": "ARyWLdZj6Abt"
   },
   "source": [
    "How does ``round`` work? You can use the ``help`` to figure it out:"
   ]
  },
  {
   "cell_type": "code",
   "execution_count": 31,
   "metadata": {
    "id": "vRS03Wsc6Abt"
   },
   "outputs": [
    {
     "name": "stdout",
     "output_type": "stream",
     "text": [
      "Help on built-in function round in module builtins:\n",
      "\n",
      "round(number, ndigits=None)\n",
      "    Round a number to a given precision in decimal digits.\n",
      "    \n",
      "    The return value is an integer if ndigits is omitted or None.  Otherwise\n",
      "    the return value has the same type as the number.  ndigits may be negative.\n",
      "\n"
     ]
    }
   ],
   "source": [
    "help(round)"
   ]
  },
  {
   "cell_type": "markdown",
   "metadata": {
    "id": "E0g8uw4Y6Abt"
   },
   "source": [
    "``round()`` is our first example of a **Python function**. As a matter of fact, it is a **built-in Python function**. We will learn quite a few of them (but not all) during these hands-on activities. By the way ``help()`` is another Python function."
   ]
  },
  {
   "cell_type": "markdown",
   "metadata": {
    "id": "f06Wd4vf6Abt"
   },
   "source": [
    "## Standard mathematical functions \n",
    "\n",
    "Python has some built in functions.\n",
    "They are organized in a **python module** called ``math``.\n",
    "Here is how you can **import** the functionality of the ``math`` module.\n",
    "You just do:"
   ]
  },
  {
   "cell_type": "code",
   "execution_count": 32,
   "metadata": {
    "id": "-AbV9dAC6Abu"
   },
   "outputs": [],
   "source": [
    "import math"
   ]
  },
  {
   "cell_type": "markdown",
   "metadata": {
    "id": "8ew3pQXc6Abu"
   },
   "source": [
    "Now you can use ``math``.\n",
    "Here is how:"
   ]
  },
  {
   "cell_type": "code",
   "execution_count": 33,
   "metadata": {
    "id": "HYxIXcGa6Abu"
   },
   "outputs": [
    {
     "data": {
      "text/plain": [
       "3.141592653589793"
      ]
     },
     "execution_count": 33,
     "metadata": {},
     "output_type": "execute_result"
    }
   ],
   "source": [
    "math.pi"
   ]
  },
  {
   "cell_type": "code",
   "execution_count": 34,
   "metadata": {
    "id": "rqQ7NZrR6Abv"
   },
   "outputs": [
    {
     "data": {
      "text/plain": [
       "0.0"
      ]
     },
     "execution_count": 34,
     "metadata": {},
     "output_type": "execute_result"
    }
   ],
   "source": [
    "math.sin(0.0)"
   ]
  },
  {
   "cell_type": "code",
   "execution_count": 35,
   "metadata": {
    "id": "zrjcXGaK6Abv"
   },
   "outputs": [
    {
     "data": {
      "text/plain": [
       "1.0"
      ]
     },
     "execution_count": 35,
     "metadata": {},
     "output_type": "execute_result"
    }
   ],
   "source": [
    "math.sin(math.pi / 2)"
   ]
  },
  {
   "cell_type": "code",
   "execution_count": 36,
   "metadata": {
    "id": "7OsibqZH6Abw"
   },
   "outputs": [
    {
     "data": {
      "text/plain": [
       "0.5000000000000001"
      ]
     },
     "execution_count": 36,
     "metadata": {},
     "output_type": "execute_result"
    }
   ],
   "source": [
    "math.cos(math.pi / 3)"
   ]
  },
  {
   "cell_type": "code",
   "execution_count": 37,
   "metadata": {
    "id": "KuK2Q-_k6Abw"
   },
   "outputs": [
    {
     "data": {
      "text/plain": [
       "1.0"
      ]
     },
     "execution_count": 37,
     "metadata": {},
     "output_type": "execute_result"
    }
   ],
   "source": [
    "math.cos(math.pi / 3) ** 2 + math.sin(math.pi / 3) ** 2"
   ]
  },
  {
   "cell_type": "code",
   "execution_count": 38,
   "metadata": {
    "id": "fXPTekUT6Abw"
   },
   "outputs": [
    {
     "data": {
      "text/plain": [
       "1.4142135623730951"
      ]
     },
     "execution_count": 38,
     "metadata": {},
     "output_type": "execute_result"
    }
   ],
   "source": [
    "math.sqrt(2)"
   ]
  },
  {
   "cell_type": "code",
   "execution_count": 39,
   "metadata": {
    "id": "b-HmTCHw6Abw"
   },
   "outputs": [
    {
     "data": {
      "text/plain": [
       "2.0000000000000004"
      ]
     },
     "execution_count": 39,
     "metadata": {},
     "output_type": "execute_result"
    }
   ],
   "source": [
    "math.sqrt(2) ** 2"
   ]
  },
  {
   "cell_type": "markdown",
   "metadata": {
    "id": "Eh2s425H6Abx"
   },
   "source": [
    "Note that some of the results are not coming out exactly right. There is a bit of error. This are called *floating point errors* or *numerical errors*. Get used to them..."
   ]
  },
  {
   "cell_type": "code",
   "execution_count": null,
   "metadata": {
    "id": "G6o5yHCe6Abx"
   },
   "outputs": [],
   "source": [
    "math.tan(math.pi / 3)"
   ]
  },
  {
   "cell_type": "code",
   "execution_count": null,
   "metadata": {
    "id": "yHlXRK4t6Aby"
   },
   "outputs": [],
   "source": [
    "math.sin(math.pi / 3) / math.cos(math.pi / 3)"
   ]
  },
  {
   "cell_type": "markdown",
   "metadata": {
    "id": "nXBxqStT6Aby"
   },
   "source": [
    "We saw how we can get $\\pi$. How about $e$?"
   ]
  },
  {
   "cell_type": "code",
   "execution_count": null,
   "metadata": {
    "id": "c4ax3HNx6Abz"
   },
   "outputs": [],
   "source": [
    "math.e"
   ]
  },
  {
   "cell_type": "markdown",
   "metadata": {
    "id": "9kT1JDI76Abz"
   },
   "source": [
    "What about $e^2$? You should use the ``math.exp`` function in this case:"
   ]
  },
  {
   "cell_type": "code",
   "execution_count": null,
   "metadata": {
    "id": "NQXVcZXH6Abz"
   },
   "outputs": [],
   "source": [
    "math.exp(2.0)"
   ]
  },
  {
   "cell_type": "code",
   "execution_count": null,
   "metadata": {
    "id": "Cs6XGog06Ab0"
   },
   "outputs": [],
   "source": [
    "math.exp(-2.0)"
   ]
  },
  {
   "cell_type": "code",
   "execution_count": null,
   "metadata": {
    "id": "vF2j_Yl-6Ab0"
   },
   "outputs": [],
   "source": [
    "1 / math.exp(-2.0)"
   ]
  },
  {
   "cell_type": "markdown",
   "metadata": {
    "id": "E-RgR3k86Ab0"
   },
   "source": [
    "What happes to $e^x$ when $x$ is too big?"
   ]
  },
  {
   "cell_type": "code",
   "execution_count": null,
   "metadata": {
    "id": "yjOcFfaj6Ab1"
   },
   "outputs": [],
   "source": [
    "math.exp(10)"
   ]
  },
  {
   "cell_type": "code",
   "execution_count": null,
   "metadata": {
    "id": "eXlVF7JE6Ab1"
   },
   "outputs": [],
   "source": [
    "math.exp(100)"
   ]
  },
  {
   "cell_type": "code",
   "execution_count": null,
   "metadata": {
    "id": "7yal79go6Ab1"
   },
   "outputs": [],
   "source": [
    "math.exp(1000)"
   ]
  },
  {
   "cell_type": "markdown",
   "metadata": {
    "id": "WvuJzIIZ6Ab2"
   },
   "source": [
    "Oops... It doesn't handle this very well... An ``OverflowError``.\n",
    "\n",
    "Anyway, if you want to learn more about what is in ``math`` go [here](https://docs.python.org/3/library/math.html) (or just Google \"Python math\").\n",
    "Alterantively, you could use the ``help`` command:"
   ]
  },
  {
   "cell_type": "code",
   "execution_count": null,
   "metadata": {
    "id": "FayhXiHK6Ab2"
   },
   "outputs": [],
   "source": [
    "help(math)"
   ]
  },
  {
   "cell_type": "markdown",
   "metadata": {
    "id": "QZgsOhzD6Ab2"
   },
   "source": [
    "The interesting thing to notice in the help is at the very end.\n",
    "There are several special numbers defined.\n",
    "What is ``inf``?"
   ]
  },
  {
   "cell_type": "code",
   "execution_count": null,
   "metadata": {
    "id": "uW2bBNMe6Ab3"
   },
   "outputs": [],
   "source": [
    "math.inf"
   ]
  },
  {
   "cell_type": "code",
   "execution_count": null,
   "metadata": {
    "id": "eKmHEyLD6Ab3"
   },
   "outputs": [],
   "source": [
    "1 / math.inf"
   ]
  },
  {
   "cell_type": "code",
   "execution_count": null,
   "metadata": {
    "id": "x726-bI-6Ab3"
   },
   "outputs": [],
   "source": [
    "math.exp(math.inf)"
   ]
  },
  {
   "cell_type": "code",
   "execution_count": null,
   "metadata": {
    "id": "jZufAWf_6Ab3"
   },
   "outputs": [],
   "source": [
    "math.exp(-math.inf)"
   ]
  },
  {
   "cell_type": "code",
   "execution_count": null,
   "metadata": {
    "id": "zBSSRSY36Ab4"
   },
   "outputs": [],
   "source": [
    "math.inf + math.inf"
   ]
  },
  {
   "cell_type": "code",
   "execution_count": null,
   "metadata": {
    "id": "TqDClXhh6Ab4"
   },
   "outputs": [],
   "source": [
    "- math.inf"
   ]
  },
  {
   "cell_type": "markdown",
   "metadata": {
    "id": "w5oaC1116Ab4"
   },
   "source": [
    "Can you guess what it is? Let's try something that will break it:"
   ]
  },
  {
   "cell_type": "code",
   "execution_count": null,
   "metadata": {
    "id": "ayg-aoX46Ab4"
   },
   "outputs": [],
   "source": [
    "math.inf - math.inf"
   ]
  },
  {
   "cell_type": "markdown",
   "metadata": {
    "id": "oPrOadZO6Ab4"
   },
   "source": [
    "What is ``nan``? This is another number defined in ``math``.\n",
    "``nan`` means \"**n**ot **a** **n**umber\".\n",
    "Here are some other examples of how you can get it."
   ]
  },
  {
   "cell_type": "code",
   "execution_count": null,
   "metadata": {
    "id": "1Evyaoya6Ab5"
   },
   "outputs": [],
   "source": [
    "math.inf / math.inf"
   ]
  },
  {
   "cell_type": "markdown",
   "metadata": {
    "id": "om1w6eyp6Ab5"
   },
   "source": [
    "Basically, if you see a ``nan``, there is something wrong with your code."
   ]
  },
  {
   "cell_type": "markdown",
   "metadata": {
    "id": "6FDptge36Ab5"
   },
   "source": [
    "## Questions\n",
    "\n",
    "+ In the code block provided below to evaluate the magnitude of the vector:\n",
    "$$\n",
    "\\vec{r}_1 = 4\\hat{i} + 3.5\\hat{j} + 2.5\\hat{k}.\n",
    "$$"
   ]
  },
  {
   "cell_type": "code",
   "execution_count": null,
   "metadata": {
    "id": "eFPWwMZA6Ab6"
   },
   "outputs": [],
   "source": [
    "# Your code here\n"
   ]
  }
 ],
 "metadata": {
  "colab": {
   "name": "python-basics-1.ipynb",
   "provenance": []
  },
  "kernelspec": {
   "display_name": "Python 3 (ipykernel)",
   "language": "python",
   "name": "python3"
  },
  "language_info": {
   "codemirror_mode": {
    "name": "ipython",
    "version": 3
   },
   "file_extension": ".py",
   "mimetype": "text/x-python",
   "name": "python",
   "nbconvert_exporter": "python",
   "pygments_lexer": "ipython3",
   "version": "3.10.6"
  }
 },
 "nbformat": 4,
 "nbformat_minor": 1
}
