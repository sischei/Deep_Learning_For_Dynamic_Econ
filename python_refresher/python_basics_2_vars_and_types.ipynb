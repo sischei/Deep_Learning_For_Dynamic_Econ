{
 "cells": [
  {
   "cell_type": "markdown",
   "metadata": {
    "id": "lKdhon296fvR"
   },
   "source": [
    "# Python Basics 2: Python Variables and Types\n",
    "\n",
    "Python uses many data types.\n",
    "Here we cover the most basic ones with particular emphasis on numerical data types.\n",
    "\n",
    "## Numerical data types\n",
    "We have already played with two kinds ``int`` and ``float``.\n",
    "``int`` stands for integer and ``float`` stands for floating point number (an approximation to a real number).\n",
    "You can use the ``type()`` function to see the type of something.\n",
    "Here are some ``int``'s:"
   ]
  },
  {
   "cell_type": "code",
   "execution_count": 1,
   "metadata": {
    "id": "twIZZ-dP6fvX"
   },
   "outputs": [
    {
     "data": {
      "text/plain": [
       "int"
      ]
     },
     "execution_count": 1,
     "metadata": {},
     "output_type": "execute_result"
    }
   ],
   "source": [
    "type(1)"
   ]
  },
  {
   "cell_type": "code",
   "execution_count": 2,
   "metadata": {
    "id": "lhXzrMoN6fvY"
   },
   "outputs": [
    {
     "data": {
      "text/plain": [
       "int"
      ]
     },
     "execution_count": 2,
     "metadata": {},
     "output_type": "execute_result"
    }
   ],
   "source": [
    "type(2)"
   ]
  },
  {
   "cell_type": "markdown",
   "metadata": {
    "id": "br0y7ekB6fvZ"
   },
   "source": [
    "And here are some ``float``'s:"
   ]
  },
  {
   "cell_type": "code",
   "execution_count": 3,
   "metadata": {
    "id": "ksDtIE4P6fva"
   },
   "outputs": [
    {
     "data": {
      "text/plain": [
       "float"
      ]
     },
     "execution_count": 3,
     "metadata": {},
     "output_type": "execute_result"
    }
   ],
   "source": [
    "type(1.24235)"
   ]
  },
  {
   "cell_type": "code",
   "execution_count": 4,
   "metadata": {
    "id": "9r9DQVpj6fva"
   },
   "outputs": [
    {
     "data": {
      "text/plain": [
       "float"
      ]
     },
     "execution_count": 4,
     "metadata": {},
     "output_type": "execute_result"
    }
   ],
   "source": [
    "type(1e-5)"
   ]
  },
  {
   "cell_type": "code",
   "execution_count": 5,
   "metadata": {
    "id": "LhRlwN1j6fva"
   },
   "outputs": [
    {
     "data": {
      "text/plain": [
       "float"
      ]
     },
     "execution_count": 5,
     "metadata": {},
     "output_type": "execute_result"
    }
   ],
   "source": [
    "type(1.0)"
   ]
  },
  {
   "cell_type": "code",
   "execution_count": 6,
   "metadata": {
    "id": "IdVQojgv6fvb"
   },
   "outputs": [
    {
     "data": {
      "text/plain": [
       "float"
      ]
     },
     "execution_count": 6,
     "metadata": {},
     "output_type": "execute_result"
    }
   ],
   "source": [
    "type(2.)"
   ]
  },
  {
   "cell_type": "markdown",
   "metadata": {
    "id": "d4yJoLT-6fvc"
   },
   "source": [
    "When you add or multiply two ``int``'s, you get an ``int``:"
   ]
  },
  {
   "cell_type": "code",
   "execution_count": 7,
   "metadata": {
    "id": "7zgkCx686fvd"
   },
   "outputs": [
    {
     "data": {
      "text/plain": [
       "int"
      ]
     },
     "execution_count": 7,
     "metadata": {},
     "output_type": "execute_result"
    }
   ],
   "source": [
    "type(1 + 2)"
   ]
  },
  {
   "cell_type": "code",
   "execution_count": 8,
   "metadata": {
    "id": "MQk_BuJK6fvd"
   },
   "outputs": [
    {
     "data": {
      "text/plain": [
       "int"
      ]
     },
     "execution_count": 8,
     "metadata": {},
     "output_type": "execute_result"
    }
   ],
   "source": [
    "type(2 * 4)"
   ]
  },
  {
   "cell_type": "markdown",
   "metadata": {
    "id": "kjLzENRB6fve"
   },
   "source": [
    "Same thing for two ``float``'s:"
   ]
  },
  {
   "cell_type": "code",
   "execution_count": 9,
   "metadata": {
    "id": "ORtx4gBv6fve"
   },
   "outputs": [
    {
     "data": {
      "text/plain": [
       "float"
      ]
     },
     "execution_count": 9,
     "metadata": {},
     "output_type": "execute_result"
    }
   ],
   "source": [
    "type(1.0 + 2.3)"
   ]
  },
  {
   "cell_type": "code",
   "execution_count": 10,
   "metadata": {
    "id": "Bs66MaUS6fve"
   },
   "outputs": [
    {
     "data": {
      "text/plain": [
       "float"
      ]
     },
     "execution_count": 10,
     "metadata": {},
     "output_type": "execute_result"
    }
   ],
   "source": [
    "type(2.1 * 3.5)"
   ]
  },
  {
   "cell_type": "markdown",
   "metadata": {
    "id": "cgOhzr4a6fvf"
   },
   "source": [
    "But what happens when you mix ``int``'s and ``float``'s?\n",
    "Let's try it out:"
   ]
  },
  {
   "cell_type": "code",
   "execution_count": 11,
   "metadata": {
    "id": "TQg-HSPZ6fvf"
   },
   "outputs": [
    {
     "data": {
      "text/plain": [
       "float"
      ]
     },
     "execution_count": 11,
     "metadata": {},
     "output_type": "execute_result"
    }
   ],
   "source": [
    "type(1 + 2.4)"
   ]
  },
  {
   "cell_type": "markdown",
   "metadata": {
    "id": "zgECfdea6fvg"
   },
   "source": [
    "Adding an ``int`` to ``float`` gave you a ``float``. Let's try another example:"
   ]
  },
  {
   "cell_type": "code",
   "execution_count": 12,
   "metadata": {
    "id": "HyFYwJyI6fvg"
   },
   "outputs": [
    {
     "data": {
      "text/plain": [
       "float"
      ]
     },
     "execution_count": 12,
     "metadata": {},
     "output_type": "execute_result"
    }
   ],
   "source": [
    "type(2 * 3.4)"
   ]
  },
  {
   "cell_type": "markdown",
   "metadata": {
    "id": "EN5rhLNa6fvg"
   },
   "source": [
    "Multiplying an ``int`` with a ``float`` gave you a ``float``.\n",
    "This is a general rule: \"When you have an operation that involves both ``int``'s and ``float``'s, the ``int``'s are promoted to ``float``'s and then the operation is carried out. Thus, the result is always a ``float``.\n",
    "\n",
    "What do we mean by promoted. We mean that when python sees:\n",
    "``\n",
    "2 + 2.4\n",
    "``\n",
    "it changes it first to\n",
    "``\n",
    "2.0 + 2.4\n",
    "``\n",
    "and then carries out the addition.\n",
    "Python can do this by using the ``float()`` function.\n",
    "Here is an example:"
   ]
  },
  {
   "cell_type": "code",
   "execution_count": 13,
   "metadata": {
    "id": "oIELmhca6fvh"
   },
   "outputs": [
    {
     "data": {
      "text/plain": [
       "1.0"
      ]
     },
     "execution_count": 13,
     "metadata": {},
     "output_type": "execute_result"
    }
   ],
   "source": [
    "float(1)"
   ]
  },
  {
   "cell_type": "code",
   "execution_count": 14,
   "metadata": {
    "id": "kPrYv9A56fvh"
   },
   "outputs": [
    {
     "data": {
      "text/plain": [
       "float"
      ]
     },
     "execution_count": 14,
     "metadata": {},
     "output_type": "execute_result"
    }
   ],
   "source": [
    "type(float(1))"
   ]
  },
  {
   "cell_type": "markdown",
   "metadata": {
    "id": "hNshzQI36fvh"
   },
   "source": [
    "Similarly, there is an ``int()`` function that can change a ``float`` to an ``int``:"
   ]
  },
  {
   "cell_type": "code",
   "execution_count": 15,
   "metadata": {
    "id": "13EuJyWg6fvh"
   },
   "outputs": [
    {
     "data": {
      "text/plain": [
       "23"
      ]
     },
     "execution_count": 15,
     "metadata": {},
     "output_type": "execute_result"
    }
   ],
   "source": [
    "int(23.4353)"
   ]
  },
  {
   "cell_type": "code",
   "execution_count": 16,
   "metadata": {
    "id": "zgB_Ir4K6fvi"
   },
   "outputs": [
    {
     "data": {
      "text/plain": [
       "int"
      ]
     },
     "execution_count": 16,
     "metadata": {},
     "output_type": "execute_result"
    }
   ],
   "source": [
    "type(int(23.33453))"
   ]
  },
  {
   "cell_type": "markdown",
   "metadata": {
    "id": "ul53nUXQ6fvi"
   },
   "source": [
    "Let's see what type is ``math.inf`` and ``math.nan``:"
   ]
  },
  {
   "cell_type": "code",
   "execution_count": 17,
   "metadata": {
    "id": "dRh1jJ5W6fvi"
   },
   "outputs": [
    {
     "data": {
      "text/plain": [
       "float"
      ]
     },
     "execution_count": 17,
     "metadata": {},
     "output_type": "execute_result"
    }
   ],
   "source": [
    "import math\n",
    "type(math.inf)"
   ]
  },
  {
   "cell_type": "code",
   "execution_count": 18,
   "metadata": {
    "id": "p8gvwcrJ6fvi"
   },
   "outputs": [
    {
     "data": {
      "text/plain": [
       "float"
      ]
     },
     "execution_count": 18,
     "metadata": {},
     "output_type": "execute_result"
    }
   ],
   "source": [
    "type(math.nan)"
   ]
  },
  {
   "cell_type": "markdown",
   "metadata": {
    "id": "Qj1qcY3x6fvj"
   },
   "source": [
    "## Questions\n",
    "\n",
    "First guess and then try out, the type of the following expressions:\n",
    "\n",
    "+ ``1 / 2.0``\n",
    "\n",
    "+ ``2 // 3``\n",
    "\n",
    "+ ``2.0 // 3``\n",
    "\n",
    "+ ``5 % 3``\n",
    "\n",
    "+ ``5.0 % 3``\n",
    "\n",
    "+ ``int(5.0 % 3)``"
   ]
  },
  {
   "cell_type": "code",
   "execution_count": null,
   "metadata": {
    "id": "nXFOxW1U6fvj"
   },
   "outputs": [],
   "source": [
    "# Your code here"
   ]
  },
  {
   "cell_type": "markdown",
   "metadata": {
    "id": "xiKxKf4f6fvj"
   },
   "source": [
    "## Python variables\n",
    "\n",
    "You can use variables to store the values of things.\n",
    "Here is a variable:"
   ]
  },
  {
   "cell_type": "code",
   "execution_count": null,
   "metadata": {
    "id": "Hz_U3mJt6fvj"
   },
   "outputs": [],
   "source": [
    "x = 1"
   ]
  },
  {
   "cell_type": "markdown",
   "metadata": {
    "id": "lAof5eoG6fvj"
   },
   "source": [
    "Here is another variable:"
   ]
  },
  {
   "cell_type": "code",
   "execution_count": null,
   "metadata": {
    "id": "qpeoIUIa6fvk"
   },
   "outputs": [],
   "source": [
    "y = 2"
   ]
  },
  {
   "cell_type": "markdown",
   "metadata": {
    "id": "VGA_e1oO6fvk"
   },
   "source": [
    "Now you can do:"
   ]
  },
  {
   "cell_type": "code",
   "execution_count": null,
   "metadata": {
    "id": "oKAZVGII6fvk"
   },
   "outputs": [],
   "source": [
    "z = x + y"
   ]
  },
  {
   "cell_type": "markdown",
   "metadata": {
    "id": "fHoPnxNw6fvk"
   },
   "source": [
    "and you can look at ``z``:"
   ]
  },
  {
   "cell_type": "code",
   "execution_count": null,
   "metadata": {
    "id": "Xk9pMQuX6fvk"
   },
   "outputs": [],
   "source": [
    "z"
   ]
  },
  {
   "cell_type": "markdown",
   "metadata": {
    "id": "Q6t0qxa76fvl"
   },
   "source": [
    "## Questions\n",
    "+ In the code block provided below evaluate the angle between the two vectors:\n",
    "$$\n",
    "\\vec{r}_1 = 4\\hat{i} + 3.5\\hat{j} + 2.5\\hat{k},\n",
    "$$\n",
    "and\n",
    "$$\n",
    "\\vec{r}_2 = 1.5\\hat{i} + 2.5\\hat{j}.\n",
    "$$\n",
    "Remembet that the angle between two vectors is:\n",
    "$$\n",
    "\\theta = \\frac{\\vec{r}_1\\cdot \\vec{r}_2}{|\\vec{r}_1||\\vec{r}_2|}.\n",
    "$$\n",
    "Hint: Define variables ``x1,x2,y1,y2,z1,z2`` and use ``math.acos()``."
   ]
  },
  {
   "cell_type": "code",
   "execution_count": null,
   "metadata": {
    "id": "iwW1yNFE6fvl"
   },
   "outputs": [],
   "source": [
    "# Your code here"
   ]
  },
  {
   "cell_type": "markdown",
   "metadata": {
    "id": "_PV0hy5i6fvl"
   },
   "source": [
    "## Boolean types\n",
    "\n",
    "Boolean types are either ``True`` or ``False``.\n",
    "As a matter of fact ``True`` and ``False`` are special Python keywords.\n",
    "Here it is:"
   ]
  },
  {
   "cell_type": "code",
   "execution_count": null,
   "metadata": {
    "id": "rYryixy06fvm"
   },
   "outputs": [],
   "source": [
    "True"
   ]
  },
  {
   "cell_type": "code",
   "execution_count": null,
   "metadata": {
    "id": "B6n4uoPP6fvm"
   },
   "outputs": [],
   "source": [
    "False"
   ]
  },
  {
   "cell_type": "code",
   "execution_count": null,
   "metadata": {
    "id": "ocMXVz7v6fvm"
   },
   "outputs": [],
   "source": [
    "type(True)"
   ]
  },
  {
   "cell_type": "code",
   "execution_count": null,
   "metadata": {
    "id": "nwBRHpxb6fvm"
   },
   "outputs": [],
   "source": [
    "type(False)"
   ]
  },
  {
   "cell_type": "markdown",
   "metadata": {
    "id": "jtBIFWwC6fvn"
   },
   "source": [
    "What can you do with ``True`` and ``False``?\n",
    "We will learn more about them when we talk about conditionals (in another hands-on activity), but here are some examples:"
   ]
  },
  {
   "cell_type": "code",
   "execution_count": null,
   "metadata": {
    "id": "VcdeiChH6fvn"
   },
   "outputs": [],
   "source": [
    "True and True"
   ]
  },
  {
   "cell_type": "markdown",
   "metadata": {
    "id": "esxXbJ026fvn"
   },
   "source": [
    "So ``and`` is another Python keyword..."
   ]
  },
  {
   "cell_type": "code",
   "execution_count": null,
   "metadata": {
    "id": "I2g6_D8n6fvn"
   },
   "outputs": [],
   "source": [
    "True and False"
   ]
  },
  {
   "cell_type": "code",
   "execution_count": null,
   "metadata": {
    "id": "YVA6OIVU6fvo"
   },
   "outputs": [],
   "source": [
    "True or False"
   ]
  },
  {
   "cell_type": "code",
   "execution_count": null,
   "metadata": {
    "id": "fcvtT8gc6fvo"
   },
   "outputs": [],
   "source": [
    "False or False"
   ]
  },
  {
   "cell_type": "markdown",
   "metadata": {
    "id": "k2p_7YlW6fvo"
   },
   "source": [
    "So ``or`` is another Python keyword...\n",
    "\n",
    "Here is the final example:"
   ]
  },
  {
   "cell_type": "code",
   "execution_count": null,
   "metadata": {
    "id": "1ZJjBJtO6fvo"
   },
   "outputs": [],
   "source": [
    "not True"
   ]
  },
  {
   "cell_type": "code",
   "execution_count": null,
   "metadata": {
    "id": "eFvcMFmw6fvp"
   },
   "outputs": [],
   "source": [
    "not False"
   ]
  },
  {
   "cell_type": "markdown",
   "metadata": {
    "id": "fB0LIZo66fvp"
   },
   "source": [
    "So ``not`` is another Python keyword...\n",
    "\n",
    "You can also have longer expressions with ``bool``'s:"
   ]
  },
  {
   "cell_type": "code",
   "execution_count": null,
   "metadata": {
    "id": "DJXDtnHH6fvp"
   },
   "outputs": [],
   "source": [
    "True and (False or True)"
   ]
  },
  {
   "cell_type": "markdown",
   "metadata": {
    "id": "GTnjrUmb6fvp"
   },
   "source": [
    "And just like for numerical types, there is a ``bool()`` function that can turn something into a ``bool`` type. For example:"
   ]
  },
  {
   "cell_type": "code",
   "execution_count": null,
   "metadata": {
    "id": "TzwuhZ0J6fvp"
   },
   "outputs": [],
   "source": [
    "bool(1)"
   ]
  },
  {
   "cell_type": "code",
   "execution_count": null,
   "metadata": {
    "id": "sbWg2DEf6fvq"
   },
   "outputs": [],
   "source": [
    "bool(0)"
   ]
  },
  {
   "cell_type": "code",
   "execution_count": null,
   "metadata": {
    "id": "RKSadfTf6fvq"
   },
   "outputs": [],
   "source": [
    "bool(1.0)"
   ]
  },
  {
   "cell_type": "code",
   "execution_count": null,
   "metadata": {
    "id": "YDXC6OYg6fvq"
   },
   "outputs": [],
   "source": [
    "bool(0.2242)"
   ]
  },
  {
   "cell_type": "markdown",
   "metadata": {
    "id": "hVQ5NiGN6fvq"
   },
   "source": [
    "## The ``NoneType``\n",
    "\n",
    "Python has a special type called the ``NoneType``.\n",
    "It is a special construct that is used to represent the \"nothing.\"\n",
    "Here it is:"
   ]
  },
  {
   "cell_type": "code",
   "execution_count": null,
   "metadata": {
    "id": "0EqQ1Xq06fvq"
   },
   "outputs": [],
   "source": [
    "None"
   ]
  },
  {
   "cell_type": "markdown",
   "metadata": {
    "id": "1IiXt7kn6fvr"
   },
   "source": [
    "Notice that when you trye to see ``None`` you do not see anything. This is because it is representing \"nothing.\" You cannot see the \"nothing.\"\n",
    "What is the type of ``None``?"
   ]
  },
  {
   "cell_type": "code",
   "execution_count": null,
   "metadata": {
    "id": "pjnYfpEX6fvr"
   },
   "outputs": [],
   "source": [
    "type(None)"
   ]
  },
  {
   "cell_type": "markdown",
   "metadata": {
    "id": "v1tRDi5c6fvr"
   },
   "source": [
    "We will say more about the ``None`` when we talk about conditionals."
   ]
  }
 ],
 "metadata": {
  "colab": {
   "name": "python-basics-2.ipynb",
   "provenance": []
  },
  "kernelspec": {
   "display_name": "Python 3 (ipykernel)",
   "language": "python",
   "name": "python3"
  },
  "language_info": {
   "codemirror_mode": {
    "name": "ipython",
    "version": 3
   },
   "file_extension": ".py",
   "mimetype": "text/x-python",
   "name": "python",
   "nbconvert_exporter": "python",
   "pygments_lexer": "ipython3",
   "version": "3.10.6"
  }
 },
 "nbformat": 4,
 "nbformat_minor": 1
}
