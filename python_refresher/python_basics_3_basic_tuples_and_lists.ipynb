{
 "cells": [
  {
   "cell_type": "markdown",
   "metadata": {
    "id": "nbk2LcID6mlW"
   },
   "source": [
    "# Python Basics 3: Basics of Tuples and Lists\n",
    "\n",
    "There are two ways you can have lists in Python.\n",
    "You can either use ``tuple``'s or ... ``list``'s.\n",
    "The difference between the two is that ``tuple`` are immutable (you cannot change them once you make them) but you can add or remove items for ``list``'s.\n",
    "\n",
    "## Tuples\n",
    "\n",
    "Tuples are immutable collections of objectes of any type.\n",
    "Right now, you only know of ``int``'s, ``float``'s, ``bool``'s and ``NoneType``.\n",
    "So, that's all I will use to make tuples.\n",
    "But you can put anything in a tuple.\n",
    "Here is a tuple with two integers:"
   ]
  },
  {
   "cell_type": "code",
   "execution_count": 1,
   "metadata": {
    "id": "oqY_wTG56mld"
   },
   "outputs": [
    {
     "data": {
      "text/plain": [
       "(1, 2)"
      ]
     },
     "execution_count": 1,
     "metadata": {},
     "output_type": "execute_result"
    }
   ],
   "source": [
    "x = (1, 2)\n",
    "x"
   ]
  },
  {
   "cell_type": "markdown",
   "metadata": {
    "id": "tgq56Er76mlf"
   },
   "source": [
    "Here is a tuple with two floats:"
   ]
  },
  {
   "cell_type": "code",
   "execution_count": 2,
   "metadata": {
    "id": "jKwd2heG6mlf"
   },
   "outputs": [
    {
     "data": {
      "text/plain": [
       "(2.1232, 3.14)"
      ]
     },
     "execution_count": 2,
     "metadata": {},
     "output_type": "execute_result"
    }
   ],
   "source": [
    "y = (2.1232, 3.14)\n",
    "y"
   ]
  },
  {
   "cell_type": "markdown",
   "metadata": {
    "id": "I0O3WONu6mlg"
   },
   "source": [
    "Here is a tuple with two integers and a float:"
   ]
  },
  {
   "cell_type": "code",
   "execution_count": 3,
   "metadata": {
    "id": "6MekHyER6mli"
   },
   "outputs": [
    {
     "data": {
      "text/plain": [
       "(5, 0, 34.34)"
      ]
     },
     "execution_count": 3,
     "metadata": {},
     "output_type": "execute_result"
    }
   ],
   "source": [
    "z = (5, 0, 34.34)\n",
    "z"
   ]
  },
  {
   "cell_type": "markdown",
   "metadata": {
    "id": "tPK3gVjU6mlj"
   },
   "source": [
    "All, these are tuples:"
   ]
  },
  {
   "cell_type": "code",
   "execution_count": 4,
   "metadata": {
    "id": "XHCnHeVd6mlm"
   },
   "outputs": [
    {
     "data": {
      "text/plain": [
       "tuple"
      ]
     },
     "execution_count": 4,
     "metadata": {},
     "output_type": "execute_result"
    }
   ],
   "source": [
    "type(x)"
   ]
  },
  {
   "cell_type": "code",
   "execution_count": 5,
   "metadata": {
    "id": "4xGahuWr6mln"
   },
   "outputs": [
    {
     "data": {
      "text/plain": [
       "tuple"
      ]
     },
     "execution_count": 5,
     "metadata": {},
     "output_type": "execute_result"
    }
   ],
   "source": [
    "type(y)"
   ]
  },
  {
   "cell_type": "code",
   "execution_count": 6,
   "metadata": {
    "id": "KJlv_XBR6mlo"
   },
   "outputs": [
    {
     "data": {
      "text/plain": [
       "tuple"
      ]
     },
     "execution_count": 6,
     "metadata": {},
     "output_type": "execute_result"
    }
   ],
   "source": [
    "type(z)"
   ]
  },
  {
   "cell_type": "markdown",
   "metadata": {
    "id": "QWKqrYWh6mlp"
   },
   "source": [
    "You can ask a ``tuple`` how many elements it has using the function ``len``:"
   ]
  },
  {
   "cell_type": "code",
   "execution_count": 7,
   "metadata": {
    "id": "7z2gK3Gf6mlq"
   },
   "outputs": [
    {
     "data": {
      "text/plain": [
       "2"
      ]
     },
     "execution_count": 7,
     "metadata": {},
     "output_type": "execute_result"
    }
   ],
   "source": [
    "len(x)"
   ]
  },
  {
   "cell_type": "code",
   "execution_count": 8,
   "metadata": {
    "id": "p4tGA6y96mlq"
   },
   "outputs": [
    {
     "data": {
      "text/plain": [
       "2"
      ]
     },
     "execution_count": 8,
     "metadata": {},
     "output_type": "execute_result"
    }
   ],
   "source": [
    "len(y)"
   ]
  },
  {
   "cell_type": "code",
   "execution_count": 9,
   "metadata": {
    "id": "VZlGJ6ET6mlr"
   },
   "outputs": [
    {
     "data": {
      "text/plain": [
       "3"
      ]
     },
     "execution_count": 9,
     "metadata": {},
     "output_type": "execute_result"
    }
   ],
   "source": [
    "len(z)"
   ]
  },
  {
   "cell_type": "markdown",
   "metadata": {
    "id": "tCzxH6K96mlr"
   },
   "source": [
    "### Indexing of tuples\n",
    "\n",
    "You can access any element of a tuple using **indexing**.\n",
    "Note that indices start at 0 and go up to the ``len()`` of the tuple:"
   ]
  },
  {
   "cell_type": "code",
   "execution_count": 10,
   "metadata": {
    "id": "DvRrBRqj6mlr"
   },
   "outputs": [
    {
     "data": {
      "text/plain": [
       "5"
      ]
     },
     "execution_count": 10,
     "metadata": {},
     "output_type": "execute_result"
    }
   ],
   "source": [
    "z[0]"
   ]
  },
  {
   "cell_type": "code",
   "execution_count": 11,
   "metadata": {
    "id": "mPC-lJ1o6mls"
   },
   "outputs": [
    {
     "data": {
      "text/plain": [
       "0"
      ]
     },
     "execution_count": 11,
     "metadata": {},
     "output_type": "execute_result"
    }
   ],
   "source": [
    "z[1]"
   ]
  },
  {
   "cell_type": "code",
   "execution_count": 12,
   "metadata": {
    "id": "XkU--bs76mls"
   },
   "outputs": [
    {
     "data": {
      "text/plain": [
       "34.34"
      ]
     },
     "execution_count": 12,
     "metadata": {},
     "output_type": "execute_result"
    }
   ],
   "source": [
    "z[2]"
   ]
  },
  {
   "cell_type": "markdown",
   "metadata": {
    "id": "Y8jjnTcg6mls"
   },
   "source": [
    "If you try to try to use an index larger than the length of the tuple, here is what happens:"
   ]
  },
  {
   "cell_type": "code",
   "execution_count": 13,
   "metadata": {
    "id": "C4VOgti06mlt"
   },
   "outputs": [
    {
     "ename": "IndexError",
     "evalue": "tuple index out of range",
     "output_type": "error",
     "traceback": [
      "\u001b[0;31m---------------------------------------------------------------------------\u001b[0m",
      "\u001b[0;31mIndexError\u001b[0m                                Traceback (most recent call last)",
      "\u001b[0;32m/tmp/ipykernel_20982/2762452800.py\u001b[0m in \u001b[0;36m<module>\u001b[0;34m\u001b[0m\n\u001b[0;32m----> 1\u001b[0;31m \u001b[0mz\u001b[0m\u001b[0;34m[\u001b[0m\u001b[0;36m3\u001b[0m\u001b[0;34m]\u001b[0m\u001b[0;34m\u001b[0m\u001b[0;34m\u001b[0m\u001b[0m\n\u001b[0m",
      "\u001b[0;31mIndexError\u001b[0m: tuple index out of range"
     ]
    }
   ],
   "source": [
    "z[3]"
   ]
  },
  {
   "cell_type": "markdown",
   "metadata": {
    "id": "lvMU4KOz6mlt"
   },
   "source": [
    "You get an ``IndexError``. This is a very common bug. You need to learn how to read it.\n",
    "\n",
    "You can also use negative indices:"
   ]
  },
  {
   "cell_type": "code",
   "execution_count": 14,
   "metadata": {
    "id": "noohAW2w6mlu"
   },
   "outputs": [
    {
     "data": {
      "text/plain": [
       "34.34"
      ]
     },
     "execution_count": 14,
     "metadata": {},
     "output_type": "execute_result"
    }
   ],
   "source": [
    "z[-1]"
   ]
  },
  {
   "cell_type": "markdown",
   "metadata": {
    "id": "NhAlTOCB6mlu"
   },
   "source": [
    "Negative indices give you the elements starting from the last one.\n",
    "In particular ``z[-1]`` gives you the last element of the tuple.\n",
    "What would you get with ``z[-2]``:"
   ]
  },
  {
   "cell_type": "code",
   "execution_count": 15,
   "metadata": {
    "id": "pzXXwYMm6mlu"
   },
   "outputs": [
    {
     "data": {
      "text/plain": [
       "0"
      ]
     },
     "execution_count": 15,
     "metadata": {},
     "output_type": "execute_result"
    }
   ],
   "source": [
    "z[-2]"
   ]
  },
  {
   "cell_type": "code",
   "execution_count": 16,
   "metadata": {
    "id": "jTq0PSrQ6mlu"
   },
   "outputs": [
    {
     "data": {
      "text/plain": [
       "5"
      ]
     },
     "execution_count": 16,
     "metadata": {},
     "output_type": "execute_result"
    }
   ],
   "source": [
    "z[-3]"
   ]
  },
  {
   "cell_type": "markdown",
   "metadata": {
    "id": "7SgBhW0N6mlv"
   },
   "source": [
    "So, ``z[-3]`` gives you the third element of the tuple counting from the last.\n",
    "Because ``z`` has just three elements, ``z[-3]`` is the same as ``z[0]``.\n",
    "What would happen if you tried ``z[-4]``?"
   ]
  },
  {
   "cell_type": "code",
   "execution_count": 17,
   "metadata": {
    "id": "ysbUt6jG6mlv"
   },
   "outputs": [
    {
     "ename": "IndexError",
     "evalue": "tuple index out of range",
     "output_type": "error",
     "traceback": [
      "\u001b[0;31m---------------------------------------------------------------------------\u001b[0m",
      "\u001b[0;31mIndexError\u001b[0m                                Traceback (most recent call last)",
      "\u001b[0;32m/tmp/ipykernel_20982/1213793502.py\u001b[0m in \u001b[0;36m<module>\u001b[0;34m\u001b[0m\n\u001b[0;32m----> 1\u001b[0;31m \u001b[0mz\u001b[0m\u001b[0;34m[\u001b[0m\u001b[0;34m-\u001b[0m\u001b[0;36m4\u001b[0m\u001b[0;34m]\u001b[0m\u001b[0;34m\u001b[0m\u001b[0;34m\u001b[0m\u001b[0m\n\u001b[0m",
      "\u001b[0;31mIndexError\u001b[0m: tuple index out of range"
     ]
    }
   ],
   "source": [
    "z[-4]"
   ]
  },
  {
   "cell_type": "markdown",
   "metadata": {
    "id": "ysZBmLK46mlv"
   },
   "source": [
    "You get an ``IndexError`` again."
   ]
  },
  {
   "cell_type": "markdown",
   "metadata": {
    "id": "DElvPd2S6mlv"
   },
   "source": [
    "Okay. What if you wanted to get the first and second elements of ``z`` and not the last one. You can do this using **index ranges**:"
   ]
  },
  {
   "cell_type": "code",
   "execution_count": 18,
   "metadata": {
    "id": "-LQw8r4S6mlv"
   },
   "outputs": [
    {
     "data": {
      "text/plain": [
       "(5, 0)"
      ]
     },
     "execution_count": 18,
     "metadata": {},
     "output_type": "execute_result"
    }
   ],
   "source": [
    "z[0:2]"
   ]
  },
  {
   "cell_type": "markdown",
   "metadata": {
    "id": "CkZUcOvX6mlw"
   },
   "source": [
    "How about the second and the third:"
   ]
  },
  {
   "cell_type": "code",
   "execution_count": 19,
   "metadata": {
    "id": "HbHKlOHb6mlw"
   },
   "outputs": [
    {
     "data": {
      "text/plain": [
       "(0, 34.34)"
      ]
     },
     "execution_count": 19,
     "metadata": {},
     "output_type": "execute_result"
    }
   ],
   "source": [
    "z[1:3]"
   ]
  },
  {
   "cell_type": "markdown",
   "metadata": {
    "id": "SSpDPmjM6mlw"
   },
   "source": [
    "Let's make a bigger tuple so that we can do some more indexing:"
   ]
  },
  {
   "cell_type": "code",
   "execution_count": 20,
   "metadata": {
    "id": "b1GfpnNN6mlw"
   },
   "outputs": [],
   "source": [
    "w = (1, 2, 3, 4, 5, 6, 7, 8, 9, 10)"
   ]
  },
  {
   "cell_type": "markdown",
   "metadata": {
    "id": "EzPgD29Y6mlw"
   },
   "source": [
    "This has 10 elements:"
   ]
  },
  {
   "cell_type": "code",
   "execution_count": 21,
   "metadata": {
    "id": "OssQsGms6mlx"
   },
   "outputs": [
    {
     "data": {
      "text/plain": [
       "10"
      ]
     },
     "execution_count": 21,
     "metadata": {},
     "output_type": "execute_result"
    }
   ],
   "source": [
    "len(w)"
   ]
  },
  {
   "cell_type": "markdown",
   "metadata": {
    "id": "laslz_lp6mlx"
   },
   "source": [
    "To get the first five you can do:"
   ]
  },
  {
   "cell_type": "code",
   "execution_count": 22,
   "metadata": {
    "id": "jJDAWmiu6mlx"
   },
   "outputs": [
    {
     "data": {
      "text/plain": [
       "(1, 2, 3, 4, 5)"
      ]
     },
     "execution_count": 22,
     "metadata": {},
     "output_type": "execute_result"
    }
   ],
   "source": [
    "w[0:5]"
   ]
  },
  {
   "cell_type": "markdown",
   "metadata": {
    "id": "d_SR1AlM6mlx"
   },
   "source": [
    "Now, if the first index in your range happens to be zero, then you can skip it.\n",
    "So, instead of ``w[0:5]``, you can just write:"
   ]
  },
  {
   "cell_type": "code",
   "execution_count": 23,
   "metadata": {
    "id": "BMxjQWQZ6mlx"
   },
   "outputs": [
    {
     "data": {
      "text/plain": [
       "(1, 2, 3, 4, 5)"
      ]
     },
     "execution_count": 23,
     "metadata": {},
     "output_type": "execute_result"
    }
   ],
   "source": [
    "w[:5]"
   ]
  },
  {
   "cell_type": "markdown",
   "metadata": {
    "id": "80D6X0CN6mly"
   },
   "source": [
    "Let's get the last 3:"
   ]
  },
  {
   "cell_type": "code",
   "execution_count": 24,
   "metadata": {
    "id": "HE1oHwcv6mly"
   },
   "outputs": [
    {
     "data": {
      "text/plain": [
       "(8, 9, 10)"
      ]
     },
     "execution_count": 24,
     "metadata": {},
     "output_type": "execute_result"
    }
   ],
   "source": [
    "w[7:10]"
   ]
  },
  {
   "cell_type": "markdown",
   "metadata": {
    "id": "4qgyl2IN6mly"
   },
   "source": [
    "Note that this gives you ``w[7], w[8], w[9]``.\n",
    "Just like before, if the last index in your range happens to be the length of the tuple, you can skip it.\n",
    "So, instead of ``w[7:10]`` you can write:"
   ]
  },
  {
   "cell_type": "code",
   "execution_count": 25,
   "metadata": {
    "id": "30CwtXme6mly"
   },
   "outputs": [
    {
     "data": {
      "text/plain": [
       "(8, 9, 10)"
      ]
     },
     "execution_count": 25,
     "metadata": {},
     "output_type": "execute_result"
    }
   ],
   "source": [
    "w[7:]"
   ]
  },
  {
   "cell_type": "markdown",
   "metadata": {
    "id": "QPU4nvG46mlz"
   },
   "source": [
    "So when you ask for ``w[i:j]`` you get all elements between ``w[i]`` and ``w[j-1]``.\n",
    "Let's see what you will get when you do this:"
   ]
  },
  {
   "cell_type": "code",
   "execution_count": 26,
   "metadata": {
    "id": "K3C-KJb16mlz"
   },
   "outputs": [
    {
     "data": {
      "text/plain": [
       "(5,)"
      ]
     },
     "execution_count": 26,
     "metadata": {},
     "output_type": "execute_result"
    }
   ],
   "source": [
    "w[4:5]"
   ]
  },
  {
   "cell_type": "markdown",
   "metadata": {
    "id": "hAyz1qfU6mlz"
   },
   "source": [
    "This just gave you a tuple with just the fifth element.\n",
    "At this point, look at how a tuple with a single element is defined.\n",
    "It is ``(5,)`` instead of ``(5)``. The comma is essential.\n",
    "This is because without the comma ``(5)`` is just five ..."
   ]
  },
  {
   "cell_type": "code",
   "execution_count": 27,
   "metadata": {
    "id": "cpnjK4p66mlz"
   },
   "outputs": [
    {
     "data": {
      "text/plain": [
       "int"
      ]
     },
     "execution_count": 27,
     "metadata": {},
     "output_type": "execute_result"
    }
   ],
   "source": [
    "type((5))"
   ]
  },
  {
   "cell_type": "code",
   "execution_count": 28,
   "metadata": {
    "id": "qGC_SqR16ml0"
   },
   "outputs": [
    {
     "data": {
      "text/plain": [
       "tuple"
      ]
     },
     "execution_count": 28,
     "metadata": {},
     "output_type": "execute_result"
    }
   ],
   "source": [
    "type((5,))"
   ]
  },
  {
   "cell_type": "code",
   "execution_count": 29,
   "metadata": {
    "id": "jphTXrXr6ml0"
   },
   "outputs": [
    {
     "data": {
      "text/plain": [
       "5"
      ]
     },
     "execution_count": 29,
     "metadata": {},
     "output_type": "execute_result"
    }
   ],
   "source": [
    "(5)"
   ]
  },
  {
   "cell_type": "code",
   "execution_count": 30,
   "metadata": {
    "id": "jjStQnRT6ml1"
   },
   "outputs": [
    {
     "data": {
      "text/plain": [
       "(5,)"
      ]
     },
     "execution_count": 30,
     "metadata": {},
     "output_type": "execute_result"
    }
   ],
   "source": [
    "(5,)"
   ]
  },
  {
   "cell_type": "code",
   "execution_count": 31,
   "metadata": {
    "id": "nLubwIM86ml1"
   },
   "outputs": [
    {
     "data": {
      "text/plain": [
       "1"
      ]
     },
     "execution_count": 31,
     "metadata": {},
     "output_type": "execute_result"
    }
   ],
   "source": [
    "len((5,))"
   ]
  },
  {
   "cell_type": "markdown",
   "metadata": {
    "id": "JAAwaeum6ml1"
   },
   "source": [
    "How can I have a tuple with zero elements? Can you guess?\n",
    "Well, it is just ``()``:"
   ]
  },
  {
   "cell_type": "code",
   "execution_count": 32,
   "metadata": {
    "id": "xMFRNfZ36ml1"
   },
   "outputs": [
    {
     "data": {
      "text/plain": [
       "()"
      ]
     },
     "execution_count": 32,
     "metadata": {},
     "output_type": "execute_result"
    }
   ],
   "source": [
    "()"
   ]
  },
  {
   "cell_type": "code",
   "execution_count": 33,
   "metadata": {
    "id": "mxx_d5iG6ml1"
   },
   "outputs": [
    {
     "data": {
      "text/plain": [
       "tuple"
      ]
     },
     "execution_count": 33,
     "metadata": {},
     "output_type": "execute_result"
    }
   ],
   "source": [
    "type(())"
   ]
  },
  {
   "cell_type": "code",
   "execution_count": 34,
   "metadata": {
    "id": "ioeKc01X6ml2"
   },
   "outputs": [
    {
     "data": {
      "text/plain": [
       "0"
      ]
     },
     "execution_count": 34,
     "metadata": {},
     "output_type": "execute_result"
    }
   ],
   "source": [
    "len(())"
   ]
  },
  {
   "cell_type": "markdown",
   "metadata": {
    "id": "mT1u1kus6ml2"
   },
   "source": [
    "Here is another way to get a tuple with zero elements:"
   ]
  },
  {
   "cell_type": "code",
   "execution_count": 35,
   "metadata": {
    "id": "uSqNU9Iq6ml2"
   },
   "outputs": [
    {
     "data": {
      "text/plain": [
       "()"
      ]
     },
     "execution_count": 35,
     "metadata": {},
     "output_type": "execute_result"
    }
   ],
   "source": [
    "w[5:5]"
   ]
  },
  {
   "cell_type": "code",
   "execution_count": 36,
   "metadata": {
    "id": "PIh_AgXy6ml2"
   },
   "outputs": [
    {
     "data": {
      "text/plain": [
       "0"
      ]
     },
     "execution_count": 36,
     "metadata": {},
     "output_type": "execute_result"
    }
   ],
   "source": [
    "len(w[5:5])"
   ]
  },
  {
   "cell_type": "markdown",
   "metadata": {
    "id": "uuGjpojg6ml2"
   },
   "source": [
    "Alright, now some more advanced indexing. You do not have to remember all these. I am just putting them here for your reference.\n",
    "\n",
    "First, you can have ranges with negative numbers.\n",
    "This is how to get everything from the fourth element counting from the end to the second element counting from the end:"
   ]
  },
  {
   "cell_type": "code",
   "execution_count": 37,
   "metadata": {
    "id": "765xppK96ml3"
   },
   "outputs": [
    {
     "data": {
      "text/plain": [
       "(7, 8)"
      ]
     },
     "execution_count": 37,
     "metadata": {},
     "output_type": "execute_result"
    }
   ],
   "source": [
    "w[-4:-2]"
   ]
  },
  {
   "cell_type": "markdown",
   "metadata": {
    "id": "yzYYeAoU6ml3"
   },
   "source": [
    "And if you want to go all the way to the last element you can write:"
   ]
  },
  {
   "cell_type": "code",
   "execution_count": 38,
   "metadata": {
    "id": "tzYsf5uy6ml3"
   },
   "outputs": [
    {
     "data": {
      "text/plain": [
       "(7, 8, 9, 10)"
      ]
     },
     "execution_count": 38,
     "metadata": {},
     "output_type": "execute_result"
    }
   ],
   "source": [
    "w[-4:10]"
   ]
  },
  {
   "cell_type": "markdown",
   "metadata": {
    "id": "cbOHfrRo6ml3"
   },
   "source": [
    "Or you can completely skip the last element:"
   ]
  },
  {
   "cell_type": "code",
   "execution_count": 39,
   "metadata": {
    "id": "SVpj4cvU6ml3"
   },
   "outputs": [
    {
     "data": {
      "text/plain": [
       "(7, 8, 9, 10)"
      ]
     },
     "execution_count": 39,
     "metadata": {},
     "output_type": "execute_result"
    }
   ],
   "source": [
    "w[-4:]"
   ]
  },
  {
   "cell_type": "markdown",
   "metadata": {
    "id": "Dh8K8JYm6ml3"
   },
   "source": [
    "Meditate a little bit with this example with negative indices:"
   ]
  },
  {
   "cell_type": "code",
   "execution_count": 40,
   "metadata": {
    "id": "onJB6uIw6ml4"
   },
   "outputs": [
    {
     "data": {
      "text/plain": [
       "(7, 8, 9)"
      ]
     },
     "execution_count": 40,
     "metadata": {},
     "output_type": "execute_result"
    }
   ],
   "source": [
    "w[-4:-1]"
   ]
  },
  {
   "cell_type": "markdown",
   "metadata": {
    "id": "5jxtybn86ml4"
   },
   "source": [
    "This means that ``w[-i:-j]`` gives everything between ``w[len(w)-i]`` and ``w[len(w)-j]`` for ``i`` and ``j`` positive numbers in this example.\n",
    "\n",
    "What happens if you try to give a range that doesn't make sense.\n",
    "Like, take me all the way from the 5th element to the 2nd element:"
   ]
  },
  {
   "cell_type": "code",
   "execution_count": 41,
   "metadata": {
    "id": "kqpc0-_Z6ml4"
   },
   "outputs": [
    {
     "data": {
      "text/plain": [
       "()"
      ]
     },
     "execution_count": 41,
     "metadata": {},
     "output_type": "execute_result"
    }
   ],
   "source": [
    "w[5:2]"
   ]
  },
  {
   "cell_type": "markdown",
   "metadata": {
    "id": "IgxgI2iQ6ml4"
   },
   "source": [
    "You get an empty tuple. Nice. What happens if you mix positive and negative indices:"
   ]
  },
  {
   "cell_type": "code",
   "execution_count": 42,
   "metadata": {
    "id": "VHW1L8lH6ml4"
   },
   "outputs": [
    {
     "data": {
      "text/plain": [
       "(5, 6, 7, 8)"
      ]
     },
     "execution_count": 42,
     "metadata": {},
     "output_type": "execute_result"
    }
   ],
   "source": [
    "w[-6:8]"
   ]
  },
  {
   "cell_type": "markdown",
   "metadata": {
    "id": "8xfNvw3G6ml4"
   },
   "source": [
    "It works just fine if the ranges make sense. Of course, avoid this because it is quite confusing.\n",
    "\n",
    "Indexing is getting quite long, but let me give you one more example before we move on.\n",
    "Here is how you can take skip elements in between:"
   ]
  },
  {
   "cell_type": "code",
   "execution_count": 43,
   "metadata": {
    "id": "7gONkWQU6ml4"
   },
   "outputs": [
    {
     "data": {
      "text/plain": [
       "(1, 3, 5, 7, 9)"
      ]
     },
     "execution_count": 43,
     "metadata": {},
     "output_type": "execute_result"
    }
   ],
   "source": [
    "w[0:10:2]"
   ]
  },
  {
   "cell_type": "code",
   "execution_count": 44,
   "metadata": {
    "id": "8GMwUEgi6ml5"
   },
   "outputs": [
    {
     "data": {
      "text/plain": [
       "(2, 4)"
      ]
     },
     "execution_count": 44,
     "metadata": {},
     "output_type": "execute_result"
    }
   ],
   "source": [
    "w[1:5:2]"
   ]
  },
  {
   "cell_type": "markdown",
   "metadata": {
    "id": "mrGT4Ohm6ml5"
   },
   "source": [
    "So, ``w[i:j:k]`` will give you every k-th element from ``i`` (inclusive) to ``j`` (exclusive).\n",
    "For $k=1$, of course, you get everything:"
   ]
  },
  {
   "cell_type": "code",
   "execution_count": 45,
   "metadata": {
    "id": "O0lr4Oje6ml5"
   },
   "outputs": [
    {
     "data": {
      "text/plain": [
       "(2, 3, 4, 5)"
      ]
     },
     "execution_count": 45,
     "metadata": {},
     "output_type": "execute_result"
    }
   ],
   "source": [
    "w[1:5:1]"
   ]
  },
  {
   "cell_type": "markdown",
   "metadata": {
    "id": "SCJAN-b_6ml5"
   },
   "source": [
    "Let's say now that we want to take every other element as we did above.\n",
    "We can do this:"
   ]
  },
  {
   "cell_type": "code",
   "execution_count": 46,
   "metadata": {
    "id": "4mfDr7kb6ml5"
   },
   "outputs": [
    {
     "data": {
      "text/plain": [
       "(1, 3, 5, 7, 9)"
      ]
     },
     "execution_count": 46,
     "metadata": {},
     "output_type": "execute_result"
    }
   ],
   "source": [
    "w[0:10:2]"
   ]
  },
  {
   "cell_type": "markdown",
   "metadata": {
    "id": "VgjXdbN46ml5"
   },
   "source": [
    "But because we start at zero, we can skip the first index:"
   ]
  },
  {
   "cell_type": "code",
   "execution_count": 47,
   "metadata": {
    "id": "cHz10NZd6ml6"
   },
   "outputs": [
    {
     "data": {
      "text/plain": [
       "(1, 3, 5, 7, 9)"
      ]
     },
     "execution_count": 47,
     "metadata": {},
     "output_type": "execute_result"
    }
   ],
   "source": [
    "w[:10:2]"
   ]
  },
  {
   "cell_type": "markdown",
   "metadata": {
    "id": "LKvDqTuu6ml6"
   },
   "source": [
    "And because we end at ``len(w)`` (which is 10), we can also skip the second index:"
   ]
  },
  {
   "cell_type": "code",
   "execution_count": 48,
   "metadata": {
    "id": "_8EmyS176ml6"
   },
   "outputs": [
    {
     "data": {
      "text/plain": [
       "(1, 3, 5, 7, 9)"
      ]
     },
     "execution_count": 48,
     "metadata": {},
     "output_type": "execute_result"
    }
   ],
   "source": [
    "w[::2]"
   ]
  },
  {
   "cell_type": "markdown",
   "metadata": {
    "id": "7zare5rp6ml6"
   },
   "source": [
    "Similarly, if we wanted to take every third element we would do:"
   ]
  },
  {
   "cell_type": "code",
   "execution_count": 49,
   "metadata": {
    "id": "_LVtL8td6ml6"
   },
   "outputs": [
    {
     "data": {
      "text/plain": [
       "(1, 4, 7, 10)"
      ]
     },
     "execution_count": 49,
     "metadata": {},
     "output_type": "execute_result"
    }
   ],
   "source": [
    "w[::3]"
   ]
  },
  {
   "cell_type": "markdown",
   "metadata": {
    "id": "qztq3Ub_6ml6"
   },
   "source": [
    "You can also make ``k`` negative. Let's see what happens:"
   ]
  },
  {
   "cell_type": "code",
   "execution_count": 50,
   "metadata": {
    "id": "GgVEcna56ml7"
   },
   "outputs": [
    {
     "data": {
      "text/plain": [
       "(10, 9, 8, 7, 6, 5, 4, 3, 2, 1)"
      ]
     },
     "execution_count": 50,
     "metadata": {},
     "output_type": "execute_result"
    }
   ],
   "source": [
    "w[::-1]"
   ]
  },
  {
   "cell_type": "markdown",
   "metadata": {
    "id": "BxhE0y8c6ml7"
   },
   "source": [
    "Wow, the elements are reveresed. How about this:"
   ]
  },
  {
   "cell_type": "code",
   "execution_count": 51,
   "metadata": {
    "id": "AOpt9E4z6ml7"
   },
   "outputs": [
    {
     "data": {
      "text/plain": [
       "(10, 8, 6, 4, 2)"
      ]
     },
     "execution_count": 51,
     "metadata": {},
     "output_type": "execute_result"
    }
   ],
   "source": [
    "w[::-2]"
   ]
  },
  {
   "cell_type": "markdown",
   "metadata": {
    "id": "9ui0KUwG6ml7"
   },
   "source": [
    "Reveresed and we skip every other element.\n",
    "Note that ``w[::-2]`` is equivalent to:"
   ]
  },
  {
   "cell_type": "code",
   "execution_count": 52,
   "metadata": {
    "id": "Hm6dmeX86ml7"
   },
   "outputs": [
    {
     "data": {
      "text/plain": [
       "(10, 8, 6, 4, 2)"
      ]
     },
     "execution_count": 52,
     "metadata": {},
     "output_type": "execute_result"
    }
   ],
   "source": [
    "w[10:0:-2]"
   ]
  },
  {
   "cell_type": "markdown",
   "metadata": {
    "id": "xxMB0bZK6ml7"
   },
   "source": [
    "So, the range has to make sense. You say, I want to go from the 10th element to the first one backwards skipping every other one. "
   ]
  },
  {
   "cell_type": "markdown",
   "metadata": {
    "id": "n_VpKDsz6ml8"
   },
   "source": [
    "### Concatentating tuples\n",
    "\n",
    "You can concatenate tuples.\n",
    "Here is how:"
   ]
  },
  {
   "cell_type": "code",
   "execution_count": 53,
   "metadata": {
    "id": "LjvFdnxy6ml8"
   },
   "outputs": [
    {
     "data": {
      "text/plain": [
       "(1, 2, 2.1232, 3.14)"
      ]
     },
     "execution_count": 53,
     "metadata": {},
     "output_type": "execute_result"
    }
   ],
   "source": [
    "x + y"
   ]
  },
  {
   "cell_type": "code",
   "execution_count": 54,
   "metadata": {
    "id": "x9M3SEiH6ml8"
   },
   "outputs": [
    {
     "data": {
      "text/plain": [
       "(1, 2, 2.1232, 3.14, 5, 0, 34.34)"
      ]
     },
     "execution_count": 54,
     "metadata": {},
     "output_type": "execute_result"
    }
   ],
   "source": [
    "x + y + z"
   ]
  },
  {
   "cell_type": "markdown",
   "metadata": {
    "id": "3YBd27wS6ml8"
   },
   "source": [
    "Nice. Observe that ``x + y`` and ``y + x`` are different:"
   ]
  },
  {
   "cell_type": "code",
   "execution_count": 55,
   "metadata": {
    "id": "airKnNRL6ml8"
   },
   "outputs": [
    {
     "data": {
      "text/plain": [
       "(1, 2, 2.1232, 3.14)"
      ]
     },
     "execution_count": 55,
     "metadata": {},
     "output_type": "execute_result"
    }
   ],
   "source": [
    "x + y"
   ]
  },
  {
   "cell_type": "code",
   "execution_count": 56,
   "metadata": {
    "id": "_-8ubgXK6ml8"
   },
   "outputs": [
    {
     "data": {
      "text/plain": [
       "(2.1232, 3.14, 1, 2)"
      ]
     },
     "execution_count": 56,
     "metadata": {},
     "output_type": "execute_result"
    }
   ],
   "source": [
    "y + x"
   ]
  },
  {
   "cell_type": "markdown",
   "metadata": {
    "id": "nrDkbMeo6ml9"
   },
   "source": [
    "What if you add the ``()`` (0-element tuple) to a tuple:"
   ]
  },
  {
   "cell_type": "code",
   "execution_count": 57,
   "metadata": {
    "id": "SoSXiE2a6ml9"
   },
   "outputs": [
    {
     "data": {
      "text/plain": [
       "(1, 2)"
      ]
     },
     "execution_count": 57,
     "metadata": {},
     "output_type": "execute_result"
    }
   ],
   "source": [
    "x + ()"
   ]
  },
  {
   "cell_type": "code",
   "execution_count": 58,
   "metadata": {
    "id": "lny4dlxs6ml9"
   },
   "outputs": [
    {
     "data": {
      "text/plain": [
       "(1, 2)"
      ]
     },
     "execution_count": 58,
     "metadata": {},
     "output_type": "execute_result"
    }
   ],
   "source": [
    "() + x"
   ]
  },
  {
   "cell_type": "markdown",
   "metadata": {
    "id": "evhb7OF-6ml9"
   },
   "source": [
    "You just get the tuple back."
   ]
  },
  {
   "cell_type": "markdown",
   "metadata": {
    "id": "d3-uvQ_H6ml9"
   },
   "source": [
    "### You cannot change tuples\n",
    "\n",
    "You cannot change a tuple once you create it.\n",
    "For example, you cannot do this:"
   ]
  },
  {
   "cell_type": "code",
   "execution_count": 59,
   "metadata": {
    "id": "FFvgQAQ66ml-"
   },
   "outputs": [
    {
     "ename": "TypeError",
     "evalue": "'tuple' object does not support item assignment",
     "output_type": "error",
     "traceback": [
      "\u001b[0;31m---------------------------------------------------------------------------\u001b[0m",
      "\u001b[0;31mTypeError\u001b[0m                                 Traceback (most recent call last)",
      "\u001b[0;32m/tmp/ipykernel_20982/2101971069.py\u001b[0m in \u001b[0;36m<module>\u001b[0;34m\u001b[0m\n\u001b[0;32m----> 1\u001b[0;31m \u001b[0mw\u001b[0m\u001b[0;34m[\u001b[0m\u001b[0;36m4\u001b[0m\u001b[0;34m]\u001b[0m \u001b[0;34m=\u001b[0m \u001b[0;36m5\u001b[0m\u001b[0;34m\u001b[0m\u001b[0;34m\u001b[0m\u001b[0m\n\u001b[0m",
      "\u001b[0;31mTypeError\u001b[0m: 'tuple' object does not support item assignment"
     ]
    }
   ],
   "source": [
    "w[4] = 5"
   ]
  },
  {
   "cell_type": "markdown",
   "metadata": {
    "id": "AxuscPoS6ml-"
   },
   "source": [
    "Read the error message. It is quite clear: \"TypeError: 'tuple' object does not support item assignment.\" Always read the error messages.\n",
    "\n",
    "So, you should not be using ``tuple``'s for things that may change.\n",
    "You should only use ``tuple``'s for things that do not change.\n",
    "As a matter of fact, **you should always use ``tuples``'s for things that do not change**.\n",
    "In this way, if you try to change that object you will get this nice error above instead of a nasty bug.\n",
    "\n",
    "If you want something that can be changed, then you need to use a ``list``."
   ]
  },
  {
   "cell_type": "markdown",
   "metadata": {
    "id": "zWxbJiPw6ml-"
   },
   "source": [
    "## Questions\n",
    "\n",
    "+ In the code block provided below evaluate the angle between the two vectors:\n",
    "$$\n",
    "\\vec{r}_1 = 4\\hat{i} + 3.5\\hat{j} + 2.5\\hat{k},\n",
    "$$\n",
    "and\n",
    "$$\n",
    "\\vec{r}_2 = 1.5\\hat{i} + 2.5\\hat{j}.\n",
    "$$\n",
    "Remember that the dot product of two vectors is:\n",
    "$$\n",
    "\\theta = \\cos^{-1}\\left(\\frac{\\vec{r}_1\\cdot \\vec{r}_2}{|\\vec{r}_1||\\vec{r}_2|}\\right).\n",
    "$$\n",
    "Hint: Use tuples to represent ``r1`` and ``r2``. You will have to ``import math`` and use ``math.acos()``."
   ]
  },
  {
   "cell_type": "code",
   "execution_count": 60,
   "metadata": {
    "id": "jbBZx7hg6ml-"
   },
   "outputs": [],
   "source": [
    "# Your code here"
   ]
  },
  {
   "cell_type": "markdown",
   "metadata": {
    "id": "H-kxrmZa6ml-"
   },
   "source": [
    "+ Consider the ``tuple``:"
   ]
  },
  {
   "cell_type": "code",
   "execution_count": 61,
   "metadata": {
    "id": "xoPwKdIX6ml_"
   },
   "outputs": [],
   "source": [
    "q = (3.0, 23.0, 1e-3, 12.242, 23, 41, 50, 30., 20.)"
   ]
  },
  {
   "cell_type": "markdown",
   "metadata": {
    "id": "FvDnzvyR6ml_"
   },
   "source": [
    "Do the following:\n",
    "\n",
    "- Get the lentgh of q:"
   ]
  },
  {
   "cell_type": "code",
   "execution_count": null,
   "metadata": {
    "id": "igMHr5f66ml_"
   },
   "outputs": [],
   "source": []
  },
  {
   "cell_type": "markdown",
   "metadata": {
    "id": "mNgPxLDW6ml_"
   },
   "source": [
    "- Get all the elements of ``q`` from the second to the second to last"
   ]
  },
  {
   "cell_type": "code",
   "execution_count": null,
   "metadata": {
    "id": "bdwJnE-r6ml_"
   },
   "outputs": [],
   "source": []
  },
  {
   "cell_type": "markdown",
   "metadata": {
    "id": "kQRZy1Kc6mmA"
   },
   "source": [
    "- Get every other element of ``q`` from the second to the second to last"
   ]
  },
  {
   "cell_type": "code",
   "execution_count": null,
   "metadata": {
    "id": "8TL319ZG6mmB"
   },
   "outputs": [],
   "source": []
  },
  {
   "cell_type": "markdown",
   "metadata": {
    "id": "1UGc1qDZ6mmB"
   },
   "source": [
    "- Reverse ``q``"
   ]
  },
  {
   "cell_type": "code",
   "execution_count": null,
   "metadata": {
    "id": "pN70ng4m6mmC"
   },
   "outputs": [],
   "source": []
  },
  {
   "cell_type": "markdown",
   "metadata": {
    "id": "lD2LSEGx6mmC"
   },
   "source": [
    "## Lists\n",
    "\n",
    "Lists are like tuples, containers of many things, but they can be changed.\n",
    "Here is a list:"
   ]
  },
  {
   "cell_type": "code",
   "execution_count": 62,
   "metadata": {
    "id": "lKGGJZH66mmC"
   },
   "outputs": [
    {
     "data": {
      "text/plain": [
       "[1, 2, 3, 4, 5, 6, 7]"
      ]
     },
     "execution_count": 62,
     "metadata": {},
     "output_type": "execute_result"
    }
   ],
   "source": [
    "a = [1, 2, 3, 4, 5, 6, 7]\n",
    "a"
   ]
  },
  {
   "cell_type": "markdown",
   "metadata": {
    "id": "GdEZHxky6mmC"
   },
   "source": [
    "Notice that you define it with ``[]`` instead of ``()``.\n",
    "\n",
    "Just like tuples, you can get the length of the list with ``len``:"
   ]
  },
  {
   "cell_type": "code",
   "execution_count": 63,
   "metadata": {
    "id": "Oo3Xnk1D6mmC"
   },
   "outputs": [
    {
     "data": {
      "text/plain": [
       "7"
      ]
     },
     "execution_count": 63,
     "metadata": {},
     "output_type": "execute_result"
    }
   ],
   "source": [
    "len(a)"
   ]
  },
  {
   "cell_type": "markdown",
   "metadata": {
    "id": "n1D_4sw56mmC"
   },
   "source": [
    "And you can index lists in exactly the same way you index tuples:"
   ]
  },
  {
   "cell_type": "code",
   "execution_count": 64,
   "metadata": {
    "id": "kJjg0Fw46mmD"
   },
   "outputs": [
    {
     "data": {
      "text/plain": [
       "1"
      ]
     },
     "execution_count": 64,
     "metadata": {},
     "output_type": "execute_result"
    }
   ],
   "source": [
    "a[0]"
   ]
  },
  {
   "cell_type": "code",
   "execution_count": 65,
   "metadata": {
    "id": "Xv-hMgDW6mmD"
   },
   "outputs": [
    {
     "data": {
      "text/plain": [
       "2"
      ]
     },
     "execution_count": 65,
     "metadata": {},
     "output_type": "execute_result"
    }
   ],
   "source": [
    "a[1]"
   ]
  },
  {
   "cell_type": "code",
   "execution_count": 66,
   "metadata": {
    "id": "zJQ_PKMj6mmD"
   },
   "outputs": [
    {
     "data": {
      "text/plain": [
       "[3, 4, 5]"
      ]
     },
     "execution_count": 66,
     "metadata": {},
     "output_type": "execute_result"
    }
   ],
   "source": [
    "a[2:5]"
   ]
  },
  {
   "cell_type": "code",
   "execution_count": 67,
   "metadata": {
    "id": "dcAMviud6mmD"
   },
   "outputs": [
    {
     "data": {
      "text/plain": [
       "[1, 3, 5, 7]"
      ]
     },
     "execution_count": 67,
     "metadata": {},
     "output_type": "execute_result"
    }
   ],
   "source": [
    "a[::2]"
   ]
  },
  {
   "cell_type": "code",
   "execution_count": 68,
   "metadata": {
    "id": "_zUSxhw16mmD"
   },
   "outputs": [
    {
     "data": {
      "text/plain": [
       "[7, 5, 3, 1]"
      ]
     },
     "execution_count": 68,
     "metadata": {},
     "output_type": "execute_result"
    }
   ],
   "source": [
    "a[::-2]"
   ]
  },
  {
   "cell_type": "markdown",
   "metadata": {
    "id": "HqdEl9dz6mmE"
   },
   "source": [
    "You can also combine two lists into a new list, like this:"
   ]
  },
  {
   "cell_type": "code",
   "execution_count": 69,
   "metadata": {
    "id": "Sse5rwSb6mmE"
   },
   "outputs": [
    {
     "data": {
      "text/plain": [
       "[1, 2, 3, 4, 5, 6, 7, 3.1, 5.0, 2.0]"
      ]
     },
     "execution_count": 69,
     "metadata": {},
     "output_type": "execute_result"
    }
   ],
   "source": [
    "b = [3.1, 5.0, 2.]\n",
    "c = a + b\n",
    "c"
   ]
  },
  {
   "cell_type": "markdown",
   "metadata": {
    "id": "yJuc31lS6mmJ"
   },
   "source": [
    "And here is the empty list:"
   ]
  },
  {
   "cell_type": "code",
   "execution_count": 70,
   "metadata": {
    "id": "BzdJMosF6mmJ"
   },
   "outputs": [
    {
     "data": {
      "text/plain": [
       "[]"
      ]
     },
     "execution_count": 70,
     "metadata": {},
     "output_type": "execute_result"
    }
   ],
   "source": [
    "[]"
   ]
  },
  {
   "cell_type": "code",
   "execution_count": 71,
   "metadata": {
    "id": "19rG_ogi6mmK"
   },
   "outputs": [
    {
     "data": {
      "text/plain": [
       "list"
      ]
     },
     "execution_count": 71,
     "metadata": {},
     "output_type": "execute_result"
    }
   ],
   "source": [
    "type([])"
   ]
  },
  {
   "cell_type": "code",
   "execution_count": 72,
   "metadata": {
    "id": "NWeR-kE06mmK"
   },
   "outputs": [
    {
     "data": {
      "text/plain": [
       "0"
      ]
     },
     "execution_count": 72,
     "metadata": {},
     "output_type": "execute_result"
    }
   ],
   "source": [
    "len([])"
   ]
  },
  {
   "cell_type": "code",
   "execution_count": 73,
   "metadata": {
    "id": "bDSRVq0g6mmK"
   },
   "outputs": [
    {
     "data": {
      "text/plain": [
       "[1, 2, 3, 4, 5, 6, 7]"
      ]
     },
     "execution_count": 73,
     "metadata": {},
     "output_type": "execute_result"
    }
   ],
   "source": [
    "a + []"
   ]
  },
  {
   "cell_type": "markdown",
   "metadata": {
    "id": "2xvjnzZW6mmK"
   },
   "source": [
    "So, lists behave just like tuples but with one main difference: **You can change lists**.\n",
    "For example, you can change the second element of the list to 3.4:"
   ]
  },
  {
   "cell_type": "code",
   "execution_count": 74,
   "metadata": {
    "id": "B_hqzzs-6mmK"
   },
   "outputs": [
    {
     "data": {
      "text/plain": [
       "[1, 2, 3, 4, 5, 6, 7]"
      ]
     },
     "execution_count": 74,
     "metadata": {},
     "output_type": "execute_result"
    }
   ],
   "source": [
    "# before\n",
    "a"
   ]
  },
  {
   "cell_type": "code",
   "execution_count": 75,
   "metadata": {
    "id": "OMGPEQWu6mmK"
   },
   "outputs": [],
   "source": [
    "a[1] = 3.4"
   ]
  },
  {
   "cell_type": "code",
   "execution_count": 76,
   "metadata": {
    "id": "TMYZi-ve6mmL"
   },
   "outputs": [
    {
     "data": {
      "text/plain": [
       "[1, 3.4, 3, 4, 5, 6, 7]"
      ]
     },
     "execution_count": 76,
     "metadata": {},
     "output_type": "execute_result"
    }
   ],
   "source": [
    "# after\n",
    "a"
   ]
  },
  {
   "cell_type": "markdown",
   "metadata": {
    "id": "-Qg9ZWFJ6mmL"
   },
   "source": [
    "You can also put a new item at the end of the list using ``list.append()``.\n",
    "Here is how:"
   ]
  },
  {
   "cell_type": "code",
   "execution_count": 77,
   "metadata": {
    "id": "hSwj4Ltw6mmL"
   },
   "outputs": [
    {
     "data": {
      "text/plain": [
       "[1, 3.4, 3, 4, 5, 6, 7]"
      ]
     },
     "execution_count": 77,
     "metadata": {},
     "output_type": "execute_result"
    }
   ],
   "source": [
    "# before\n",
    "a"
   ]
  },
  {
   "cell_type": "code",
   "execution_count": 78,
   "metadata": {
    "id": "i3pqBqhj6mmL"
   },
   "outputs": [],
   "source": [
    "# Push the item at the end\n",
    "a.append(6.3)"
   ]
  },
  {
   "cell_type": "code",
   "execution_count": 79,
   "metadata": {
    "id": "yxpcFOrm6mmL"
   },
   "outputs": [
    {
     "data": {
      "text/plain": [
       "[1, 3.4, 3, 4, 5, 6, 7, 6.3]"
      ]
     },
     "execution_count": 79,
     "metadata": {},
     "output_type": "execute_result"
    }
   ],
   "source": [
    "# after\n",
    "a"
   ]
  },
  {
   "cell_type": "markdown",
   "metadata": {
    "id": "wP1rdIYa6mmM"
   },
   "source": [
    "You can also remove the last item of the list using ``list.pop()``:"
   ]
  },
  {
   "cell_type": "code",
   "execution_count": 80,
   "metadata": {
    "id": "M07yABKL6mmM"
   },
   "outputs": [
    {
     "data": {
      "text/plain": [
       "[1, 3.4, 3, 4, 5, 6, 7, 6.3]"
      ]
     },
     "execution_count": 80,
     "metadata": {},
     "output_type": "execute_result"
    }
   ],
   "source": [
    "# before\n",
    "a"
   ]
  },
  {
   "cell_type": "code",
   "execution_count": 81,
   "metadata": {
    "id": "lJ6Cb3z56mmM"
   },
   "outputs": [
    {
     "data": {
      "text/plain": [
       "6.3"
      ]
     },
     "execution_count": 81,
     "metadata": {},
     "output_type": "execute_result"
    }
   ],
   "source": [
    "# remove the last item\n",
    "a.pop()"
   ]
  },
  {
   "cell_type": "markdown",
   "metadata": {
    "id": "SXDGpWaR6mmM"
   },
   "source": [
    "Notice that the item was returned by ``pop()``.\n",
    "Here is the list after the pop operation:"
   ]
  },
  {
   "cell_type": "code",
   "execution_count": 82,
   "metadata": {
    "id": "xPzpkcij6mmM"
   },
   "outputs": [
    {
     "data": {
      "text/plain": [
       "[1, 3.4, 3, 4, 5, 6, 7]"
      ]
     },
     "execution_count": 82,
     "metadata": {},
     "output_type": "execute_result"
    }
   ],
   "source": [
    "a"
   ]
  },
  {
   "cell_type": "markdown",
   "metadata": {
    "id": "tZ-QBRWl6mmN"
   },
   "source": [
    "The last item was removed. Now ``append()`` and ``pop()`` are *methods* of the *class* ``list``. They can be accessed by doing ``a.append()`` or ``a.pop()``.\n",
    "We will talk about classes and methods in another hands-on activity.\n",
    "You can access the methods of an object by typing the name of the object followed by a ``.`` and then pressing the \"tab\" button of your keyboard.\n",
    "Try it here:"
   ]
  },
  {
   "cell_type": "code",
   "execution_count": 83,
   "metadata": {
    "id": "R8CWQJiL6mmN"
   },
   "outputs": [
    {
     "ename": "SyntaxError",
     "evalue": "invalid syntax (527140490.py, line 1)",
     "output_type": "error",
     "traceback": [
      "\u001b[0;36m  File \u001b[0;32m\"/tmp/ipykernel_20982/527140490.py\"\u001b[0;36m, line \u001b[0;32m1\u001b[0m\n\u001b[0;31m    a.  # Get next to the dot and press \"tab\"\u001b[0m\n\u001b[0m        ^\u001b[0m\n\u001b[0;31mSyntaxError\u001b[0m\u001b[0;31m:\u001b[0m invalid syntax\n"
     ]
    }
   ],
   "source": [
    "a.  # Get next to the dot and press \"tab\""
   ]
  },
  {
   "cell_type": "markdown",
   "metadata": {
    "id": "7OB5sEzR6mmN"
   },
   "source": [
    "Another way to get help about an object is to use ``help()`` on it.\n",
    "You can do:"
   ]
  },
  {
   "cell_type": "code",
   "execution_count": null,
   "metadata": {
    "id": "2APtQtWd6mmO"
   },
   "outputs": [],
   "source": [
    "help(a)"
   ]
  },
  {
   "cell_type": "markdown",
   "metadata": {
    "id": "Dcv8MuL36mmP"
   },
   "source": [
    "This will give you essentially all the information about the object you need.\n",
    "\n",
    "Now back to lists. We saw ``append()`` and ``pop()``.\n",
    "There are more built in methods.\n",
    "``insert()`` is a useful one:"
   ]
  },
  {
   "cell_type": "code",
   "execution_count": null,
   "metadata": {
    "id": "3j9ZSjfl6mmQ"
   },
   "outputs": [],
   "source": [
    "# before\n",
    "a"
   ]
  },
  {
   "cell_type": "code",
   "execution_count": null,
   "metadata": {
    "id": "FP_jjtpl6mmR"
   },
   "outputs": [],
   "source": [
    "a.insert(4, 23.5325)"
   ]
  },
  {
   "cell_type": "code",
   "execution_count": null,
   "metadata": {
    "id": "zq8gZSZm6mmR"
   },
   "outputs": [],
   "source": [
    "a"
   ]
  },
  {
   "cell_type": "markdown",
   "metadata": {
    "id": "1g55yfjg6mmS"
   },
   "source": [
    "Here is what it does:"
   ]
  },
  {
   "cell_type": "code",
   "execution_count": null,
   "metadata": {
    "id": "dEe7SarE6mmS"
   },
   "outputs": [],
   "source": [
    "help(a.insert)"
   ]
  },
  {
   "cell_type": "markdown",
   "metadata": {
    "id": "uQojJRdZ6mmT"
   },
   "source": [
    "``remove()`` is also useful:"
   ]
  },
  {
   "cell_type": "code",
   "execution_count": null,
   "metadata": {
    "id": "P33OncYU6mmU"
   },
   "outputs": [],
   "source": [
    "# before\n",
    "a"
   ]
  },
  {
   "cell_type": "code",
   "execution_count": null,
   "metadata": {
    "id": "2QtZHA0h6mmU"
   },
   "outputs": [],
   "source": [
    "a.remove(3)"
   ]
  },
  {
   "cell_type": "code",
   "execution_count": null,
   "metadata": {
    "id": "v7tkcHg-6mmV"
   },
   "outputs": [],
   "source": [
    "# after\n",
    "a"
   ]
  },
  {
   "cell_type": "markdown",
   "metadata": {
    "id": "EGWa-Jvt6mmV"
   },
   "source": [
    "Here is what it does:"
   ]
  },
  {
   "cell_type": "code",
   "execution_count": null,
   "metadata": {
    "id": "pUPfO2cn6mmV"
   },
   "outputs": [],
   "source": [
    "help(a.remove)"
   ]
  },
  {
   "cell_type": "markdown",
   "metadata": {
    "id": "-RyaGx8c6mmV"
   },
   "source": [
    "Let's try to remove something that is not there:"
   ]
  },
  {
   "cell_type": "code",
   "execution_count": null,
   "metadata": {
    "id": "gBAde1PK6mmW"
   },
   "outputs": [],
   "source": [
    "a.remove(0)"
   ]
  },
  {
   "cell_type": "markdown",
   "metadata": {
    "id": "Hi8gmSrH6mmW"
   },
   "source": [
    "As I said before: **Read the error messages!!!**"
   ]
  },
  {
   "cell_type": "markdown",
   "metadata": {
    "id": "xi6SRhab6mmW"
   },
   "source": [
    "The ``list.extend()`` method allows you to append an entire list to a given list:"
   ]
  },
  {
   "cell_type": "code",
   "execution_count": null,
   "metadata": {
    "id": "DrVYwzmX6mmW"
   },
   "outputs": [],
   "source": [
    "# before\n",
    "a"
   ]
  },
  {
   "cell_type": "code",
   "execution_count": null,
   "metadata": {
    "id": "ZaXERAP36mmW"
   },
   "outputs": [],
   "source": [
    "# extend\n",
    "a.extend([0.3, 0.12, 123.])"
   ]
  },
  {
   "cell_type": "code",
   "execution_count": null,
   "metadata": {
    "id": "vSJiwC_z6mmX"
   },
   "outputs": [],
   "source": [
    "# after\n",
    "a"
   ]
  },
  {
   "cell_type": "markdown",
   "metadata": {
    "id": "I5wTAFiK6mmX"
   },
   "source": [
    "You can also sort a list like this:"
   ]
  },
  {
   "cell_type": "code",
   "execution_count": null,
   "metadata": {
    "id": "jd8rdO_96mmX"
   },
   "outputs": [],
   "source": [
    "# before\n",
    "a"
   ]
  },
  {
   "cell_type": "code",
   "execution_count": null,
   "metadata": {
    "id": "zFqyNKNI6mmY"
   },
   "outputs": [],
   "source": [
    "a.sort()"
   ]
  },
  {
   "cell_type": "code",
   "execution_count": null,
   "metadata": {
    "id": "v1u1Y50I6mmY"
   },
   "outputs": [],
   "source": [
    "# after\n",
    "a"
   ]
  },
  {
   "cell_type": "markdown",
   "metadata": {
    "id": "u0zM7TLM6mmY"
   },
   "source": [
    "Here is how you can count the occurence of a specific element in a list:"
   ]
  },
  {
   "cell_type": "code",
   "execution_count": null,
   "metadata": {
    "id": "BsARTfWd6mmY"
   },
   "outputs": [],
   "source": [
    "a.count(3.4)"
   ]
  },
  {
   "cell_type": "code",
   "execution_count": null,
   "metadata": {
    "id": "igIVSoS16mmY"
   },
   "outputs": [],
   "source": [
    "a.count(0.0)"
   ]
  },
  {
   "cell_type": "markdown",
   "metadata": {
    "id": "lWzn9ZVV6mmZ"
   },
   "source": [
    "And here is how you can find the index of a list element:"
   ]
  },
  {
   "cell_type": "code",
   "execution_count": null,
   "metadata": {
    "id": "ejulxIMt6mmZ"
   },
   "outputs": [],
   "source": [
    "idx = a.index(23.5325)\n",
    "idx"
   ]
  },
  {
   "cell_type": "code",
   "execution_count": null,
   "metadata": {
    "id": "ieek4eWD6mmZ"
   },
   "outputs": [],
   "source": [
    "a[idx]"
   ]
  },
  {
   "cell_type": "markdown",
   "metadata": {
    "id": "bZr9KfrC6mmZ"
   },
   "source": [
    "There more things you can do with lists, but that's it for now.\n",
    "\n",
    "## Questions\n",
    "\n",
    "Consider the list:"
   ]
  },
  {
   "cell_type": "code",
   "execution_count": null,
   "metadata": {
    "id": "3fZLES5u6mma"
   },
   "outputs": [],
   "source": [
    "data = [23.0, 21.0, 23.0, 23.0, 23.84, 24.52]"
   ]
  },
  {
   "cell_type": "markdown",
   "metadata": {
    "id": "lvUZU5XK6mma"
   },
   "source": [
    "+ Find how many occurances of 23.0 there are in ``data``:"
   ]
  },
  {
   "cell_type": "code",
   "execution_count": null,
   "metadata": {
    "id": "x-2aoDGp6mma"
   },
   "outputs": [],
   "source": [
    "# Your code here"
   ]
  },
  {
   "cell_type": "markdown",
   "metadata": {
    "id": "UFngQ0Es6mma"
   },
   "source": [
    "+ Find the mean of the ``data`` list, i.e., the sum of all elements divided by their number. Hint: Use the built-in python function ``sum()``. Here is the help for sum:"
   ]
  },
  {
   "cell_type": "code",
   "execution_count": null,
   "metadata": {
    "id": "rG80WEL66mmb"
   },
   "outputs": [],
   "source": [
    "help(sum)"
   ]
  },
  {
   "cell_type": "markdown",
   "metadata": {
    "id": "mcGl77Sg6mmb"
   },
   "source": [
    "The term ``iterable`` above refers to either tuples or lists (it is more general, but we will explain it another time)."
   ]
  },
  {
   "cell_type": "code",
   "execution_count": null,
   "metadata": {
    "id": "BIbaPE_W6mmb"
   },
   "outputs": [],
   "source": [
    "# your code here"
   ]
  },
  {
   "cell_type": "markdown",
   "metadata": {
    "id": "X0LkJRs26mmb"
   },
   "source": [
    "+ Find the minimum and the maximum of ``data``. Hint: Use the function ``min()`` for the minimum."
   ]
  },
  {
   "cell_type": "code",
   "execution_count": null,
   "metadata": {
    "id": "-HqUrIAQ6mmc"
   },
   "outputs": [],
   "source": [
    "# your code here"
   ]
  },
  {
   "cell_type": "code",
   "execution_count": null,
   "metadata": {
    "id": "ElKXzE-T6mmc"
   },
   "outputs": [],
   "source": [
    "# your code here"
   ]
  }
 ],
 "metadata": {
  "colab": {
   "name": "python-basics-3.ipynb",
   "provenance": []
  },
  "kernelspec": {
   "display_name": "Python 3 (ipykernel)",
   "language": "python",
   "name": "python3"
  },
  "language_info": {
   "codemirror_mode": {
    "name": "ipython",
    "version": 3
   },
   "file_extension": ".py",
   "mimetype": "text/x-python",
   "name": "python",
   "nbconvert_exporter": "python",
   "pygments_lexer": "ipython3",
   "version": "3.10.6"
  }
 },
 "nbformat": 4,
 "nbformat_minor": 1
}
