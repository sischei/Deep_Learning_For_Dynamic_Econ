{
 "cells": [
  {
   "cell_type": "markdown",
   "metadata": {
    "id": "R3PvyptR6qjs"
   },
   "source": [
    "# Python Basics 4: Basics of Strings\n",
    "\n",
    "Python ``str``'s (\"str\" stands for \"string\") are used to represent text. Here is a string:"
   ]
  },
  {
   "cell_type": "code",
   "execution_count": 1,
   "metadata": {
    "id": "tqzbOE696qjw"
   },
   "outputs": [
    {
     "data": {
      "text/plain": [
       "'This is a string'"
      ]
     },
     "execution_count": 1,
     "metadata": {},
     "output_type": "execute_result"
    }
   ],
   "source": [
    "x = \"This is a string\"\n",
    "x"
   ]
  },
  {
   "cell_type": "markdown",
   "metadata": {
    "id": "63sFUjLs6qjx"
   },
   "source": [
    "We could have also used double quotes:"
   ]
  },
  {
   "cell_type": "code",
   "execution_count": 2,
   "metadata": {
    "id": "10Plq9x66qjx"
   },
   "outputs": [
    {
     "data": {
      "text/plain": [
       "'This is the same string'"
      ]
     },
     "execution_count": 2,
     "metadata": {},
     "output_type": "execute_result"
    }
   ],
   "source": [
    "x = 'This is the same string'\n",
    "x"
   ]
  },
  {
   "cell_type": "markdown",
   "metadata": {
    "id": "s5oyuyyc6qjx"
   },
   "source": [
    "Here is the string type:"
   ]
  },
  {
   "cell_type": "code",
   "execution_count": 3,
   "metadata": {
    "id": "4MUXLjix6qjx"
   },
   "outputs": [
    {
     "data": {
      "text/plain": [
       "str"
      ]
     },
     "execution_count": 3,
     "metadata": {},
     "output_type": "execute_result"
    }
   ],
   "source": [
    "type(x)"
   ]
  },
  {
   "cell_type": "markdown",
   "metadata": {
    "id": "SWdYDcZ06qjy"
   },
   "source": [
    "You can do many things with strings. For a complete list see ``help(str)``. Here we will survey the most frequently encountered string operations.\n",
    "\n",
    "First, you can join two strings together:"
   ]
  },
  {
   "cell_type": "code",
   "execution_count": 4,
   "metadata": {
    "id": "W1yTrur_6qjy"
   },
   "outputs": [
    {
     "data": {
      "text/plain": [
       "', and another string.'"
      ]
     },
     "execution_count": 4,
     "metadata": {},
     "output_type": "execute_result"
    }
   ],
   "source": [
    "y = ', and another string.'\n",
    "y"
   ]
  },
  {
   "cell_type": "code",
   "execution_count": 5,
   "metadata": {
    "id": "DIHG3Lbw6qjy"
   },
   "outputs": [
    {
     "data": {
      "text/plain": [
       "'This is the same string, and another string.'"
      ]
     },
     "execution_count": 5,
     "metadata": {},
     "output_type": "execute_result"
    }
   ],
   "source": [
    "z = x + y\n",
    "z"
   ]
  },
  {
   "cell_type": "markdown",
   "metadata": {
    "id": "80wg0uhB6qjy"
   },
   "source": [
    "Here is how you can center a string:"
   ]
  },
  {
   "cell_type": "code",
   "execution_count": 6,
   "metadata": {
    "id": "Tu1k0U2-6qjz"
   },
   "outputs": [
    {
     "data": {
      "text/plain": [
       "'                  This is the same string, and another string.                  '"
      ]
     },
     "execution_count": 6,
     "metadata": {},
     "output_type": "execute_result"
    }
   ],
   "source": [
    "z.center(80) # 80 is the total number of characters in a row:"
   ]
  },
  {
   "cell_type": "markdown",
   "metadata": {
    "id": "5-UKBjtj6qjz"
   },
   "source": [
    "You can also multiply a string with a number to repeat it many times:"
   ]
  },
  {
   "cell_type": "code",
   "execution_count": 7,
   "metadata": {
    "id": "V5sK5YDK6qjz"
   },
   "outputs": [
    {
     "data": {
      "text/plain": [
       "'================================================================================'"
      ]
     },
     "execution_count": 7,
     "metadata": {},
     "output_type": "execute_result"
    }
   ],
   "source": [
    "'=' * 80"
   ]
  },
  {
   "cell_type": "markdown",
   "metadata": {
    "id": "vgLp1qzf6qjz"
   },
   "source": [
    "You can ask how many characters are in a string:"
   ]
  },
  {
   "cell_type": "code",
   "execution_count": 8,
   "metadata": {
    "id": "1MpYLPCI6qj0"
   },
   "outputs": [
    {
     "data": {
      "text/plain": [
       "44"
      ]
     },
     "execution_count": 8,
     "metadata": {},
     "output_type": "execute_result"
    }
   ],
   "source": [
    "len(z)"
   ]
  },
  {
   "cell_type": "markdown",
   "metadata": {
    "id": "7Rllrk_n6qj0"
   },
   "source": [
    "You can also make substrings using indices. These work in exactly the same way as the do for tuples and lists:"
   ]
  },
  {
   "cell_type": "code",
   "execution_count": 9,
   "metadata": {
    "id": "AssXgN9O6qj0"
   },
   "outputs": [
    {
     "data": {
      "text/plain": [
       "'.gnirts rehtona dna ,gnirts emas eht si sihT'"
      ]
     },
     "execution_count": 9,
     "metadata": {},
     "output_type": "execute_result"
    }
   ],
   "source": [
    "z[::-1]"
   ]
  },
  {
   "cell_type": "code",
   "execution_count": 10,
   "metadata": {
    "id": "yslPHUsM6qj4"
   },
   "outputs": [
    {
     "data": {
      "text/plain": [
       "'is is th'"
      ]
     },
     "execution_count": 10,
     "metadata": {},
     "output_type": "execute_result"
    }
   ],
   "source": [
    "z[2:10]"
   ]
  },
  {
   "cell_type": "code",
   "execution_count": 11,
   "metadata": {
    "id": "3IJ7dvzz6qj4"
   },
   "outputs": [
    {
     "data": {
      "text/plain": [
       "'T'"
      ]
     },
     "execution_count": 11,
     "metadata": {},
     "output_type": "execute_result"
    }
   ],
   "source": [
    "z[0]"
   ]
  },
  {
   "cell_type": "markdown",
   "metadata": {
    "id": "CEJi_qlD6qj5"
   },
   "source": [
    "Another useful thing is padding a string representing a number with zeros. This is particularly useful when reading many data files numbered as \"001, 002, 003,\" etc.\n",
    "Here it is:"
   ]
  },
  {
   "cell_type": "code",
   "execution_count": 12,
   "metadata": {
    "id": "6Z2QATOl6qj6"
   },
   "outputs": [
    {
     "data": {
      "text/plain": [
       "'00023'"
      ]
     },
     "execution_count": 12,
     "metadata": {},
     "output_type": "execute_result"
    }
   ],
   "source": [
    "'23'.zfill(5)"
   ]
  },
  {
   "cell_type": "code",
   "execution_count": 13,
   "metadata": {
    "id": "qiIzHWzB6qj6"
   },
   "outputs": [
    {
     "data": {
      "text/plain": [
       "'0001'"
      ]
     },
     "execution_count": 13,
     "metadata": {},
     "output_type": "execute_result"
    }
   ],
   "source": [
    "'1'.zfill(4)"
   ]
  },
  {
   "cell_type": "markdown",
   "metadata": {
    "id": "9wuLdfnX6qj6"
   },
   "source": [
    "There is also an empty string:"
   ]
  },
  {
   "cell_type": "code",
   "execution_count": 14,
   "metadata": {
    "id": "acdK7c476qj6"
   },
   "outputs": [
    {
     "data": {
      "text/plain": [
       "''"
      ]
     },
     "execution_count": 14,
     "metadata": {},
     "output_type": "execute_result"
    }
   ],
   "source": [
    "''"
   ]
  },
  {
   "cell_type": "code",
   "execution_count": 15,
   "metadata": {
    "id": "SPHMDux06qj7"
   },
   "outputs": [
    {
     "data": {
      "text/plain": [
       "'0000'"
      ]
     },
     "execution_count": 15,
     "metadata": {},
     "output_type": "execute_result"
    }
   ],
   "source": [
    "''.zfill(4)"
   ]
  },
  {
   "cell_type": "code",
   "execution_count": 16,
   "metadata": {
    "id": "Vp40-YxC6qj7"
   },
   "outputs": [
    {
     "data": {
      "text/plain": [
       "0"
      ]
     },
     "execution_count": 16,
     "metadata": {},
     "output_type": "execute_result"
    }
   ],
   "source": [
    "len('')"
   ]
  },
  {
   "cell_type": "markdown",
   "metadata": {
    "id": "rb21xgTt6qj8"
   },
   "source": [
    "Now I am going to show you the most important thing you need to remember: How to turn into strings integers and floats so that you present the result of your analysis.\n",
    "Let's get some numbers first:"
   ]
  },
  {
   "cell_type": "code",
   "execution_count": 17,
   "metadata": {
    "id": "DFki5MJu6qj8"
   },
   "outputs": [],
   "source": [
    "# an integer\n",
    "a = 123\n",
    "# a floating point number\n",
    "b = 12.908450"
   ]
  },
  {
   "cell_type": "markdown",
   "metadata": {
    "id": "ujSNvDTB6qj8"
   },
   "source": [
    "Let's say that you want to put these numbers into a string so that you print them on the screen or maybe write something in a text file.\n",
    "Let's keep it simple. Say that we want to write: \"After my calculation I found out that a=*replace with value for a* and that b=*replace with value for b*.\"\n",
    "Here is one way to do this - not the best one though:"
   ]
  },
  {
   "cell_type": "code",
   "execution_count": 18,
   "metadata": {
    "id": "KvYhq3QH6qj9"
   },
   "outputs": [
    {
     "data": {
      "text/plain": [
       "'After my calculation I found out that a=123 and that b=12.90845'"
      ]
     },
     "execution_count": 18,
     "metadata": {},
     "output_type": "execute_result"
    }
   ],
   "source": [
    "x = 'After my calculation I found out that a=' + str(a) + ' and that b=' + str(b)\n",
    "x"
   ]
  },
  {
   "cell_type": "markdown",
   "metadata": {
    "id": "rdK26nhl6qj9"
   },
   "source": [
    "So, all we did is turn the numbers into strings (using ``str(number)``) and the add the strings together.\n",
    "This is not the best way it doesn't allow us to change the number of significant digists we present.\n",
    "The *best* way to do it is to use *string formating*:"
   ]
  },
  {
   "cell_type": "code",
   "execution_count": 19,
   "metadata": {
    "id": "qRM0JmW_6qj9"
   },
   "outputs": [
    {
     "data": {
      "text/plain": [
       "'After my calculation I found out that a=123 and that b=12.91'"
      ]
     },
     "execution_count": 19,
     "metadata": {},
     "output_type": "execute_result"
    }
   ],
   "source": [
    "x = 'After my calculation I found out that a={0:d} and that b={1:1.2f}'.format(a, b)\n",
    "x"
   ]
  },
  {
   "cell_type": "markdown",
   "metadata": {
    "id": "ZoN4HPF_6qj9"
   },
   "source": [
    "Let me explain what this does. First notice the brackets: ``{0:d}`` and ``{1:1.2f}``. The  number in the bracket before the ``:`` matches an input variable in the ``format(a, b)`` function that follows. For example, the ``0`` of ``{0:d}`` matches the first input of ``format`` which is ``a``. The first ``1`` (before the ``:``) of ``{1:1.2f}`` matches the second input of ``format`` which is ``b``.\n",
    "The characters after the ``:`` in the brackets tell Python how you would like to turn that variable into a string. The ``d`` means that you are expecting a decimal integer. The ``1.2f`` means that you are expecting a floating point number and that you want to keep two significant digits.\n",
    "\n",
    "Here are some other examples of formating:"
   ]
  },
  {
   "cell_type": "code",
   "execution_count": 20,
   "metadata": {
    "id": "xIZtU7pq6qj-"
   },
   "outputs": [
    {
     "data": {
      "text/plain": [
       "'This is a=   12 with five characters in total padding with empty space'"
      ]
     },
     "execution_count": 20,
     "metadata": {},
     "output_type": "execute_result"
    }
   ],
   "source": [
    "'This is a={0:5d} with five characters in total padding with empty space'.format(12)"
   ]
  },
  {
   "cell_type": "code",
   "execution_count": 21,
   "metadata": {
    "id": "Qih_qWa76qj-"
   },
   "outputs": [
    {
     "data": {
      "text/plain": [
       "'This is pi=3.141592653589793115997963468544 (thirty digits of pi)'"
      ]
     },
     "execution_count": 21,
     "metadata": {},
     "output_type": "execute_result"
    }
   ],
   "source": [
    "import math\n",
    "'This is pi={0:1.30f} (thirty digits of pi)'.format(math.pi)"
   ]
  },
  {
   "cell_type": "code",
   "execution_count": 22,
   "metadata": {
    "id": "JVlS5-A76qj-"
   },
   "outputs": [
    {
     "data": {
      "text/plain": [
       "'This is b=1.291e+01 in scientific notation with three significant digits'"
      ]
     },
     "execution_count": 22,
     "metadata": {},
     "output_type": "execute_result"
    }
   ],
   "source": [
    "'This is b={0:1.3e} in scientific notation with three significant digits'.format(b)"
   ]
  },
  {
   "cell_type": "code",
   "execution_count": 23,
   "metadata": {
    "id": "QGKW_5rM6qj-"
   },
   "outputs": [
    {
     "data": {
      "text/plain": [
       "'This is a=173 in octal format.'"
      ]
     },
     "execution_count": 23,
     "metadata": {},
     "output_type": "execute_result"
    }
   ],
   "source": [
    "'This is a={0:o} in octal format.'.format(a) "
   ]
  },
  {
   "cell_type": "code",
   "execution_count": 24,
   "metadata": {
    "id": "BRB-pOIv6qj-"
   },
   "outputs": [
    {
     "data": {
      "text/plain": [
       "'And this is a=7b in hex format'"
      ]
     },
     "execution_count": 24,
     "metadata": {},
     "output_type": "execute_result"
    }
   ],
   "source": [
    "'And this is a={0:x} in hex format'.format(a)"
   ]
  },
  {
   "cell_type": "markdown",
   "metadata": {
    "id": "mA3lpV-e6qj-"
   },
   "source": [
    "A complete overview of the formating language is, of course, beyond the scope of this tutorial. You can find it [here](https://www.geeksforgeeks.org/python-format-function/).\n",
    "\n",
    "### Questions\n",
    "\n",
    "+ Rerun the code blocks above playing with the formatting brackets. Increase/decrease the number of digits. Change from decimal to float and vice versa. Add a third number 'c=whatever you like' in our ``x`` string above.\n"
   ]
  },
  {
   "cell_type": "markdown",
   "metadata": {
    "id": "9akezLPv6qj_"
   },
   "source": [
    "## The print function\n",
    "\n"
   ]
  },
  {
   "cell_type": "markdown",
   "metadata": {
    "id": "tmOupiAN6qj_"
   },
   "source": [
    "So far, we were only able to show things in the screen if we did something like this:"
   ]
  },
  {
   "cell_type": "code",
   "execution_count": 25,
   "metadata": {
    "id": "nB7Rvu_Q6qj_"
   },
   "outputs": [
    {
     "data": {
      "text/plain": [
       "'After my calculation I found out that a=123 and that b=12.91'"
      ]
     },
     "execution_count": 25,
     "metadata": {},
     "output_type": "execute_result"
    }
   ],
   "source": [
    "x"
   ]
  },
  {
   "cell_type": "markdown",
   "metadata": {
    "id": "5-Gq7cyP6qj_"
   },
   "source": [
    "This doesn't work in an actual Python program, however. It only works in a Jupyter notebook. But even in Jupyter notebooks, if you wanted to show more than one thing, this doesn't work. See this:"
   ]
  },
  {
   "cell_type": "code",
   "execution_count": 26,
   "metadata": {
    "id": "UVYXLFC_6qkA"
   },
   "outputs": [
    {
     "data": {
      "text/plain": [
       "', and another string.'"
      ]
     },
     "execution_count": 26,
     "metadata": {},
     "output_type": "execute_result"
    }
   ],
   "source": [
    "x\n",
    "y"
   ]
  },
  {
   "cell_type": "markdown",
   "metadata": {
    "id": "91vvehVK6qkA"
   },
   "source": [
    "Only ``y`` was displayed.\n",
    "To display ``x`` and then ``y``, you need to use the ``print()`` function.\n",
    "Here it is:"
   ]
  },
  {
   "cell_type": "code",
   "execution_count": 27,
   "metadata": {
    "id": "QEvoJGOX6qkA"
   },
   "outputs": [
    {
     "name": "stdout",
     "output_type": "stream",
     "text": [
      "After my calculation I found out that a=123 and that b=12.91\n",
      ", and another string.\n"
     ]
    }
   ],
   "source": [
    "print(x)\n",
    "print(y)"
   ]
  },
  {
   "cell_type": "markdown",
   "metadata": {
    "id": "lQxL-kAk6qkA"
   },
   "source": [
    "Just like formating, there are a lot of details in ``print()``. Here, we will be only covering the very basics.\n",
    "Let's start by printing some numerical variables:"
   ]
  },
  {
   "cell_type": "code",
   "execution_count": 28,
   "metadata": {
    "id": "m1dcC5Nc6qkA"
   },
   "outputs": [
    {
     "name": "stdout",
     "output_type": "stream",
     "text": [
      "123\n",
      "98.2082\n"
     ]
    }
   ],
   "source": [
    "a = 123\n",
    "b = 98.2082\n",
    "print(a)\n",
    "print(b)"
   ]
  },
  {
   "cell_type": "markdown",
   "metadata": {
    "id": "FhwRivGo6qkA"
   },
   "source": [
    "You can also print the variables one after the other:"
   ]
  },
  {
   "cell_type": "code",
   "execution_count": 29,
   "metadata": {
    "id": "40EMUbfo6qkB"
   },
   "outputs": [
    {
     "name": "stdout",
     "output_type": "stream",
     "text": [
      "123 98.2082\n"
     ]
    }
   ],
   "source": [
    "print(a, b)"
   ]
  },
  {
   "cell_type": "markdown",
   "metadata": {
    "id": "tL7Bnsks6qkB"
   },
   "source": [
    "Notice that print adds an empty space between the arguments that you want to print.\n",
    "There is no limit to how many arguments print can have.\n",
    "The following also works:"
   ]
  },
  {
   "cell_type": "code",
   "execution_count": 30,
   "metadata": {
    "id": "PRlYxLza6qkB"
   },
   "outputs": [
    {
     "name": "stdout",
     "output_type": "stream",
     "text": [
      "123 98.2082 After my calculation I found out that a=123 and that b=12.91 , and another string. and some more\n"
     ]
    }
   ],
   "source": [
    "print(a, b, x, y, 'and some more')"
   ]
  },
  {
   "cell_type": "markdown",
   "metadata": {
    "id": "pVkETjgY6qkB"
   },
   "source": [
    "Of course when you print numerics, you probably want to do it like this:"
   ]
  },
  {
   "cell_type": "code",
   "execution_count": null,
   "metadata": {
    "id": "vFSVPaLH6qkB"
   },
   "outputs": [],
   "source": [
    "print('a={0:d}, b={1:1.2f}'.format(a,b))"
   ]
  },
  {
   "cell_type": "markdown",
   "metadata": {
    "id": "4pulCzvw6qkB"
   },
   "source": [
    "That is, instead of just printing ``a`` and then ``b``, you make a string with just the desired format and you print that string.\n",
    "\n",
    "Notice that ``print()`` puts a newline each time it is called.\n",
    "See this:"
   ]
  },
  {
   "cell_type": "code",
   "execution_count": null,
   "metadata": {
    "id": "unwhCyEf6qkB"
   },
   "outputs": [],
   "source": [
    "print('This is the first line.')\n",
    "print('This will appear in the second line.')"
   ]
  },
  {
   "cell_type": "markdown",
   "metadata": {
    "id": "xyRsSWyF6qkC"
   },
   "source": [
    "There is a way, a special character called ``\\n`` which can be used to mark a newline in a string. When ``print()`` sees this character, then it adds a newline. See how it works:"
   ]
  },
  {
   "cell_type": "code",
   "execution_count": null,
   "metadata": {
    "id": "tCRN4jOV6qkC"
   },
   "outputs": [],
   "source": [
    "print('This is the first line.\\nThis will appear in the second line.')"
   ]
  },
  {
   "cell_type": "markdown",
   "metadata": {
    "id": "xSfWev6p6qkC"
   },
   "source": [
    "Here, let me just print 5 new lines:"
   ]
  },
  {
   "cell_type": "code",
   "execution_count": null,
   "metadata": {
    "id": "DspaC3G06qkC"
   },
   "outputs": [],
   "source": [
    "print('\\n\\n\\n\\n\\n')"
   ]
  },
  {
   "cell_type": "markdown",
   "metadata": {
    "id": "sZaQmEIz6qkC"
   },
   "source": [
    "Characters like ``\\n`` are called [special characters](https://www.w3schools.com/python/gloss_python_escape_characters.asp). In this class, we will use the ``\\t`` character very often to align what we print.\n",
    "This is called the tab character.\n",
    "Here is what it does:"
   ]
  },
  {
   "cell_type": "code",
   "execution_count": null,
   "metadata": {
    "id": "qPc40MoH6qkC"
   },
   "outputs": [],
   "source": [
    "print('A\\tB\\tC')"
   ]
  },
  {
   "cell_type": "markdown",
   "metadata": {
    "id": "_YjzNFYr6qkD"
   },
   "source": [
    "Get it? Here is why it is useful. Let's print a table of some fake data:"
   ]
  },
  {
   "cell_type": "code",
   "execution_count": null,
   "metadata": {
    "id": "DDiQz9Ea6qkD"
   },
   "outputs": [],
   "source": [
    "print('ID\\tTime (s)\\tMass (kg)\\t')\n",
    "print('-' * 40) # Prints 40 '-'\n",
    "print('{0:d}\\t{1:1.2f}\\t\\t{2:1.2f}'.format(0, 0.01, 12.2))\n",
    "print('{0:d}\\t{1:1.2f}\\t\\t{2:1.2f}'.format(1, 0.02, 12.5))\n",
    "print('{0:d}\\t{1:1.2f}\\t\\t{2:1.2f}'.format(2, 0.05, 13.1))\n",
    "print('{0:d}\\t{1:1.2f}\\t\\t{2:1.2f}'.format(3, 0.07, 13.6))\n",
    "print('{0:d}\\t{1:1.2f}\\t\\t{2:1.2f}'.format(4, 0.08, 14.2))"
   ]
  },
  {
   "cell_type": "markdown",
   "metadata": {
    "id": "4k5QFVLM6qkD"
   },
   "source": [
    "Notice that I had to use two ``\\t``'s to allign the mass.\n",
    "It's probably too much to try to remember all these details.\n",
    "We will see many more examples in the hands-on activities and you will pick up certain tricks."
   ]
  },
  {
   "cell_type": "markdown",
   "metadata": {
    "id": "Tp0Dzs4k6qkD"
   },
   "source": [
    "## Questions\n",
    "\n",
    "Here are some data:"
   ]
  },
  {
   "cell_type": "code",
   "execution_count": null,
   "metadata": {
    "id": "LFIVGFWp6qkD"
   },
   "outputs": [],
   "source": [
    "data = [23.0, 21.0, 23.0, 23.0, 23.84, 24.52]"
   ]
  },
  {
   "cell_type": "markdown",
   "metadata": {
    "id": "REgQt6NL6qkD"
   },
   "source": [
    "Use ``print()`` and formating to present the data like this:\n",
    "```\n",
    "DATA\n",
    "------\n",
    "2.3e+1\n",
    "2.1e+1\n",
    "...\n",
    "```\n",
    "etc. Then calculate the average of the data and print it with two significant digits."
   ]
  },
  {
   "cell_type": "code",
   "execution_count": null,
   "metadata": {
    "id": "MeR2xqzr6qkD"
   },
   "outputs": [],
   "source": [
    "# your code here"
   ]
  }
 ],
 "metadata": {
  "colab": {
   "name": "python-basics-4.ipynb",
   "provenance": []
  },
  "kernelspec": {
   "display_name": "Python 3 (ipykernel)",
   "language": "python",
   "name": "python3"
  },
  "language_info": {
   "codemirror_mode": {
    "name": "ipython",
    "version": 3
   },
   "file_extension": ".py",
   "mimetype": "text/x-python",
   "name": "python",
   "nbconvert_exporter": "python",
   "pygments_lexer": "ipython3",
   "version": "3.10.6"
  }
 },
 "nbformat": 4,
 "nbformat_minor": 1
}
