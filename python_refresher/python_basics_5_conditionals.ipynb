{
  "cells": [
    {
      "cell_type": "markdown",
      "metadata": {
        "id": "3PBA4YPB6vWl"
      },
      "source": [
        "# Python Basics 5: Conditionals\n",
        "\n",
        "Conditional statements give you a way to change the flow of a Python program depending on the result of a boolean expression.\n",
        "Let's first see what are boolean expressions.\n",
        "Boolean expressions are Python expressions that return either True of False.\n",
        "The simplest ones are:"
      ]
    },
    {
      "cell_type": "code",
      "execution_count": null,
      "metadata": {
        "id": "a4jfFUEE6vWp"
      },
      "outputs": [],
      "source": [
        "True"
      ]
    },
    {
      "cell_type": "code",
      "execution_count": null,
      "metadata": {
        "id": "Y8L-4y586vWs"
      },
      "outputs": [],
      "source": [
        "False"
      ]
    },
    {
      "cell_type": "markdown",
      "metadata": {
        "id": "OM_Qtn1V6vWt"
      },
      "source": [
        "But here are some more:"
      ]
    },
    {
      "cell_type": "code",
      "execution_count": null,
      "metadata": {
        "id": "F8AV8FB46vWt"
      },
      "outputs": [],
      "source": [
        "1 > 2"
      ]
    },
    {
      "cell_type": "code",
      "execution_count": null,
      "metadata": {
        "id": "TxDg1wx66vWt"
      },
      "outputs": [],
      "source": [
        "25.0 <= 25.1"
      ]
    },
    {
      "cell_type": "code",
      "execution_count": null,
      "metadata": {
        "id": "v8HHdp1S6vWu"
      },
      "outputs": [],
      "source": [
        "5 == 5"
      ]
    },
    {
      "cell_type": "markdown",
      "metadata": {
        "id": "5SmwZwt16vWu"
      },
      "source": [
        "Or with variables:"
      ]
    },
    {
      "cell_type": "code",
      "execution_count": null,
      "metadata": {
        "id": "0L9Zmit66vWu"
      },
      "outputs": [],
      "source": [
        "x = 'This is a string.'\n",
        "len(x) > 10"
      ]
    },
    {
      "cell_type": "markdown",
      "metadata": {
        "id": "Zg4gWEyA6vWv"
      },
      "source": [
        "Here are a few things with strings:"
      ]
    },
    {
      "cell_type": "code",
      "execution_count": null,
      "metadata": {
        "id": "gPWGfyn-6vWv"
      },
      "outputs": [],
      "source": [
        "x == 'This is a string.'"
      ]
    },
    {
      "cell_type": "code",
      "execution_count": null,
      "metadata": {
        "id": "SAFq2vdm6vWv"
      },
      "outputs": [],
      "source": [
        "x == 'This is a st'"
      ]
    },
    {
      "cell_type": "code",
      "execution_count": null,
      "metadata": {
        "id": "ouIiGzr_6vWw"
      },
      "outputs": [],
      "source": [
        "'This' < 'This is'"
      ]
    },
    {
      "cell_type": "markdown",
      "metadata": {
        "id": "Ev7Y2RLQ6vWw"
      },
      "source": [
        "So, what can you put in a boolean expression.\n",
        "Well, any expression that gives you either True or False.\n",
        "This is quite general, but very often we use the following building components:\n",
        "\n",
        "- ``>``: greater than\n",
        "- ``>=``: greater than or equal to\n",
        "- ``==``: equal to\n",
        "- ``<`` less than\n",
        "- ``<=`` less than or equal to\n",
        "- ``not`` gives you the opposite of whatever boolean expression follows\n",
        "- ``or`` True if any of the boolean expressions to the left or to the right are True\n",
        "- ``and`` True if both of the boolean expressions to the left and to the right are True\n",
        "\n",
        "You absolutely have to remember all these!!!\n",
        "\n",
        "## The simplet ``if``-statement\n",
        "Now, let's look at the simplest conditional statement.\n",
        "It's syntax is as follows:\n",
        "```\n",
        "if <boolean_expression>:\n",
        "    # Expressions that run if the bolean_expression is True\n",
        "```\n",
        "That's it. Let's try it:"
      ]
    },
    {
      "cell_type": "code",
      "execution_count": null,
      "metadata": {
        "id": "1aSX4tj-6vWw"
      },
      "outputs": [],
      "source": [
        "x = 'Sort string'\n",
        "if len(x) <= 20:\n",
        "    print('The string x has less than 20 characters.')\n",
        "    \n",
        "if not len(x) <= 20:\n",
        "    print('The string x does not have less than 20 characters.')\n",
        "    \n",
        "if len(x) >= 10 and len(x) <= 30:\n",
        "    print('The string x have between 10 and 30 characters.')"
      ]
    },
    {
      "cell_type": "markdown",
      "metadata": {
        "id": "MgTjqQOy6vWw"
      },
      "source": [
        "### Questions\n",
        "+ Change the string ``x`` in the code block above so that nothing is printed in the first ``if`` and something is printed in the second if."
      ]
    },
    {
      "cell_type": "markdown",
      "metadata": {
        "id": "g3juGSHo6vWx"
      },
      "source": [
        "## Be careful of white spaces\n",
        "**Very important:** In Python, the empty spaces below if are very important when you have multiple expressions.\n",
        "Here is an example that works:"
      ]
    },
    {
      "cell_type": "code",
      "execution_count": null,
      "metadata": {
        "id": "i96ZGvgo6vWx"
      },
      "outputs": [],
      "source": [
        "if len(x) <= 20:\n",
        "    print('The string x has less than 20 characters.')\n",
        "    print('And this is an additional line.')"
      ]
    },
    {
      "cell_type": "markdown",
      "metadata": {
        "id": "FY5aQbZU6vWx"
      },
      "source": [
        "Here is an example that doesn't work because the white spaces are not aligned:"
      ]
    },
    {
      "cell_type": "code",
      "execution_count": null,
      "metadata": {
        "id": "UEw1Nvh46vWy"
      },
      "outputs": [],
      "source": [
        "if len(x) <= 20:\n",
        "    print('The string x has less than 20 characters.')\n",
        "  print('And this is an additional line.')"
      ]
    },
    {
      "cell_type": "markdown",
      "metadata": {
        "id": "U0OSIwrG6vWy"
      },
      "source": [
        "By the way, I am using tabs below if's. It doesn't matter how many white spaces you use as soon as you are consistent.\n",
        "For example, here is the same code with just one white space:"
      ]
    },
    {
      "cell_type": "code",
      "execution_count": null,
      "metadata": {
        "id": "tlJxIZme6vWy"
      },
      "outputs": [],
      "source": [
        "if len(x) <= 20:\n",
        " print('The string x has less than 20 characters.')\n",
        " print('And this is an additional line.')"
      ]
    },
    {
      "cell_type": "markdown",
      "metadata": {
        "id": "EYwk4onH6vWy"
      },
      "source": [
        "The best practice (and what Jupyter is trying to do by default) is to use a tab or 4 white spaces."
      ]
    },
    {
      "cell_type": "markdown",
      "metadata": {
        "id": "2CA0v0G76vWy"
      },
      "source": [
        "## The ``if-else`` statement\n",
        "\n",
        "Some times you want to test for a boolean expression and run something else if it is false.\n",
        "You can do this with the ``if-else`` statement:\n",
        "```\n",
        "if <boolean_expression>:\n",
        "    # Expressions that run if the bolean_expression is True\n",
        "else:\n",
        "    # Expressions n to run if the boolean_expression is False\n",
        "```\n",
        "Let's try it:"
      ]
    },
    {
      "cell_type": "code",
      "execution_count": null,
      "metadata": {
        "id": "fwWJZ6Di6vWz"
      },
      "outputs": [],
      "source": [
        "x = 'Sort string'\n",
        "if len(x) <= 20:\n",
        "    print('The string x has less than 20 characters.')\n",
        "else:\n",
        "    print('The string x does not have less than 20 characters.')"
      ]
    },
    {
      "cell_type": "markdown",
      "metadata": {
        "id": "Dxu1l_YM6vWz"
      },
      "source": [
        "### Questions\n",
        "\n",
        "- Change ``x`` in the code block above so that the expressions after else run."
      ]
    },
    {
      "cell_type": "markdown",
      "metadata": {
        "id": "Uq7k5L9R6vWz"
      },
      "source": [
        "## The ``if-elif-else`` statement\n",
        "\n",
        "Sometimes you want to test for multiple boolean expressions.\n",
        "You can do this using the ``if-elif-else`` statement:\n",
        "```\n",
        "if <boolean_expression>:\n",
        "    # Expressions that run if the bolean_expression is True\n",
        "elif <other_boolean_expression>:\n",
        "    # Expressions that run if the other_bolean_expression is True\n",
        "    # if boolean_expression is False\n",
        "else:\n",
        "    # Expressions n to run otherwise\n",
        "```\n",
        "An example:"
      ]
    },
    {
      "cell_type": "code",
      "execution_count": null,
      "metadata": {
        "id": "wS1Qlq_E6vWz"
      },
      "outputs": [],
      "source": [
        "x = 'Sort string'\n",
        "if len(x) <= 20:\n",
        "    print('The string x has less than 20 characters.')\n",
        "elif len(x) <= 30:\n",
        "    print('The string x has between than 21 and 30 characters.')\n",
        "else:\n",
        "    print('The string x has more than 30 characters.')"
      ]
    },
    {
      "cell_type": "markdown",
      "metadata": {
        "id": "9OzXFDpR6vW0"
      },
      "source": [
        "Note that you can have as many ``elif``'s as you want and that ``else`` is always optional.\n",
        "\n",
        "## Questions\n",
        "- Change the string ``x`` in the above code block so that the ``elif`` expression runs.\n",
        "- Change the string ``x`` in the above code block so that the ``else`` expression runs.\n",
        "- Add one more ``elif`` to test if ``len(x) <= 40``. Modify the ``print()`` statements accordingly."
      ]
    }
  ],
  "metadata": {
    "kernelspec": {
      "display_name": "Python 3",
      "language": "python",
      "name": "python3"
    },
    "language_info": {
      "codemirror_mode": {
        "name": "ipython",
        "version": 3
      },
      "file_extension": ".py",
      "mimetype": "text/x-python",
      "name": "python",
      "nbconvert_exporter": "python",
      "pygments_lexer": "ipython3",
      "version": "3.7.7"
    },
    "colab": {
      "name": "python-basics-5.ipynb",
      "provenance": []
    }
  },
  "nbformat": 4,
  "nbformat_minor": 0
}