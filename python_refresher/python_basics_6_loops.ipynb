{
 "cells": [
  {
   "cell_type": "markdown",
   "metadata": {
    "id": "iipo2Ez-6zBV"
   },
   "source": [
    "# Python Basics 6: Loops\n",
    "\n",
    "Loops are used when you need to run the same expression of similar data.\n",
    "There are two kinds of loops in Python: ``for`` loops and ``while`` loops.\n",
    "\n",
    "## ``for`` loops\n",
    "\n",
    "The syntax of ``for`` loops is as follows:\n",
    "\n",
    "```\n",
    "for <variable> in <collection>:\n",
    "    # run an expression potentially using <variable>\n",
    "    # run another expression ...\n",
    "```\n",
    "The idea is that ``<collection>`` is an iterable object like a ``tuple`` or a ``list`` and that ``<variable>`` takes sequentially each one of the values in that iterable object.\n",
    "Here are a few examples:"
   ]
  },
  {
   "cell_type": "code",
   "execution_count": null,
   "metadata": {
    "id": "b0OO4-fI6zBX",
    "outputId": "49859de6-6fea-49a0-f04d-04c3bf01fd03"
   },
   "outputs": [
    {
     "name": "stdout",
     "output_type": "stream",
     "text": [
      "x = 1\n",
      "x = 5\n",
      "x = 6\n",
      "x = 10\n",
      "x = 20\n"
     ]
    }
   ],
   "source": [
    "for x in (1, 5, 6, 10, 20):\n",
    "    print('x = {0:d}'.format(x))"
   ]
  },
  {
   "cell_type": "code",
   "execution_count": null,
   "metadata": {
    "id": "p8uFuZIf6zBa",
    "outputId": "38ece8f1-defa-4957-e26a-e51c7b12d388"
   },
   "outputs": [
    {
     "name": "stdout",
     "output_type": "stream",
     "text": [
      "x = 1\n",
      "x = 5\n",
      "x = 6\n",
      "x = 10\n",
      "x = 20\n"
     ]
    }
   ],
   "source": [
    "for x in [1, 5, 6, 10, 20]:\n",
    "    print('x = {0:d}'.format(x))"
   ]
  },
  {
   "cell_type": "code",
   "execution_count": null,
   "metadata": {
    "id": "1tb16G8y6zBa",
    "outputId": "bc87a5a3-9488-416a-fc5d-d8d2c048bc04"
   },
   "outputs": [
    {
     "name": "stdout",
     "output_type": "stream",
     "text": [
      "c = 'T'\n",
      "c = 'h'\n",
      "c = 'i'\n",
      "c = 's'\n",
      "c = ' '\n",
      "c = 'i'\n",
      "c = 's'\n",
      "c = ' '\n",
      "c = 'a'\n",
      "c = ' '\n",
      "c = 's'\n",
      "c = 't'\n",
      "c = 'r'\n",
      "c = 'i'\n",
      "c = 'n'\n",
      "c = 'g'\n"
     ]
    }
   ],
   "source": [
    "for c in 'This is a string':\n",
    "    print('c = \\'{0:s}\\''.format(c))"
   ]
  },
  {
   "cell_type": "markdown",
   "metadata": {
    "id": "Hb0rBK0C6zBb"
   },
   "source": [
    "Very often, we want to loop over all values from 0 to a given number.\n",
    "We can do this with ``range``:"
   ]
  },
  {
   "cell_type": "code",
   "execution_count": null,
   "metadata": {
    "id": "feO6lquA6zBb",
    "outputId": "8e080f14-34d8-4d5d-e164-c4c72e64ffb4"
   },
   "outputs": [
    {
     "name": "stdout",
     "output_type": "stream",
     "text": [
      "i = 0\n",
      "i = 1\n",
      "i = 2\n",
      "i = 3\n",
      "i = 4\n",
      "i = 5\n",
      "i = 6\n",
      "i = 7\n",
      "i = 8\n",
      "i = 9\n"
     ]
    }
   ],
   "source": [
    "for i in range(10):\n",
    "    print('i = {0:d}'.format(i))"
   ]
  },
  {
   "cell_type": "markdown",
   "metadata": {
    "id": "NgchjDw-6zBb"
   },
   "source": [
    "You don't have to start at 0:"
   ]
  },
  {
   "cell_type": "code",
   "execution_count": null,
   "metadata": {
    "id": "gQCk-zDA6zBb",
    "outputId": "36c053d3-78e1-4095-e3da-0abe68f205f9"
   },
   "outputs": [
    {
     "name": "stdout",
     "output_type": "stream",
     "text": [
      "i = 2\n",
      "i = 3\n",
      "i = 4\n",
      "i = 5\n",
      "i = 6\n",
      "i = 7\n",
      "i = 8\n",
      "i = 9\n"
     ]
    }
   ],
   "source": [
    "for i in range(2, 10):\n",
    "    print('i = {0:d}'.format(i))"
   ]
  },
  {
   "cell_type": "markdown",
   "metadata": {
    "id": "sNX-bLZe6zBc"
   },
   "source": [
    "And you can skip numbers:"
   ]
  },
  {
   "cell_type": "code",
   "execution_count": null,
   "metadata": {
    "id": "58wxhtBf6zBc",
    "outputId": "5966450f-3a3b-45b6-83f7-21740a767bee"
   },
   "outputs": [
    {
     "name": "stdout",
     "output_type": "stream",
     "text": [
      "i = 2\n",
      "i = 4\n",
      "i = 6\n",
      "i = 8\n"
     ]
    }
   ],
   "source": [
    "for i in range(2, 10, 2):\n",
    "    print('i = {0:d}'.format(i))"
   ]
  },
  {
   "cell_type": "markdown",
   "metadata": {
    "id": "dPrDcxrH6zBc"
   },
   "source": [
    "And you can also go backwards:"
   ]
  },
  {
   "cell_type": "code",
   "execution_count": null,
   "metadata": {
    "id": "72_IeX236zBd",
    "outputId": "b645ac95-d9c7-4b13-e8a8-bddb1c3a649f"
   },
   "outputs": [
    {
     "name": "stdout",
     "output_type": "stream",
     "text": [
      "i = 10\n",
      "i = 9\n",
      "i = 8\n",
      "i = 7\n",
      "i = 6\n",
      "i = 5\n",
      "i = 4\n",
      "i = 3\n",
      "i = 2\n",
      "i = 1\n"
     ]
    }
   ],
   "source": [
    "for i in range(10, 0, -1):\n",
    "    print('i = {0:d}'.format(i))"
   ]
  },
  {
   "cell_type": "markdown",
   "metadata": {
    "id": "3irshzIK6zBd"
   },
   "source": [
    "Let's now create some random data and write code to calculate the average:"
   ]
  },
  {
   "cell_type": "code",
   "execution_count": null,
   "metadata": {
    "id": "eEghEyrD6zBd"
   },
   "outputs": [],
   "source": [
    "data = [0.16295757, 0.06804887, 0.76082389, 0.39089033, 0.63845432,\n",
    "       0.12555193, 0.98251807, 0.38759292, 0.75819177, 0.63329008,\n",
    "       0.94419572, 0.95363126, 0.60753037, 0.55727347, 0.55989237,\n",
    "       0.2482676 , 0.13208943, 0.25090889, 0.7912593 , 0.30045856]"
   ]
  },
  {
   "cell_type": "markdown",
   "metadata": {
    "id": "faqoBaCa6zBd"
   },
   "source": [
    "Recall that the average of $N$ numbers $x_1, x_2,\\dots,x_N$ is:\n",
    "$$\n",
    "\\bar{x} = \\frac{x_1+\\dots+x_N}{N}.\n",
    "$$\n",
    "Here is how we can code this with a for loop:"
   ]
  },
  {
   "cell_type": "code",
   "execution_count": null,
   "metadata": {
    "id": "HqMQG9Mj6zBe",
    "outputId": "ff5af9c9-1aa7-48a5-c9ff-e68770b289a8"
   },
   "outputs": [
    {
     "name": "stdout",
     "output_type": "stream",
     "text": [
      "Average = 0.51\n"
     ]
    }
   ],
   "source": [
    "# The number of observations\n",
    "N = len(data)\n",
    "# A variable that stores the sum of all the x's as we go through\n",
    "# the data\n",
    "s = 0.0\n",
    "# The loop\n",
    "for i in range(len(data)):\n",
    "    x = data[i]\n",
    "    # This is just a shortcut for s = s + x\n",
    "    s += x\n",
    "average = s / N\n",
    "print('Average = {0:1.2f}'.format(average))"
   ]
  },
  {
   "cell_type": "markdown",
   "metadata": {
    "id": "3htSZNbm6zBe"
   },
   "source": [
    "Let's compare this to the other way we have learned:"
   ]
  },
  {
   "cell_type": "code",
   "execution_count": null,
   "metadata": {
    "id": "RDYXL2l-6zBe",
    "outputId": "362b36ae-c0e6-4723-ba7b-d93b5b4256f2"
   },
   "outputs": [
    {
     "name": "stdout",
     "output_type": "stream",
     "text": [
      "Average the other way = 0.51\n"
     ]
    }
   ],
   "source": [
    "print('Average the other way = {0:1.2f}'.format(sum(data) / N))"
   ]
  },
  {
   "cell_type": "markdown",
   "metadata": {
    "id": "7tKIhyTS6zBf"
   },
   "source": [
    "Okay. It worked fine. Here is another way to do the same thing. Instead of using an index, we can directly go over each element in the list like this:"
   ]
  },
  {
   "cell_type": "code",
   "execution_count": null,
   "metadata": {
    "id": "UxEHC_0Z6zBf",
    "outputId": "4d1aff8f-28c7-4788-b52c-013cd3d2051e"
   },
   "outputs": [
    {
     "name": "stdout",
     "output_type": "stream",
     "text": [
      "Average = 0.51\n"
     ]
    }
   ],
   "source": [
    "s = 0.0\n",
    "for x in data:\n",
    "    s += x\n",
    "average = s / N\n",
    "print('Average = {0:1.2f}'.format(average))"
   ]
  },
  {
   "cell_type": "markdown",
   "metadata": {
    "id": "SE3s8eUk6zBf"
   },
   "source": [
    "## Questions\n",
    "\n",
    "+ Write a code block that calculates the average of all the ``data`` elements that are greater than 0.5."
   ]
  },
  {
   "cell_type": "code",
   "execution_count": null,
   "metadata": {
    "id": "2J_VMguA6zBg"
   },
   "outputs": [],
   "source": [
    "# Your code here"
   ]
  },
  {
   "cell_type": "markdown",
   "metadata": {
    "id": "XiKrMcs_6zBg"
   },
   "source": [
    "+ Write a for loop to calculate the second moment of the ``data``, i.e., this expression:\n",
    "$$\n",
    "\\bar{x}_2 = \\frac{x_1^2 + \\dots + x_N^2}{N}\n",
    "$$"
   ]
  },
  {
   "cell_type": "code",
   "execution_count": null,
   "metadata": {
    "id": "ELHORHXc6zBg"
   },
   "outputs": [],
   "source": [
    "# Your code here"
   ]
  },
  {
   "cell_type": "markdown",
   "metadata": {
    "id": "JBx3vWlb6zBg"
   },
   "source": [
    "+ In the code block provided below, write a for loop that finds the maximum of the ``data``."
   ]
  },
  {
   "cell_type": "code",
   "execution_count": null,
   "metadata": {
    "id": "kWKKBKnb6zBh"
   },
   "outputs": [],
   "source": [
    "# Your code here"
   ]
  },
  {
   "cell_type": "markdown",
   "metadata": {
    "id": "fBArjL0s6zBh"
   },
   "source": [
    "## ``while`` loops\n",
    "\n",
    "While loops are a bit more general than for loops as stopping depends on a boolean expression.\n",
    "Their syntax is like this:\n",
    "```\n",
    "while <boolean_expression>:\n",
    "    # Some expressions to execute\n",
    "    # Some other epxression to execute\n",
    "```\n",
    "Let's see some examples of this:"
   ]
  },
  {
   "cell_type": "code",
   "execution_count": null,
   "metadata": {
    "id": "pWiy4qRT6zBi",
    "outputId": "f4276c9a-81cf-4d8e-a709-3666b895f70e"
   },
   "outputs": [
    {
     "name": "stdout",
     "output_type": "stream",
     "text": [
      "i = 0\n",
      "i = 1\n",
      "i = 2\n",
      "i = 3\n",
      "i = 4\n",
      "i = 5\n",
      "i = 6\n",
      "i = 7\n",
      "i = 8\n",
      "i = 9\n"
     ]
    }
   ],
   "source": [
    "i = 0\n",
    "while i < 10:\n",
    "    print('i = {0:d}'.format(i))\n",
    "    i += 1"
   ]
  },
  {
   "cell_type": "markdown",
   "metadata": {
    "id": "VYDcJAT56zBi"
   },
   "source": [
    "Let's do a more mathematical example.\n",
    "We are going to write code that calculates the sum of a series to a given tolerance.\n",
    "That is, given a sequence of numbers: $a_1, a_2, \\dots,$, we will write code that approximates:\n",
    "$$\n",
    "a = \\sum_{n=0}^\\infty a_n.\n",
    "$$\n",
    "\n",
    "To be specific, we are going to sum this series:\n",
    "$$\n",
    "1 - \\frac{1}{3} + \\frac{1}{5} - \\frac{1}{7} + \\dots = \\frac{\\pi}{4},\n",
    "$$\n",
    "and use it to approximate $\\pi$. This is known as the Leibniz formula.\n",
    "In terms of the $\\alpha_n$ notation above, the formula is:\n",
    "$$\n",
    "\\sum_{n=0}^\\infty a_n = \\sum_{n=0}^\\infty\\frac{(-1)^{n}}{2n + 1}.\n",
    "$$\n",
    "Here is our first attempt:"
   ]
  },
  {
   "cell_type": "code",
   "execution_count": null,
   "metadata": {
    "id": "QH_-MUvx6zBj",
    "outputId": "5a45b3ed-80b1-4115-da4c-7ac94af13cad"
   },
   "outputs": [
    {
     "name": "stdout",
     "output_type": "stream",
     "text": [
      "4 * a ~= 3.141602653490\n"
     ]
    }
   ],
   "source": [
    "# The maximum number of iterations you are willing to do:\n",
    "max_iter = 100000\n",
    "# The result\n",
    "a = 0.0\n",
    "# Start a counter\n",
    "n = 0\n",
    "# Start the loop\n",
    "while n <= max_iter:\n",
    "    # Compute the new term\n",
    "    a_n = (-1) ** n / (2 * n + 1)\n",
    "    # Add it to the sum\n",
    "    a += a_n\n",
    "    # and increase the counter\n",
    "    n += 1\n",
    "print('4 * a ~= {0:1.12f}'.format(4 * a))"
   ]
  },
  {
   "cell_type": "markdown",
   "metadata": {
    "id": "Ac7uvHYZ6zBj"
   },
   "source": [
    "Let's now make our code print something every few iterations (say every 10,000 iterations)."
   ]
  },
  {
   "cell_type": "code",
   "execution_count": null,
   "metadata": {
    "id": "RSmk6Sss6zBj",
    "outputId": "a186472b-d582-4cb2-8728-d95c0ea3bd56"
   },
   "outputs": [
    {
     "name": "stdout",
     "output_type": "stream",
     "text": [
      "Current iteration n =          0, sum so far: 1.000000000000\n",
      "Current iteration n =      10000, sum so far: 0.785423160898\n",
      "Current iteration n =      20000, sum so far: 0.785410662772\n",
      "Current iteration n =      30000, sum so far: 0.785406496453\n",
      "Current iteration n =      40000, sum so far: 0.785404413241\n",
      "Current iteration n =      50000, sum so far: 0.785403163297\n",
      "Current iteration n =      60000, sum so far: 0.785402329995\n",
      "Current iteration n =      70000, sum so far: 0.785401734775\n",
      "Current iteration n =      80000, sum so far: 0.785401288358\n",
      "Current iteration n =      90000, sum so far: 0.785400941144\n",
      "Current iteration n =     100000, sum so far: 0.785400663372\n",
      "\n",
      "4 * a ~= 3.141602653490\n"
     ]
    }
   ],
   "source": [
    "# The maximum number of iterations you are willing to do:\n",
    "max_iter = 100000\n",
    "# The result\n",
    "a = 0.0\n",
    "# Start a counter\n",
    "n = 0\n",
    "# Start the loop\n",
    "while n <= max_iter:\n",
    "    # Compute the new term\n",
    "    a_n = (-1) ** n / (2 * n + 1)\n",
    "    # Add it to the sum\n",
    "    a += a_n\n",
    "    # Print something about the current iteration\n",
    "    if n % 10000 == 0:\n",
    "        print('Current iteration n = {0:10d}, sum so far: {1:1.12f}'.format(n, a))\n",
    "    # and increase the counter\n",
    "    n += 1\n",
    "print('')\n",
    "print('4 * a ~= {0:1.12f}'.format(4 * a))"
   ]
  },
  {
   "cell_type": "markdown",
   "metadata": {
    "id": "LlidMK6f6zBk"
   },
   "source": [
    "Now, let's not run forever. We are going to modify the code so that it loops over $n$ until $|a_{n+1}| < \\epsilon$, where $\\epsilon$ is a small positive number typically called a *tolerance*. We are going to use the keyword ``break`` to achieve this.\n",
    "``break`` is a command to exit the loop (note that it also works in ``for`` loops).\n",
    "Here we go:"
   ]
  },
  {
   "cell_type": "code",
   "execution_count": null,
   "metadata": {
    "id": "md26XRER6zBk",
    "outputId": "900958a7-207b-4e35-e61a-929535738f3f"
   },
   "outputs": [
    {
     "name": "stdout",
     "output_type": "stream",
     "text": [
      "Current iteration n =          0, sum so far: 1.000000000000\n",
      "Current iteration n =       1000, sum so far: 0.785647913585\n",
      "Current iteration n =       2000, sum so far: 0.785523100921\n",
      "Current iteration n =       3000, sum so far: 0.785481468960\n",
      "Current iteration n =       4000, sum so far: 0.785460647775\n",
      "Current iteration n =       5000, sum so far: 0.785348163398\n",
      "*** Converged in 5001 iterations! ***\n",
      "4 * a ~= 3.141392653592\n"
     ]
    }
   ],
   "source": [
    "# The maximum number of iterations you are willing to do.\n",
    "# You always add something like this to avoid looping forever\n",
    "max_iter = 1000000\n",
    "# The tolerance you wish to reach:\n",
    "epsilon = 1e-4\n",
    "# The result\n",
    "a = 0.0\n",
    "# Start a counter\n",
    "n = 0\n",
    "# Start the loop\n",
    "while n <= max_iter:\n",
    "    # Compute the new term\n",
    "    a_n = (-1) ** n / (2 * n + 1)\n",
    "    # Check if the absolute value of the new term is smaller than the tolerance\n",
    "    if abs(a_n) < epsilon:\n",
    "        # If it is indeed smaller, exit the loop\n",
    "        # you do this with the command\n",
    "        print('Current iteration n = {0:10d}, sum so far: {1:1.12f}'.format(n, a))\n",
    "        print('*** Converged in {0:d} iterations! ***'.format(n+1))\n",
    "        break\n",
    "    # Otherwise we just add the new term to our running sum\n",
    "    a += a_n\n",
    "    # Print something about the current iteration\n",
    "    if n % 1000 == 0:\n",
    "        print('Current iteration n = {0:10d}, sum so far: {1:1.12f}'.format(n, a))\n",
    "    # and increase the counter\n",
    "    n += 1\n",
    "if n == max_iter + 1:\n",
    "    print('*** Stopped when maximum number of iterations ({0:d}) were reached! ***'.format(max_iter))\n",
    "print('4 * a ~= {0:1.12f}'.format(4 * a))"
   ]
  },
  {
   "cell_type": "markdown",
   "metadata": {
    "id": "mg0WKsQ86zBk"
   },
   "source": [
    "### Questions\n",
    "\n",
    "+ Modify the code above so that you estimate the series:\n",
    "$$\n",
    "\\sum_{n=0}^\\infty\\frac{1}{2^n},\n",
    "$$\n",
    "which converges to $2$."
   ]
  }
 ],
 "metadata": {
  "colab": {
   "name": "python-basics-6.ipynb",
   "provenance": []
  },
  "kernelspec": {
   "display_name": "Python 3 (ipykernel)",
   "language": "python",
   "name": "python3"
  },
  "language_info": {
   "codemirror_mode": {
    "name": "ipython",
    "version": 3
   },
   "file_extension": ".py",
   "mimetype": "text/x-python",
   "name": "python",
   "nbconvert_exporter": "python",
   "pygments_lexer": "ipython3",
   "version": "3.10.6"
  }
 },
 "nbformat": 4,
 "nbformat_minor": 1
}
