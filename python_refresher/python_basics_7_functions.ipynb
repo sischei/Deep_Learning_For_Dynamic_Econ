{
 "cells": [
  {
   "cell_type": "markdown",
   "metadata": {
    "id": "I7QNARJa63Fv"
   },
   "source": [
    "# Python Basics 7: Functions\n",
    "\n",
    "The ``function`` objects in Python allow you to give a name to a series of expressions that may or may not return a result.\n",
    "To syntax for defining a function in Python is as follows:\n",
    "```\n",
    "def function_name(some_inputs):\n",
    "    some expressions\n",
    "    return something (optional)\n",
    "```\n",
    "\n",
    "## Functions with no inputs that return nothing\n",
    "Let's start first with functions that have no inputs and return nothing."
   ]
  },
  {
   "cell_type": "code",
   "execution_count": 1,
   "metadata": {
    "id": "-EC8quF763F1"
   },
   "outputs": [],
   "source": [
    "def print_hello():\n",
    "    \"\"\"\n",
    "    Prints hello.\n",
    "    \"\"\"\n",
    "    print('Hello there!')"
   ]
  },
  {
   "cell_type": "markdown",
   "metadata": {
    "id": "rI3y-HoJ63F4"
   },
   "source": [
    "First, let's run this:"
   ]
  },
  {
   "cell_type": "code",
   "execution_count": 2,
   "metadata": {
    "id": "SLO8vJzN63F4"
   },
   "outputs": [
    {
     "name": "stdout",
     "output_type": "stream",
     "text": [
      "Hello there!\n"
     ]
    }
   ],
   "source": [
    "print_hello()"
   ]
  },
  {
   "cell_type": "markdown",
   "metadata": {
    "id": "5hW6u0Cn63F5"
   },
   "source": [
    "See for yourself that the type of ``print_hello`` is a function:"
   ]
  },
  {
   "cell_type": "code",
   "execution_count": 3,
   "metadata": {
    "id": "Aq3wFQFH63F5"
   },
   "outputs": [
    {
     "data": {
      "text/plain": [
       "function"
      ]
     },
     "execution_count": 3,
     "metadata": {},
     "output_type": "execute_result"
    }
   ],
   "source": [
    "type(print_hello)"
   ]
  },
  {
   "cell_type": "markdown",
   "metadata": {
    "id": "WYJmRXu863F6"
   },
   "source": [
    "The other thing that I want you to notice is the text in the triple quotes below the function definition.\n",
    "This is called the *docstring* of the function.\n",
    "You use it to document what the function does so that other people know how to use it.\n",
    "The docstring is what the ``help()`` function sees.\n",
    "Check this out:"
   ]
  },
  {
   "cell_type": "code",
   "execution_count": 4,
   "metadata": {
    "id": "olCM9bUH63F7"
   },
   "outputs": [
    {
     "name": "stdout",
     "output_type": "stream",
     "text": [
      "Help on function print_hello in module __main__:\n",
      "\n",
      "print_hello()\n",
      "    Prints hello.\n",
      "\n"
     ]
    }
   ],
   "source": [
    "help(print_hello)"
   ]
  },
  {
   "cell_type": "markdown",
   "metadata": {
    "id": "seoWnHV163F9"
   },
   "source": [
    "Finally, let's see if ``print_hello()`` returns anything. Let's try to grab whatever it returns and print it."
   ]
  },
  {
   "cell_type": "code",
   "execution_count": 5,
   "metadata": {
    "id": "-svPn4Vs63F-"
   },
   "outputs": [
    {
     "name": "stdout",
     "output_type": "stream",
     "text": [
      "Hello there!\n",
      "Res is:  None\n"
     ]
    }
   ],
   "source": [
    "res = print_hello()\n",
    "print('Res is: ', res)"
   ]
  },
  {
   "cell_type": "markdown",
   "metadata": {
    "id": "oW7v-KVm63F_"
   },
   "source": [
    "Alright! Now you see why ``None`` is useful. A function that returns nothing, returns ``None``."
   ]
  },
  {
   "cell_type": "markdown",
   "metadata": {
    "id": "dx95ltGf63GA"
   },
   "source": [
    "### Questions\n",
    "\n",
    "+ Modify the function so that it prints hellow there 5 times. Make sure you also modify the docstring to reflect the new behavior."
   ]
  },
  {
   "cell_type": "markdown",
   "metadata": {
    "id": "Wh4lDvBx63GA"
   },
   "source": [
    "## Real functions\n",
    "\n",
    "When I am talking about numerical functions, I mean things like $f(x) = x^2$ or $g(x) = \\sin(x)$ and so on.\n",
    "These functions typically take a single input that is a real number and they return also a single input which is a real number.\n",
    "Here are some examples:"
   ]
  },
  {
   "cell_type": "code",
   "execution_count": 6,
   "metadata": {
    "id": "m9MexduC63GB"
   },
   "outputs": [],
   "source": [
    "def square(x):\n",
    "    \"\"\"\n",
    "    Calculates the square of ``x``.\n",
    "    \n",
    "    Arguments:\n",
    "    x     -   The real number you wish to square\n",
    "    \n",
    "    Returns: The square of ``x``.\n",
    "    \"\"\"\n",
    "    return x ** 2"
   ]
  },
  {
   "cell_type": "code",
   "execution_count": 7,
   "metadata": {
    "id": "7KwnqQh063GB"
   },
   "outputs": [
    {
     "name": "stdout",
     "output_type": "stream",
     "text": [
      "Help on function square in module __main__:\n",
      "\n",
      "square(x)\n",
      "    Calculates the square of ``x``.\n",
      "    \n",
      "    Arguments:\n",
      "    x     -   The real number you wish to square\n",
      "    \n",
      "    Returns: The square of ``x``.\n",
      "\n"
     ]
    }
   ],
   "source": [
    "help(square)"
   ]
  },
  {
   "cell_type": "code",
   "execution_count": 8,
   "metadata": {
    "id": "6PyvIyr663GC"
   },
   "outputs": [
    {
     "data": {
      "text/plain": [
       "4"
      ]
     },
     "execution_count": 8,
     "metadata": {},
     "output_type": "execute_result"
    }
   ],
   "source": [
    "square(2)"
   ]
  },
  {
   "cell_type": "code",
   "execution_count": 9,
   "metadata": {
    "id": "NkDhcZQi63GC"
   },
   "outputs": [
    {
     "data": {
      "text/plain": [
       "529.0"
      ]
     },
     "execution_count": 9,
     "metadata": {},
     "output_type": "execute_result"
    }
   ],
   "source": [
    "square(23.0)"
   ]
  },
  {
   "cell_type": "markdown",
   "metadata": {
    "id": "JAexQ0Po63GC"
   },
   "source": [
    "Because real functions are used so often, there is actually a shortcut. It is called ``lambda`` functions.\n",
    "To define a ``lambda`` function, the syntax is:\n",
    "```\n",
    "func_name = lambda inputs: single_expression_you_want_to_return\n",
    "```\n",
    "Here is the square function in a single line:"
   ]
  },
  {
   "cell_type": "code",
   "execution_count": 10,
   "metadata": {
    "id": "OrU6vo8m63GD"
   },
   "outputs": [],
   "source": [
    "alt_square = lambda x: x ** 2"
   ]
  },
  {
   "cell_type": "code",
   "execution_count": 11,
   "metadata": {
    "id": "FbZRNJr763GD"
   },
   "outputs": [
    {
     "data": {
      "text/plain": [
       "4"
      ]
     },
     "execution_count": 11,
     "metadata": {},
     "output_type": "execute_result"
    }
   ],
   "source": [
    "alt_square(2)"
   ]
  },
  {
   "cell_type": "code",
   "execution_count": 12,
   "metadata": {
    "id": "jysefLIr63GD"
   },
   "outputs": [
    {
     "data": {
      "text/plain": [
       "529.0"
      ]
     },
     "execution_count": 12,
     "metadata": {},
     "output_type": "execute_result"
    }
   ],
   "source": [
    "alt_square(23.0)"
   ]
  },
  {
   "cell_type": "markdown",
   "metadata": {
    "id": "CGqZKBbo63GE"
   },
   "source": [
    "You will see me using both.\n",
    "\n",
    "Let's finish this section by evaluating the square function on all numbers from 0 to 100 and putting the result in a list.\n",
    "This is a very commonly occuring process required for plotting functions."
   ]
  },
  {
   "cell_type": "code",
   "execution_count": 13,
   "metadata": {
    "id": "eUMW2ooU63GE"
   },
   "outputs": [
    {
     "name": "stdout",
     "output_type": "stream",
     "text": [
      "[0, 1, 4, 9, 16, 25, 36, 49, 64, 81, 100, 121, 144, 169, 196, 225, 256, 289, 324, 361, 400, 441, 484, 529, 576, 625, 676, 729, 784, 841, 900, 961, 1024, 1089, 1156, 1225, 1296, 1369, 1444, 1521, 1600, 1681, 1764, 1849, 1936, 2025, 2116, 2209, 2304, 2401, 2500, 2601, 2704, 2809, 2916, 3025, 3136, 3249, 3364, 3481, 3600, 3721, 3844, 3969, 4096, 4225, 4356, 4489, 4624, 4761, 4900, 5041, 5184, 5329, 5476, 5625, 5776, 5929, 6084, 6241, 6400, 6561, 6724, 6889, 7056, 7225, 7396, 7569, 7744, 7921, 8100, 8281, 8464, 8649, 8836, 9025, 9216, 9409, 9604, 9801, 10000]\n"
     ]
    }
   ],
   "source": [
    "# The xs on which you want to evaluate square(x)\n",
    "xs = range(0, 101)\n",
    "# The corresponding ys (empty list to be grown gradually)\n",
    "ys = []\n",
    "# Loop over all the x's\n",
    "for x in xs:\n",
    "    # Evaluate the function at x:\n",
    "    y = square(x)\n",
    "    # Add the value to the list\n",
    "    ys.append(y)\n",
    "print(ys)"
   ]
  },
  {
   "cell_type": "markdown",
   "metadata": {
    "id": "_pvTXuXG63GF"
   },
   "source": [
    "Now, there is a simpler way to do this using what is known as a *list generator*.\n",
    "This is a rather advanced Python construct, but because I cannot resist using it, I am going to show you here how it works.\n",
    "Basically, it is mirroring the mathematical definitions of a set.\n",
    "Here it is:"
   ]
  },
  {
   "cell_type": "code",
   "execution_count": 14,
   "metadata": {
    "id": "ihDZtylN63GF"
   },
   "outputs": [
    {
     "name": "stdout",
     "output_type": "stream",
     "text": [
      "[0, 1, 4, 9, 16, 25, 36, 49, 64, 81, 100, 121, 144, 169, 196, 225, 256, 289, 324, 361, 400, 441, 484, 529, 576, 625, 676, 729, 784, 841, 900, 961, 1024, 1089, 1156, 1225, 1296, 1369, 1444, 1521, 1600, 1681, 1764, 1849, 1936, 2025, 2116, 2209, 2304, 2401, 2500, 2601, 2704, 2809, 2916, 3025, 3136, 3249, 3364, 3481, 3600, 3721, 3844, 3969, 4096, 4225, 4356, 4489, 4624, 4761, 4900, 5041, 5184, 5329, 5476, 5625, 5776, 5929, 6084, 6241, 6400, 6561, 6724, 6889, 7056, 7225, 7396, 7569, 7744, 7921, 8100, 8281, 8464, 8649, 8836, 9025, 9216, 9409, 9604, 9801, 10000]\n"
     ]
    }
   ],
   "source": [
    "ys = [square(x) for x in xs]\n",
    "print(ys)"
   ]
  },
  {
   "cell_type": "markdown",
   "metadata": {
    "id": "8Qn5klLA63GF"
   },
   "source": [
    "### Questions\n",
    "\n",
    "+ Write a function that calculates the mean of a list of a number. Try it out on the ``xs``."
   ]
  },
  {
   "cell_type": "code",
   "execution_count": 15,
   "metadata": {
    "id": "Vw45GB_K63GF"
   },
   "outputs": [],
   "source": [
    "# Your code here"
   ]
  },
  {
   "cell_type": "markdown",
   "metadata": {
    "id": "v3B790BN63GG"
   },
   "source": [
    "## Functions with many arguments\n",
    "\n",
    "You can have as many arguments as you want in a function.\n",
    "Here is a function that calculates the ``p`` norm of a vector.\n",
    "The ``p`` norm of the vector $\\mathbf{x} = (x_1,\\dots,x_N)$ is defined to be:\n",
    "$$\n",
    "\\parallel \\mathbf{x}\\parallel_p := \\left(\\sum_{i=1}^Nx_i^p\\right)^{\\frac{1}{p}}.\n",
    "$$\n",
    "Here it is:"
   ]
  },
  {
   "cell_type": "code",
   "execution_count": 16,
   "metadata": {
    "id": "4dHWZXfI63GG"
   },
   "outputs": [],
   "source": [
    "def norm(x, p):\n",
    "    \"\"\"\n",
    "    Calculates the ``p``-norm of the vector ``x``.\n",
    "    \n",
    "    Arguments:\n",
    "     x     -     A list of numbers.\n",
    "     p     -     A positive number.\n",
    "    \"\"\"\n",
    "    res = 0.0\n",
    "    for x_i in x:\n",
    "        res += x_i ** p\n",
    "    return res ** (1 / p)"
   ]
  },
  {
   "cell_type": "markdown",
   "metadata": {
    "id": "dmzuHQDC63GG"
   },
   "source": [
    "Let's try this:"
   ]
  },
  {
   "cell_type": "code",
   "execution_count": 17,
   "metadata": {
    "id": "eoDlraeb63GG"
   },
   "outputs": [
    {
     "data": {
      "text/plain": [
       "3.7416573867739413"
      ]
     },
     "execution_count": 17,
     "metadata": {},
     "output_type": "execute_result"
    }
   ],
   "source": [
    "x = [1, 2, 3]\n",
    "norm(x, 2)"
   ]
  },
  {
   "cell_type": "code",
   "execution_count": 18,
   "metadata": {
    "id": "EuecsvBU63GH"
   },
   "outputs": [
    {
     "data": {
      "text/plain": [
       "3.3019272488946263"
      ]
     },
     "execution_count": 18,
     "metadata": {},
     "output_type": "execute_result"
    }
   ],
   "source": [
    "norm(x, 3)"
   ]
  },
  {
   "cell_type": "code",
   "execution_count": 19,
   "metadata": {
    "id": "XWDIm_T563GH"
   },
   "outputs": [
    {
     "data": {
      "text/plain": [
       "3.0"
      ]
     },
     "execution_count": 19,
     "metadata": {},
     "output_type": "execute_result"
    }
   ],
   "source": [
    "norm(x, 100)"
   ]
  },
  {
   "cell_type": "markdown",
   "metadata": {
    "id": "q0qbd5WF63GH"
   },
   "source": [
    "Now, let's try to run the same thing without specifying the ``p`` input:"
   ]
  },
  {
   "cell_type": "code",
   "execution_count": 20,
   "metadata": {
    "id": "dvdr3WkS63GH"
   },
   "outputs": [
    {
     "ename": "TypeError",
     "evalue": "norm() missing 1 required positional argument: 'p'",
     "output_type": "error",
     "traceback": [
      "\u001b[0;31m---------------------------------------------------------------------------\u001b[0m",
      "\u001b[0;31mTypeError\u001b[0m                                 Traceback (most recent call last)",
      "\u001b[0;32m/tmp/ipykernel_22265/2267588480.py\u001b[0m in \u001b[0;36m<module>\u001b[0;34m\u001b[0m\n\u001b[0;32m----> 1\u001b[0;31m \u001b[0mnorm\u001b[0m\u001b[0;34m(\u001b[0m\u001b[0mx\u001b[0m\u001b[0;34m)\u001b[0m\u001b[0;34m\u001b[0m\u001b[0;34m\u001b[0m\u001b[0m\n\u001b[0m",
      "\u001b[0;31mTypeError\u001b[0m: norm() missing 1 required positional argument: 'p'"
     ]
    }
   ],
   "source": [
    "norm(x)"
   ]
  },
  {
   "cell_type": "markdown",
   "metadata": {
    "id": "HRMjNFXt63GH"
   },
   "source": [
    "We get the error that the ``p`` argument of the function is missing.\n",
    "However, ``p=2`` is the most common choice because it corresponds to the standard Euclidean norm.\n",
    "We can rewrite the function so that by default ``p=2``. Such arguments are called **default arguments**.\n",
    "Here is how:"
   ]
  },
  {
   "cell_type": "code",
   "execution_count": 21,
   "metadata": {
    "id": "JngGMBO-63GI"
   },
   "outputs": [],
   "source": [
    "def norm(x, p=2):\n",
    "    \"\"\"\n",
    "    Calculates the ``p``-norm of the vector ``x``.\n",
    "    \n",
    "    Arguments:\n",
    "     x     -     A list of numbers.\n",
    "     p     -     A positive number (default p=2)\n",
    "    \"\"\"\n",
    "    res = 0.0\n",
    "    for x_i in x:\n",
    "        res += x_i ** p\n",
    "    return res ** (1 / p)"
   ]
  },
  {
   "cell_type": "markdown",
   "metadata": {
    "id": "3ngNrZkQ63GJ"
   },
   "source": [
    "Now you can call ``norm(x)``:"
   ]
  },
  {
   "cell_type": "code",
   "execution_count": 22,
   "metadata": {
    "id": "zLx3aXeF63GJ"
   },
   "outputs": [
    {
     "data": {
      "text/plain": [
       "3.7416573867739413"
      ]
     },
     "execution_count": 22,
     "metadata": {},
     "output_type": "execute_result"
    }
   ],
   "source": [
    "norm(x)"
   ]
  },
  {
   "cell_type": "markdown",
   "metadata": {
    "id": "htXnciIt63GK"
   },
   "source": [
    "If you want to use another ``p``, you can do:"
   ]
  },
  {
   "cell_type": "code",
   "execution_count": 23,
   "metadata": {
    "id": "DZiNUOP763GK"
   },
   "outputs": [
    {
     "data": {
      "text/plain": [
       "3.3019272488946263"
      ]
     },
     "execution_count": 23,
     "metadata": {},
     "output_type": "execute_result"
    }
   ],
   "source": [
    "norm(x, 3.0)"
   ]
  },
  {
   "cell_type": "markdown",
   "metadata": {
    "id": "tNDt2uWJ63GL"
   },
   "source": [
    "or (more intuitively):"
   ]
  },
  {
   "cell_type": "code",
   "execution_count": 24,
   "metadata": {
    "id": "Iy2EnFGG63GL"
   },
   "outputs": [
    {
     "data": {
      "text/plain": [
       "3.3019272488946263"
      ]
     },
     "execution_count": 24,
     "metadata": {},
     "output_type": "execute_result"
    }
   ],
   "source": [
    "norm(x, p=3.0)"
   ]
  },
  {
   "cell_type": "markdown",
   "metadata": {
    "id": "B2no6NXy63GM"
   },
   "source": [
    "Alirght, this is nice! Let's now try to break our function.\n",
    "We can break it in various ways.\n",
    "First, we can break it by passing a nonpositive ``p``.\n",
    "Here you go:"
   ]
  },
  {
   "cell_type": "code",
   "execution_count": 25,
   "metadata": {
    "id": "aCrC7WoU63GM"
   },
   "outputs": [
    {
     "ename": "ZeroDivisionError",
     "evalue": "division by zero",
     "output_type": "error",
     "traceback": [
      "\u001b[0;31m---------------------------------------------------------------------------\u001b[0m",
      "\u001b[0;31mZeroDivisionError\u001b[0m                         Traceback (most recent call last)",
      "\u001b[0;32m/tmp/ipykernel_22265/3750166826.py\u001b[0m in \u001b[0;36m<module>\u001b[0;34m\u001b[0m\n\u001b[0;32m----> 1\u001b[0;31m \u001b[0mnorm\u001b[0m\u001b[0;34m(\u001b[0m\u001b[0mx\u001b[0m\u001b[0;34m,\u001b[0m \u001b[0mp\u001b[0m\u001b[0;34m=\u001b[0m\u001b[0;36m0\u001b[0m\u001b[0;34m)\u001b[0m\u001b[0;34m\u001b[0m\u001b[0;34m\u001b[0m\u001b[0m\n\u001b[0m",
      "\u001b[0;32m/tmp/ipykernel_22265/2132562949.py\u001b[0m in \u001b[0;36mnorm\u001b[0;34m(x, p)\u001b[0m\n\u001b[1;32m     10\u001b[0m     \u001b[0;32mfor\u001b[0m \u001b[0mx_i\u001b[0m \u001b[0;32min\u001b[0m \u001b[0mx\u001b[0m\u001b[0;34m:\u001b[0m\u001b[0;34m\u001b[0m\u001b[0;34m\u001b[0m\u001b[0m\n\u001b[1;32m     11\u001b[0m         \u001b[0mres\u001b[0m \u001b[0;34m+=\u001b[0m \u001b[0mx_i\u001b[0m \u001b[0;34m**\u001b[0m \u001b[0mp\u001b[0m\u001b[0;34m\u001b[0m\u001b[0;34m\u001b[0m\u001b[0m\n\u001b[0;32m---> 12\u001b[0;31m     \u001b[0;32mreturn\u001b[0m \u001b[0mres\u001b[0m \u001b[0;34m**\u001b[0m \u001b[0;34m(\u001b[0m\u001b[0;36m1\u001b[0m \u001b[0;34m/\u001b[0m \u001b[0mp\u001b[0m\u001b[0;34m)\u001b[0m\u001b[0;34m\u001b[0m\u001b[0;34m\u001b[0m\u001b[0m\n\u001b[0m",
      "\u001b[0;31mZeroDivisionError\u001b[0m: division by zero"
     ]
    }
   ],
   "source": [
    "norm(x, p=0)"
   ]
  },
  {
   "cell_type": "markdown",
   "metadata": {
    "id": "FkYbNbUG63GN"
   },
   "source": [
    "or this one:"
   ]
  },
  {
   "cell_type": "code",
   "execution_count": 26,
   "metadata": {
    "id": "InXG0Zww63GN"
   },
   "outputs": [
    {
     "data": {
      "text/plain": [
       "0.5454545454545455"
      ]
     },
     "execution_count": 26,
     "metadata": {},
     "output_type": "execute_result"
    }
   ],
   "source": [
    "norm(x, p=-1)"
   ]
  },
  {
   "cell_type": "markdown",
   "metadata": {
    "id": "te902VQc63GO"
   },
   "source": [
    "In the first case, we get an error message. In the second case we do not get any error message.\n",
    "However, the assumption that ``p`` is positive is clearly violated.\n",
    "To force the function to give us an error message when its assumptions are violated, we can use ``assert`` statements.\n",
    "Here is how:"
   ]
  },
  {
   "cell_type": "code",
   "execution_count": 27,
   "metadata": {
    "id": "9MtcsLO163GO"
   },
   "outputs": [],
   "source": [
    "def norm(x, p=2):\n",
    "    \"\"\"\n",
    "    Calculates the ``p``-norm of the vector ``x``.\n",
    "    \n",
    "    Arguments:\n",
    "     x     -     A list of numbers.\n",
    "     p     -     A positive number (default p=2)\n",
    "    \"\"\"\n",
    "    # Check that the function assiumptions are satisfied\n",
    "    # Turn p into a float even if it is not one\n",
    "    p = float(p) \n",
    "    # Ensures taht p is positive\n",
    "    assert p > 0, 'p must be positive (p = {0:1.2f})'.format(p)\n",
    "    # The code that calculates the p-norm\n",
    "    res = 0.0\n",
    "    for x_i in x:\n",
    "        res += x_i ** p\n",
    "    return res ** (1 / p)"
   ]
  },
  {
   "cell_type": "markdown",
   "metadata": {
    "id": "bOiA0EyV63GP"
   },
   "source": [
    "Here is how this works. If you give it the right ``p``, then it just works:"
   ]
  },
  {
   "cell_type": "code",
   "execution_count": 28,
   "metadata": {
    "id": "oPxwl2tT63GP"
   },
   "outputs": [
    {
     "data": {
      "text/plain": [
       "3.7416573867739413"
      ]
     },
     "execution_count": 28,
     "metadata": {},
     "output_type": "execute_result"
    }
   ],
   "source": [
    "norm(x, p=2)"
   ]
  },
  {
   "cell_type": "markdown",
   "metadata": {
    "id": "nA4zhr4B63GP"
   },
   "source": [
    "Here is what happens with a bad ``p``:"
   ]
  },
  {
   "cell_type": "code",
   "execution_count": 29,
   "metadata": {
    "id": "8_29VzdH63GP"
   },
   "outputs": [
    {
     "ename": "AssertionError",
     "evalue": "p must be positive (p = -1.00)",
     "output_type": "error",
     "traceback": [
      "\u001b[0;31m---------------------------------------------------------------------------\u001b[0m",
      "\u001b[0;31mAssertionError\u001b[0m                            Traceback (most recent call last)",
      "\u001b[0;32m/tmp/ipykernel_22265/911542282.py\u001b[0m in \u001b[0;36m<module>\u001b[0;34m\u001b[0m\n\u001b[0;32m----> 1\u001b[0;31m \u001b[0mnorm\u001b[0m\u001b[0;34m(\u001b[0m\u001b[0mx\u001b[0m\u001b[0;34m,\u001b[0m \u001b[0mp\u001b[0m\u001b[0;34m=\u001b[0m\u001b[0;34m-\u001b[0m\u001b[0;36m1\u001b[0m\u001b[0;34m)\u001b[0m\u001b[0;34m\u001b[0m\u001b[0;34m\u001b[0m\u001b[0m\n\u001b[0m",
      "\u001b[0;32m/tmp/ipykernel_22265/3955484933.py\u001b[0m in \u001b[0;36mnorm\u001b[0;34m(x, p)\u001b[0m\n\u001b[1;32m     11\u001b[0m     \u001b[0mp\u001b[0m \u001b[0;34m=\u001b[0m \u001b[0mfloat\u001b[0m\u001b[0;34m(\u001b[0m\u001b[0mp\u001b[0m\u001b[0;34m)\u001b[0m\u001b[0;34m\u001b[0m\u001b[0;34m\u001b[0m\u001b[0m\n\u001b[1;32m     12\u001b[0m     \u001b[0;31m# Ensures taht p is positive\u001b[0m\u001b[0;34m\u001b[0m\u001b[0;34m\u001b[0m\u001b[0m\n\u001b[0;32m---> 13\u001b[0;31m     \u001b[0;32massert\u001b[0m \u001b[0mp\u001b[0m \u001b[0;34m>\u001b[0m \u001b[0;36m0\u001b[0m\u001b[0;34m,\u001b[0m \u001b[0;34m'p must be positive (p = {0:1.2f})'\u001b[0m\u001b[0;34m.\u001b[0m\u001b[0mformat\u001b[0m\u001b[0;34m(\u001b[0m\u001b[0mp\u001b[0m\u001b[0;34m)\u001b[0m\u001b[0;34m\u001b[0m\u001b[0;34m\u001b[0m\u001b[0m\n\u001b[0m\u001b[1;32m     14\u001b[0m     \u001b[0;31m# The code that calculates the p-norm\u001b[0m\u001b[0;34m\u001b[0m\u001b[0;34m\u001b[0m\u001b[0m\n\u001b[1;32m     15\u001b[0m     \u001b[0mres\u001b[0m \u001b[0;34m=\u001b[0m \u001b[0;36m0.0\u001b[0m\u001b[0;34m\u001b[0m\u001b[0;34m\u001b[0m\u001b[0m\n",
      "\u001b[0;31mAssertionError\u001b[0m: p must be positive (p = -1.00)"
     ]
    }
   ],
   "source": [
    "norm(x, p=-1)"
   ]
  },
  {
   "cell_type": "markdown",
   "metadata": {
    "id": "Q9uuDPNY63GQ"
   },
   "source": [
    "Of course, we can still break the function in various ways:"
   ]
  },
  {
   "cell_type": "code",
   "execution_count": 30,
   "metadata": {
    "id": "rfrJJHhO63GQ"
   },
   "outputs": [
    {
     "ename": "TypeError",
     "evalue": "unsupported operand type(s) for ** or pow(): 'str' and 'float'",
     "output_type": "error",
     "traceback": [
      "\u001b[0;31m---------------------------------------------------------------------------\u001b[0m",
      "\u001b[0;31mTypeError\u001b[0m                                 Traceback (most recent call last)",
      "\u001b[0;32m/tmp/ipykernel_22265/777857029.py\u001b[0m in \u001b[0;36m<module>\u001b[0;34m\u001b[0m\n\u001b[0;32m----> 1\u001b[0;31m \u001b[0mnorm\u001b[0m\u001b[0;34m(\u001b[0m\u001b[0;34m[\u001b[0m\u001b[0;34m'a'\u001b[0m\u001b[0;34m,\u001b[0m \u001b[0;34m'b'\u001b[0m\u001b[0;34m]\u001b[0m\u001b[0;34m,\u001b[0m \u001b[0mp\u001b[0m\u001b[0;34m=\u001b[0m\u001b[0;36m2\u001b[0m\u001b[0;34m)\u001b[0m\u001b[0;34m\u001b[0m\u001b[0;34m\u001b[0m\u001b[0m\n\u001b[0m",
      "\u001b[0;32m/tmp/ipykernel_22265/3955484933.py\u001b[0m in \u001b[0;36mnorm\u001b[0;34m(x, p)\u001b[0m\n\u001b[1;32m     15\u001b[0m     \u001b[0mres\u001b[0m \u001b[0;34m=\u001b[0m \u001b[0;36m0.0\u001b[0m\u001b[0;34m\u001b[0m\u001b[0;34m\u001b[0m\u001b[0m\n\u001b[1;32m     16\u001b[0m     \u001b[0;32mfor\u001b[0m \u001b[0mx_i\u001b[0m \u001b[0;32min\u001b[0m \u001b[0mx\u001b[0m\u001b[0;34m:\u001b[0m\u001b[0;34m\u001b[0m\u001b[0;34m\u001b[0m\u001b[0m\n\u001b[0;32m---> 17\u001b[0;31m         \u001b[0mres\u001b[0m \u001b[0;34m+=\u001b[0m \u001b[0mx_i\u001b[0m \u001b[0;34m**\u001b[0m \u001b[0mp\u001b[0m\u001b[0;34m\u001b[0m\u001b[0;34m\u001b[0m\u001b[0m\n\u001b[0m\u001b[1;32m     18\u001b[0m     \u001b[0;32mreturn\u001b[0m \u001b[0mres\u001b[0m \u001b[0;34m**\u001b[0m \u001b[0;34m(\u001b[0m\u001b[0;36m1\u001b[0m \u001b[0;34m/\u001b[0m \u001b[0mp\u001b[0m\u001b[0;34m)\u001b[0m\u001b[0;34m\u001b[0m\u001b[0;34m\u001b[0m\u001b[0m\n",
      "\u001b[0;31mTypeError\u001b[0m: unsupported operand type(s) for ** or pow(): 'str' and 'float'"
     ]
    }
   ],
   "source": [
    "norm(['a', 'b'], p=2)"
   ]
  },
  {
   "cell_type": "markdown",
   "metadata": {
    "id": "K7OsAjI763GQ"
   },
   "source": [
    "The norm of a list of characters does not make sense.\n",
    "To add a check on whether or not the input ``x`` is a valid vector, we would have to wait until we introduce numerical arrays."
   ]
  },
  {
   "cell_type": "markdown",
   "metadata": {
    "id": "Bjealjrs63GQ"
   },
   "source": [
    "### Questions\n",
    "\n",
    "+ The infinity norm is defined to be:\n",
    "$$\n",
    "\\parallel\\mathbf{x}\\parallel = \\max_{1\\le i\\le N} |x_i|.\n",
    "$$\n",
    "Modify the code of the ``norm(x,p)`` function so that when ``p = math.inf``, it uses gives back the right result."
   ]
  },
  {
   "cell_type": "code",
   "execution_count": 31,
   "metadata": {
    "id": "NivITSlJ63GR"
   },
   "outputs": [],
   "source": [
    "import math # for math.inf\n",
    "# Your code here"
   ]
  },
  {
   "cell_type": "code",
   "execution_count": 32,
   "metadata": {
    "id": "5cqpLV1c63GR"
   },
   "outputs": [
    {
     "data": {
      "text/plain": [
       "1.0"
      ]
     },
     "execution_count": 32,
     "metadata": {},
     "output_type": "execute_result"
    }
   ],
   "source": [
    "# Try this out:\n",
    "norm(x,p=math.inf)"
   ]
  },
  {
   "cell_type": "markdown",
   "metadata": {
    "id": "xzaK-aup63GR"
   },
   "source": [
    "## Organizing your code in functions\n",
    "\n",
    "Remember the previous hands-on activity in which we wrote code to calculate the sum of an infinite series to a given tolerance.\n",
    "If we wanted to change the series we had to modify the code by hand.\n",
    "I will now show you how you can organize the code that we wrote in a function that accepts as an input any series you want.\n",
    "The thing that you need to mediate a bit on is that the function ``calculate_series`` that we will create has an input a function ``a`` which can give you the result of the sequence $a_n$ you are summing for any $n$, i.e., ``a(n)`` calculates $a_n$.\n",
    "Study this code:"
   ]
  },
  {
   "cell_type": "code",
   "execution_count": 33,
   "metadata": {
    "id": "lgavNU7l63GS"
   },
   "outputs": [],
   "source": [
    "def calculate_series(a, max_iter=100000, epsilon=1e-5, verbose=True):\n",
    "    \"\"\"\n",
    "    Calculate a given series to a desired tolerance.\n",
    "    \n",
    "    Arguments\n",
    "    a         -   A function that specifies the sequence you want to sum.\n",
    "    max_iter  -   The maximum number of iterations, a positive integer \n",
    "                  (default max_iter=10000).\n",
    "    epsilon   -   The tolerance, a positive float (default epsilon=1e-5).\n",
    "    verbose   -   A boolean specifying whether or not you want to print\n",
    "                  something about the progress of the function\n",
    "                  (default verbose=True).\n",
    "    \n",
    "    Returns:\n",
    "        An estimate of the sum of a(n) for n = 0 to infinty.\n",
    "    \"\"\"\n",
    "    # Check assumptions\n",
    "    # There is a way to check if a is a function, but it is a bit advanced\n",
    "    # max_iter must be a positive integer\n",
    "    assert isinstance(max_iter, int), 'max_inter must be an integer'\n",
    "    assert max_iter > 0, 'max_iter must be positive'\n",
    "    # epsilon must be a positive float\n",
    "    assert isinstance(epsilon, float), 'epsilon must be a float'\n",
    "    assert epsilon > 0, 'epsilon must be positive'\n",
    "    # The result\n",
    "    res = 0.0\n",
    "    # Start a counter\n",
    "    n = 0\n",
    "    # Start the loop\n",
    "    while n <= max_iter:\n",
    "        # Compute the new term\n",
    "        a_n = a(n)\n",
    "        # Check if the absolute value of the new term is smaller than the tolerance\n",
    "        if abs(a_n) < epsilon:\n",
    "            # If it is indeed smaller, exit the loop\n",
    "            # you do this with the command\n",
    "            if verbose:\n",
    "                print('*** Converged in {0:d} iterations! ***'.format(n+1))\n",
    "            break\n",
    "        # Otherwise we just add the new term to our running sum\n",
    "        res += a_n\n",
    "        # Print something about the current iteration\n",
    "        if verbose and n % 10000 == 0:\n",
    "            print('Current iteration n = {0:10d}, sum so far: {1:1.12f}'.format(n, res))\n",
    "        # and increase the counter\n",
    "        n += 1\n",
    "        if verbose and n == max_iter + 1:\n",
    "            print('*** Stopped when maximum number of iterations ({0:d}) were reached! ***'.format(max_iter))\n",
    "    return res"
   ]
  },
  {
   "cell_type": "markdown",
   "metadata": {
    "id": "IbP_RUwG63GS"
   },
   "source": [
    "Here is the help of the function we just wrote:"
   ]
  },
  {
   "cell_type": "code",
   "execution_count": 34,
   "metadata": {
    "id": "sClLGkau63GS"
   },
   "outputs": [
    {
     "name": "stdout",
     "output_type": "stream",
     "text": [
      "Help on function calculate_series in module __main__:\n",
      "\n",
      "calculate_series(a, max_iter=100000, epsilon=1e-05, verbose=True)\n",
      "    Calculate a given series to a desired tolerance.\n",
      "    \n",
      "    Arguments\n",
      "    a         -   A function that specifies the sequence you want to sum.\n",
      "    max_iter  -   The maximum number of iterations, a positive integer \n",
      "                  (default max_iter=10000).\n",
      "    epsilon   -   The tolerance, a positive float (default epsilon=1e-5).\n",
      "    verbose   -   A boolean specifying whether or not you want to print\n",
      "                  something about the progress of the function\n",
      "                  (default verbose=True).\n",
      "    \n",
      "    Returns:\n",
      "        An estimate of the sum of a(n) for n = 0 to infinty.\n",
      "\n"
     ]
    }
   ],
   "source": [
    "help(calculate_series)"
   ]
  },
  {
   "cell_type": "markdown",
   "metadata": {
    "id": "PSUzObns63GS"
   },
   "source": [
    "Here is how to use it:"
   ]
  },
  {
   "cell_type": "code",
   "execution_count": 35,
   "metadata": {
    "id": "dWTV34Ry63GT"
   },
   "outputs": [],
   "source": [
    "# First define a sequence\n",
    "def a(n):\n",
    "    return (-1) ** n / (2 * n + 1)"
   ]
  },
  {
   "cell_type": "code",
   "execution_count": 36,
   "metadata": {
    "id": "2u-Fw6XC63GT"
   },
   "outputs": [
    {
     "name": "stdout",
     "output_type": "stream",
     "text": [
      "Current iteration n =          0, sum so far: 1.000000000000\n",
      "Current iteration n =      10000, sum so far: 0.785423160898\n",
      "Current iteration n =      20000, sum so far: 0.785410662772\n",
      "Current iteration n =      30000, sum so far: 0.785406496453\n",
      "Current iteration n =      40000, sum so far: 0.785404413241\n",
      "*** Converged in 50001 iterations! ***\n"
     ]
    },
    {
     "data": {
      "text/plain": [
       "0.7853931633974454"
      ]
     },
     "execution_count": 36,
     "metadata": {},
     "output_type": "execute_result"
    }
   ],
   "source": [
    "# Now run this:\n",
    "calculate_series(a)"
   ]
  },
  {
   "cell_type": "markdown",
   "metadata": {
    "id": "rl3Wmo5y63GT"
   },
   "source": [
    "And here is an even faster way to do the same thing using ``lambda`` functions:"
   ]
  },
  {
   "cell_type": "code",
   "execution_count": 37,
   "metadata": {
    "id": "1Atf0Td163GT"
   },
   "outputs": [
    {
     "name": "stdout",
     "output_type": "stream",
     "text": [
      "Current iteration n =          0, sum so far: 1.000000000000\n",
      "Current iteration n =      10000, sum so far: 0.785423160898\n",
      "Current iteration n =      20000, sum so far: 0.785410662772\n",
      "Current iteration n =      30000, sum so far: 0.785406496453\n",
      "Current iteration n =      40000, sum so far: 0.785404413241\n",
      "*** Converged in 50001 iterations! ***\n"
     ]
    },
    {
     "data": {
      "text/plain": [
       "0.7853931633974454"
      ]
     },
     "execution_count": 37,
     "metadata": {},
     "output_type": "execute_result"
    }
   ],
   "source": [
    "calculate_series(lambda n: (-1) ** n / (2 * n + 1))"
   ]
  },
  {
   "cell_type": "markdown",
   "metadata": {
    "id": "3H0c121w63GT"
   },
   "source": [
    "### Questions\n",
    "+ Modify the code above so that you sum the series:\n",
    "$$\n",
    "\\sum_{n=0}^\\infty\\frac{1}{2^n},\n",
    "$$\n",
    "+ Modify the code above so that ``max_iter=1000`` and ``epsilon=1e-2``.\n",
    "+ Modify the code above so that the function does not print anything."
   ]
  },
  {
   "cell_type": "code",
   "execution_count": null,
   "metadata": {},
   "outputs": [],
   "source": []
  }
 ],
 "metadata": {
  "colab": {
   "name": "python-basics-7.ipynb",
   "provenance": []
  },
  "kernelspec": {
   "display_name": "Python 3 (ipykernel)",
   "language": "python",
   "name": "python3"
  },
  "language_info": {
   "codemirror_mode": {
    "name": "ipython",
    "version": 3
   },
   "file_extension": ".py",
   "mimetype": "text/x-python",
   "name": "python",
   "nbconvert_exporter": "python",
   "pygments_lexer": "ipython3",
   "version": "3.10.6"
  }
 },
 "nbformat": 4,
 "nbformat_minor": 1
}
