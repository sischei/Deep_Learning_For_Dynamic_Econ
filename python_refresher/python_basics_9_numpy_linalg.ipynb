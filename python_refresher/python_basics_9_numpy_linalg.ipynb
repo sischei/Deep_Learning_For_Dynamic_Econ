{
 "cells": [
  {
   "cell_type": "markdown",
   "metadata": {
    "id": "PGqeXXUA68vj"
   },
   "source": [
    "# Python Basics 9: Numpy Arrays and Linear Algebra\n",
    "\n",
    "The ability to do basic things with numerical arrays (vectors and matrices) is extremely important in data science applications.\n",
    "We do numerical algebra in Python using the [Numpy](https://numpy.org/).\n",
    "Numpy is a **huge** Python library and it has a lot of details.\n",
    "We are going to cover the very basics here.\n",
    "When there is something specific that you want to do, the best way to figure out how to do it is to Google it.\n",
    "\n",
    "First, let's import ``numpy``.\n",
    "We typically, do it by creating a shortcut called ``np``:"
   ]
  },
  {
   "cell_type": "code",
   "execution_count": 1,
   "metadata": {
    "id": "o9FGeuuc68vm"
   },
   "outputs": [],
   "source": [
    "import numpy as np"
   ]
  },
  {
   "cell_type": "markdown",
   "metadata": {
    "id": "DjhZbgU168vn"
   },
   "source": [
    "In this way you can access whatever is in ``numpy`` by going throuh ``np`` which is less characters.\n",
    "Let's create a 1D numpy array from a list:"
   ]
  },
  {
   "cell_type": "code",
   "execution_count": 2,
   "metadata": {
    "id": "dU2dfgjX68vn"
   },
   "outputs": [
    {
     "name": "stdout",
     "output_type": "stream",
     "text": [
      "[ 1.2  2.   3.  -1.   2. ]\n"
     ]
    }
   ],
   "source": [
    "a = np.array([1.2, 2.0, 3.0, -1.0, 2.0])\n",
    "print(a)"
   ]
  },
  {
   "cell_type": "markdown",
   "metadata": {
    "id": "0QlqSSt868vn"
   },
   "source": [
    "This behaves just like a vector in Matlab.\n",
    "You can multiply with a number:"
   ]
  },
  {
   "cell_type": "code",
   "execution_count": 3,
   "metadata": {
    "id": "Qs5I6Y7b68vo"
   },
   "outputs": [
    {
     "data": {
      "text/plain": [
       "array([ 2.4,  4. ,  6. , -2. ,  4. ])"
      ]
     },
     "execution_count": 3,
     "metadata": {},
     "output_type": "execute_result"
    }
   ],
   "source": [
    "2.0 * a"
   ]
  },
  {
   "cell_type": "code",
   "execution_count": 4,
   "metadata": {
    "id": "jg2_P1s168vo"
   },
   "outputs": [
    {
     "data": {
      "text/plain": [
       "array([ 3.6,  6. ,  9. , -3. ,  6. ])"
      ]
     },
     "execution_count": 4,
     "metadata": {},
     "output_type": "execute_result"
    }
   ],
   "source": [
    "a * 3"
   ]
  },
  {
   "cell_type": "markdown",
   "metadata": {
    "id": "AWcN40y-68vo"
   },
   "source": [
    "You can add another vector (of the same size):"
   ]
  },
  {
   "cell_type": "code",
   "execution_count": 5,
   "metadata": {
    "id": "GCgEVRM368vo"
   },
   "outputs": [
    {
     "data": {
      "text/plain": [
       "array([2.2, 4. , 6. , 3. , 7. ])"
      ]
     },
     "execution_count": 5,
     "metadata": {},
     "output_type": "execute_result"
    }
   ],
   "source": [
    "b = np.array([1, 2, 3, 4, 5])\n",
    "c = a + b\n",
    "c"
   ]
  },
  {
   "cell_type": "markdown",
   "metadata": {
    "id": "Y-1SZ6bA68vp"
   },
   "source": [
    "You can raise all elements to a power:"
   ]
  },
  {
   "cell_type": "code",
   "execution_count": 6,
   "metadata": {
    "id": "SiItn9R568vp"
   },
   "outputs": [
    {
     "data": {
      "text/plain": [
       "array([ 1.728,  8.   , 27.   , -1.   ,  8.   ])"
      ]
     },
     "execution_count": 6,
     "metadata": {},
     "output_type": "execute_result"
    }
   ],
   "source": [
    "a ** 3"
   ]
  },
  {
   "cell_type": "markdown",
   "metadata": {
    "id": "nj9gJg8F68vq"
   },
   "source": [
    "Or you can apply a standard function to all elements:"
   ]
  },
  {
   "cell_type": "code",
   "execution_count": 7,
   "metadata": {
    "id": "TluxThnO68vr"
   },
   "outputs": [
    {
     "data": {
      "text/plain": [
       "array([ 3.32011692,  7.3890561 , 20.08553692,  0.36787944,  7.3890561 ])"
      ]
     },
     "execution_count": 7,
     "metadata": {},
     "output_type": "execute_result"
    }
   ],
   "source": [
    "np.exp(a)"
   ]
  },
  {
   "cell_type": "code",
   "execution_count": 8,
   "metadata": {
    "id": "4kLJL_0268vr"
   },
   "outputs": [
    {
     "data": {
      "text/plain": [
       "array([ 0.36235775, -0.41614684, -0.9899925 ,  0.54030231, -0.41614684])"
      ]
     },
     "execution_count": 8,
     "metadata": {},
     "output_type": "execute_result"
    }
   ],
   "source": [
    "np.cos(a)"
   ]
  },
  {
   "cell_type": "code",
   "execution_count": 9,
   "metadata": {
    "id": "gtji55hA68vr"
   },
   "outputs": [
    {
     "data": {
      "text/plain": [
       "array([ 0.93203909,  0.90929743,  0.14112001, -0.84147098,  0.90929743])"
      ]
     },
     "execution_count": 9,
     "metadata": {},
     "output_type": "execute_result"
    }
   ],
   "source": [
    "np.sin(a)"
   ]
  },
  {
   "cell_type": "code",
   "execution_count": 10,
   "metadata": {
    "id": "Cd2dEcBB68vr"
   },
   "outputs": [
    {
     "data": {
      "text/plain": [
       "array([ 2.57215162, -2.18503986, -0.14254654, -1.55740772, -2.18503986])"
      ]
     },
     "execution_count": 10,
     "metadata": {},
     "output_type": "execute_result"
    }
   ],
   "source": [
    "np.tan(a)"
   ]
  },
  {
   "cell_type": "markdown",
   "metadata": {
    "id": "PE3jRj6M68vs"
   },
   "source": [
    "Notice that the functions you can use are in ``np``.\n",
    "Here is how you can get how many elements you have in the array:"
   ]
  },
  {
   "cell_type": "code",
   "execution_count": 11,
   "metadata": {
    "id": "d90Lsehm68vs"
   },
   "outputs": [
    {
     "data": {
      "text/plain": [
       "(5,)"
      ]
     },
     "execution_count": 11,
     "metadata": {},
     "output_type": "execute_result"
    }
   ],
   "source": [
    "a.shape"
   ]
  },
  {
   "cell_type": "markdown",
   "metadata": {
    "id": "16sJwoNi68vs"
   },
   "source": [
    "Also, to see if this is a 1D array (higher dimensional arrays, 2D, 3D, etc. are also possible), you can use this:"
   ]
  },
  {
   "cell_type": "code",
   "execution_count": 12,
   "metadata": {
    "id": "CtW7KFGs68vs"
   },
   "outputs": [
    {
     "data": {
      "text/plain": [
       "1"
      ]
     },
     "execution_count": 12,
     "metadata": {},
     "output_type": "execute_result"
    }
   ],
   "source": [
    "a.ndim"
   ]
  },
  {
   "cell_type": "markdown",
   "metadata": {
    "id": "BcoxU3ea68vt"
   },
   "source": [
    "You access the elements of the array just like the elements of a list:"
   ]
  },
  {
   "cell_type": "code",
   "execution_count": 13,
   "metadata": {
    "id": "J4p5_mTy68vt"
   },
   "outputs": [
    {
     "data": {
      "text/plain": [
       "1.2"
      ]
     },
     "execution_count": 13,
     "metadata": {},
     "output_type": "execute_result"
    }
   ],
   "source": [
    "a[0]"
   ]
  },
  {
   "cell_type": "code",
   "execution_count": 14,
   "metadata": {
    "id": "LHRY2EkX68vt"
   },
   "outputs": [
    {
     "data": {
      "text/plain": [
       "2.0"
      ]
     },
     "execution_count": 14,
     "metadata": {},
     "output_type": "execute_result"
    }
   ],
   "source": [
    "a[1]"
   ]
  },
  {
   "cell_type": "code",
   "execution_count": 15,
   "metadata": {
    "id": "3wKFkuna68vt"
   },
   "outputs": [
    {
     "data": {
      "text/plain": [
       "array([ 3., -1.])"
      ]
     },
     "execution_count": 15,
     "metadata": {},
     "output_type": "execute_result"
    }
   ],
   "source": [
    "a[2:4]"
   ]
  },
  {
   "cell_type": "code",
   "execution_count": 16,
   "metadata": {
    "id": "mwvy25_B68vu"
   },
   "outputs": [
    {
     "data": {
      "text/plain": [
       "array([1.2, 3. , 2. ])"
      ]
     },
     "execution_count": 16,
     "metadata": {},
     "output_type": "execute_result"
    }
   ],
   "source": [
    "a[::2]"
   ]
  },
  {
   "cell_type": "code",
   "execution_count": 17,
   "metadata": {
    "id": "33ylHLMQ68vu"
   },
   "outputs": [
    {
     "data": {
      "text/plain": [
       "array([ 2. , -1. ,  3. ,  2. ,  1.2])"
      ]
     },
     "execution_count": 17,
     "metadata": {},
     "output_type": "execute_result"
    }
   ],
   "source": [
    "a[::-1]"
   ]
  },
  {
   "cell_type": "markdown",
   "metadata": {
    "id": "SWGXG7XC68vu"
   },
   "source": [
    "You can find the minimum or the maximum of the array like this:"
   ]
  },
  {
   "cell_type": "code",
   "execution_count": 18,
   "metadata": {
    "id": "y395UVqk68vu"
   },
   "outputs": [
    {
     "data": {
      "text/plain": [
       "-1.0"
      ]
     },
     "execution_count": 18,
     "metadata": {},
     "output_type": "execute_result"
    }
   ],
   "source": [
    "a.min()"
   ]
  },
  {
   "cell_type": "code",
   "execution_count": 19,
   "metadata": {
    "id": "NwUI86tr68vv"
   },
   "outputs": [
    {
     "data": {
      "text/plain": [
       "3.0"
      ]
     },
     "execution_count": 19,
     "metadata": {},
     "output_type": "execute_result"
    }
   ],
   "source": [
    "a.max()"
   ]
  },
  {
   "cell_type": "markdown",
   "metadata": {
    "id": "K--k_-yF68vv"
   },
   "source": [
    "So, notice that ``a`` is an object of a class.\n",
    "The class is called ``np.ndarray``:"
   ]
  },
  {
   "cell_type": "code",
   "execution_count": 20,
   "metadata": {
    "id": "0QWUO6z668vv"
   },
   "outputs": [
    {
     "data": {
      "text/plain": [
       "numpy.ndarray"
      ]
     },
     "execution_count": 20,
     "metadata": {},
     "output_type": "execute_result"
    }
   ],
   "source": [
    "type(a)"
   ]
  },
  {
   "cell_type": "markdown",
   "metadata": {
    "id": "zUVzEHf768vv"
   },
   "source": [
    "and ``min()`` and ``max()`` are functions of the ``np.ndarray`` class.\n",
    "Another function of the class is the dot product:"
   ]
  },
  {
   "cell_type": "code",
   "execution_count": 21,
   "metadata": {
    "id": "wW0-iz9M68vv"
   },
   "outputs": [
    {
     "data": {
      "text/plain": [
       "20.2"
      ]
     },
     "execution_count": 21,
     "metadata": {},
     "output_type": "execute_result"
    }
   ],
   "source": [
    "a.dot(b)"
   ]
  },
  {
   "cell_type": "markdown",
   "metadata": {
    "id": "e5z8hqpg68vv"
   },
   "source": [
    "There is also a submodule called ``numpy.linalg`` which has some linear algebra functions you can apply to arrays.\n",
    "For 1D arrays (aka vectors) the vector norm is a useful one:"
   ]
  },
  {
   "cell_type": "code",
   "execution_count": 22,
   "metadata": {
    "id": "WCJYx19n68vw"
   },
   "outputs": [
    {
     "data": {
      "text/plain": [
       "4.409081537009721"
      ]
     },
     "execution_count": 22,
     "metadata": {},
     "output_type": "execute_result"
    }
   ],
   "source": [
    "np.linalg.norm(a)"
   ]
  },
  {
   "cell_type": "code",
   "execution_count": 23,
   "metadata": {
    "id": "v2L_vnpq68vw"
   },
   "outputs": [
    {
     "name": "stdout",
     "output_type": "stream",
     "text": [
      "Help on function norm in module numpy.linalg:\n",
      "\n",
      "norm(x, ord=None, axis=None, keepdims=False)\n",
      "    Matrix or vector norm.\n",
      "    \n",
      "    This function is able to return one of eight different matrix norms,\n",
      "    or one of an infinite number of vector norms (described below), depending\n",
      "    on the value of the ``ord`` parameter.\n",
      "    \n",
      "    Parameters\n",
      "    ----------\n",
      "    x : array_like\n",
      "        Input array.  If `axis` is None, `x` must be 1-D or 2-D, unless `ord`\n",
      "        is None. If both `axis` and `ord` are None, the 2-norm of\n",
      "        ``x.ravel`` will be returned.\n",
      "    ord : {non-zero int, inf, -inf, 'fro', 'nuc'}, optional\n",
      "        Order of the norm (see table under ``Notes``). inf means numpy's\n",
      "        `inf` object. The default is None.\n",
      "    axis : {None, int, 2-tuple of ints}, optional.\n",
      "        If `axis` is an integer, it specifies the axis of `x` along which to\n",
      "        compute the vector norms.  If `axis` is a 2-tuple, it specifies the\n",
      "        axes that hold 2-D matrices, and the matrix norms of these matrices\n",
      "        are computed.  If `axis` is None then either a vector norm (when `x`\n",
      "        is 1-D) or a matrix norm (when `x` is 2-D) is returned. The default\n",
      "        is None.\n",
      "    \n",
      "        .. versionadded:: 1.8.0\n",
      "    \n",
      "    keepdims : bool, optional\n",
      "        If this is set to True, the axes which are normed over are left in the\n",
      "        result as dimensions with size one.  With this option the result will\n",
      "        broadcast correctly against the original `x`.\n",
      "    \n",
      "        .. versionadded:: 1.10.0\n",
      "    \n",
      "    Returns\n",
      "    -------\n",
      "    n : float or ndarray\n",
      "        Norm of the matrix or vector(s).\n",
      "    \n",
      "    See Also\n",
      "    --------\n",
      "    scipy.linalg.norm : Similar function in SciPy.\n",
      "    \n",
      "    Notes\n",
      "    -----\n",
      "    For values of ``ord < 1``, the result is, strictly speaking, not a\n",
      "    mathematical 'norm', but it may still be useful for various numerical\n",
      "    purposes.\n",
      "    \n",
      "    The following norms can be calculated:\n",
      "    \n",
      "    =====  ============================  ==========================\n",
      "    ord    norm for matrices             norm for vectors\n",
      "    =====  ============================  ==========================\n",
      "    None   Frobenius norm                2-norm\n",
      "    'fro'  Frobenius norm                --\n",
      "    'nuc'  nuclear norm                  --\n",
      "    inf    max(sum(abs(x), axis=1))      max(abs(x))\n",
      "    -inf   min(sum(abs(x), axis=1))      min(abs(x))\n",
      "    0      --                            sum(x != 0)\n",
      "    1      max(sum(abs(x), axis=0))      as below\n",
      "    -1     min(sum(abs(x), axis=0))      as below\n",
      "    2      2-norm (largest sing. value)  as below\n",
      "    -2     smallest singular value       as below\n",
      "    other  --                            sum(abs(x)**ord)**(1./ord)\n",
      "    =====  ============================  ==========================\n",
      "    \n",
      "    The Frobenius norm is given by [1]_:\n",
      "    \n",
      "        :math:`||A||_F = [\\sum_{i,j} abs(a_{i,j})^2]^{1/2}`\n",
      "    \n",
      "    The nuclear norm is the sum of the singular values.\n",
      "    \n",
      "    Both the Frobenius and nuclear norm orders are only defined for\n",
      "    matrices and raise a ValueError when ``x.ndim != 2``.\n",
      "    \n",
      "    References\n",
      "    ----------\n",
      "    .. [1] G. H. Golub and C. F. Van Loan, *Matrix Computations*,\n",
      "           Baltimore, MD, Johns Hopkins University Press, 1985, pg. 15\n",
      "    \n",
      "    Examples\n",
      "    --------\n",
      "    >>> from numpy import linalg as LA\n",
      "    >>> a = np.arange(9) - 4\n",
      "    >>> a\n",
      "    array([-4, -3, -2, ...,  2,  3,  4])\n",
      "    >>> b = a.reshape((3, 3))\n",
      "    >>> b\n",
      "    array([[-4, -3, -2],\n",
      "           [-1,  0,  1],\n",
      "           [ 2,  3,  4]])\n",
      "    \n",
      "    >>> LA.norm(a)\n",
      "    7.745966692414834\n",
      "    >>> LA.norm(b)\n",
      "    7.745966692414834\n",
      "    >>> LA.norm(b, 'fro')\n",
      "    7.745966692414834\n",
      "    >>> LA.norm(a, np.inf)\n",
      "    4.0\n",
      "    >>> LA.norm(b, np.inf)\n",
      "    9.0\n",
      "    >>> LA.norm(a, -np.inf)\n",
      "    0.0\n",
      "    >>> LA.norm(b, -np.inf)\n",
      "    2.0\n",
      "    \n",
      "    >>> LA.norm(a, 1)\n",
      "    20.0\n",
      "    >>> LA.norm(b, 1)\n",
      "    7.0\n",
      "    >>> LA.norm(a, -1)\n",
      "    -4.6566128774142013e-010\n",
      "    >>> LA.norm(b, -1)\n",
      "    6.0\n",
      "    >>> LA.norm(a, 2)\n",
      "    7.745966692414834\n",
      "    >>> LA.norm(b, 2)\n",
      "    7.3484692283495345\n",
      "    \n",
      "    >>> LA.norm(a, -2)\n",
      "    0.0\n",
      "    >>> LA.norm(b, -2)\n",
      "    1.8570331885190563e-016 # may vary\n",
      "    >>> LA.norm(a, 3)\n",
      "    5.8480354764257312 # may vary\n",
      "    >>> LA.norm(a, -3)\n",
      "    0.0\n",
      "    \n",
      "    Using the `axis` argument to compute vector norms:\n",
      "    \n",
      "    >>> c = np.array([[ 1, 2, 3],\n",
      "    ...               [-1, 1, 4]])\n",
      "    >>> LA.norm(c, axis=0)\n",
      "    array([ 1.41421356,  2.23606798,  5.        ])\n",
      "    >>> LA.norm(c, axis=1)\n",
      "    array([ 3.74165739,  4.24264069])\n",
      "    >>> LA.norm(c, ord=1, axis=1)\n",
      "    array([ 6.,  6.])\n",
      "    \n",
      "    Using the `axis` argument to compute matrix norms:\n",
      "    \n",
      "    >>> m = np.arange(8).reshape(2,2,2)\n",
      "    >>> LA.norm(m, axis=(1,2))\n",
      "    array([  3.74165739,  11.22497216])\n",
      "    >>> LA.norm(m[0, :, :]), LA.norm(m[1, :, :])\n",
      "    (3.7416573867739413, 11.224972160321824)\n",
      "\n"
     ]
    }
   ],
   "source": [
    "help(np.linalg.norm)"
   ]
  },
  {
   "cell_type": "markdown",
   "metadata": {
    "id": "f9oSWQSH68vw"
   },
   "source": [
    "## Questions\n",
    "Consider the two vectors:"
   ]
  },
  {
   "cell_type": "code",
   "execution_count": 24,
   "metadata": {
    "id": "_Q2JeAm068vw"
   },
   "outputs": [],
   "source": [
    "r1 = np.array([1.0, -2.0, 3.0])\n",
    "r2 = np.array([2.0, 2.0, -3.0])"
   ]
  },
  {
   "cell_type": "markdown",
   "metadata": {
    "id": "HsC7R9-068vx"
   },
   "source": [
    "Use numpy functionality to:\n",
    "+ Find a unit vector in the direction of ``r1``:"
   ]
  },
  {
   "cell_type": "code",
   "execution_count": 25,
   "metadata": {
    "id": "TXJtP1At68vx"
   },
   "outputs": [],
   "source": [
    "# Your code here"
   ]
  },
  {
   "cell_type": "markdown",
   "metadata": {
    "id": "Ju5dZU0A68vy"
   },
   "source": [
    "+ Find the angle between ``r1`` and ``r2`` in radians:"
   ]
  },
  {
   "cell_type": "code",
   "execution_count": 26,
   "metadata": {
    "id": "l3ZJd1SF68vy"
   },
   "outputs": [],
   "source": [
    "# Your code here"
   ]
  },
  {
   "cell_type": "markdown",
   "metadata": {
    "id": "3vMS6jyr68vy"
   },
   "source": [
    "+ The projection of ``r2`` on ``r1``:"
   ]
  },
  {
   "cell_type": "code",
   "execution_count": 27,
   "metadata": {
    "id": "Wd_Z7jTb68vz"
   },
   "outputs": [],
   "source": [
    "# Your code here"
   ]
  },
  {
   "cell_type": "markdown",
   "metadata": {
    "id": "KoSpWnF868vz"
   },
   "source": [
    "+ Use [numpy.cross](https://numpy.org/doc/stable/reference/generated/numpy.cross.html) to find the cross product between ``r2`` and ``r1``. Then, verify numerically (using numpy functionality) that $\\vec{r}_1\\cdot\\left(\\vec{r}_1\\times\\vec{r}_2\\right) = 0$."
   ]
  },
  {
   "cell_type": "code",
   "execution_count": 28,
   "metadata": {
    "id": "Mv0ECpRT68vz"
   },
   "outputs": [],
   "source": [
    "# Your code here"
   ]
  },
  {
   "cell_type": "markdown",
   "metadata": {
    "id": "2_qzbNBX68vz"
   },
   "source": [
    "## Matrices\n",
    "\n",
    "Now, let's go to two dimensional arrays.\n",
    "Of course, you can think of the vectors as two dimensional arrays.\n",
    "In particular, you can think of them as a matrix with a single column.\n",
    "To do this in numpy you need to reshape the vectors:"
   ]
  },
  {
   "cell_type": "code",
   "execution_count": 29,
   "metadata": {
    "id": "6mIOpS4768vz"
   },
   "outputs": [
    {
     "data": {
      "text/plain": [
       "array([ 1.2,  2. ,  3. , -1. ,  2. ])"
      ]
     },
     "execution_count": 29,
     "metadata": {},
     "output_type": "execute_result"
    }
   ],
   "source": [
    "# The original vector\n",
    "a"
   ]
  },
  {
   "cell_type": "code",
   "execution_count": 30,
   "metadata": {
    "id": "Zrma2V9C68v0"
   },
   "outputs": [
    {
     "data": {
      "text/plain": [
       "array([[ 1.2],\n",
       "       [ 2. ],\n",
       "       [ 3. ],\n",
       "       [-1. ],\n",
       "       [ 2. ]])"
      ]
     },
     "execution_count": 30,
     "metadata": {},
     "output_type": "execute_result"
    }
   ],
   "source": [
    "# The vector as a single column matrix\n",
    "acm = a.reshape((5, 1))\n",
    "acm"
   ]
  },
  {
   "cell_type": "code",
   "execution_count": 31,
   "metadata": {
    "id": "vQ3BnVX468v0"
   },
   "outputs": [
    {
     "data": {
      "text/plain": [
       "array([[ 1.2],\n",
       "       [ 2. ],\n",
       "       [ 3. ],\n",
       "       [-1. ],\n",
       "       [ 2. ]])"
      ]
     },
     "execution_count": 31,
     "metadata": {},
     "output_type": "execute_result"
    }
   ],
   "source": [
    "# There is one more way you can achieve the same thing\n",
    "# (and I am going to be using it because it requires less typing)\n",
    "acm = a[:, None]\n",
    "acm"
   ]
  },
  {
   "cell_type": "markdown",
   "metadata": {
    "id": "ri3O-Rpx68v0"
   },
   "source": [
    "The code ``a[:, None]`` means \"pretend that the array has one more index that is always zero.\"\n",
    "\n",
    "Now, since ``acm`` is a 2D array:"
   ]
  },
  {
   "cell_type": "code",
   "execution_count": 32,
   "metadata": {
    "id": "dUn_zaL_68v0"
   },
   "outputs": [
    {
     "data": {
      "text/plain": [
       "2"
      ]
     },
     "execution_count": 32,
     "metadata": {},
     "output_type": "execute_result"
    }
   ],
   "source": [
    "acm.ndim"
   ]
  },
  {
   "cell_type": "markdown",
   "metadata": {
    "id": "07MHPGak68v0"
   },
   "source": [
    "Look also at the shape:"
   ]
  },
  {
   "cell_type": "code",
   "execution_count": 33,
   "metadata": {
    "id": "ZezcVZ_068v1"
   },
   "outputs": [
    {
     "data": {
      "text/plain": [
       "(5, 1)"
      ]
     },
     "execution_count": 33,
     "metadata": {},
     "output_type": "execute_result"
    }
   ],
   "source": [
    "acm.shape"
   ]
  },
  {
   "cell_type": "markdown",
   "metadata": {
    "id": "4Fg8Es5p68v1"
   },
   "source": [
    "So, the shape is (5, 1). This means that there are 5 rows and one colum.\n",
    "You can access elements in this 2D array with indices like this:"
   ]
  },
  {
   "cell_type": "code",
   "execution_count": 34,
   "metadata": {
    "id": "WbkWmH9R68v1"
   },
   "outputs": [
    {
     "data": {
      "text/plain": [
       "1.2"
      ]
     },
     "execution_count": 34,
     "metadata": {},
     "output_type": "execute_result"
    }
   ],
   "source": [
    "acm[0, 0]"
   ]
  },
  {
   "cell_type": "code",
   "execution_count": 35,
   "metadata": {
    "id": "9OOPTKB768v1"
   },
   "outputs": [
    {
     "data": {
      "text/plain": [
       "2.0"
      ]
     },
     "execution_count": 35,
     "metadata": {},
     "output_type": "execute_result"
    }
   ],
   "source": [
    "acm[1, 0]"
   ]
  },
  {
   "cell_type": "markdown",
   "metadata": {
    "id": "e-jRsfEr68v1"
   },
   "source": [
    "And so on. Of course, the second index can only be zero because you only have one column.\n",
    "\n",
    "Let's now make a 2D matrix to play with:"
   ]
  },
  {
   "cell_type": "code",
   "execution_count": 36,
   "metadata": {
    "id": "Az_fSbmc68v2"
   },
   "outputs": [
    {
     "data": {
      "text/plain": [
       "array([[ 2., -1.,  0.,  0.,  0.],\n",
       "       [-1.,  2., -1.,  0.,  0.],\n",
       "       [ 0., -1.,  2., -1.,  0.],\n",
       "       [ 0.,  0., -1.,  2., -1.],\n",
       "       [ 0.,  0.,  0., -1.,  2.]])"
      ]
     },
     "execution_count": 36,
     "metadata": {},
     "output_type": "execute_result"
    }
   ],
   "source": [
    "A = np.array([[2.0, -1.0, 0.0, 0.0, 0.0],\n",
    "              [-1.0, 2.0, -1.0, 0.0, 0.0],\n",
    "              [0.0, -1.0, 2.0, -1.0, 0.0],\n",
    "              [0.0, 0.0, -1.0, 2.0, -1.0],\n",
    "              [0.0, 0.0, 0.0, -1.0, 2.0]\n",
    "             ])\n",
    "A"
   ]
  },
  {
   "cell_type": "markdown",
   "metadata": {
    "id": "ZDegmw0Q68v2"
   },
   "source": [
    "Notice that we used an list of rows and each row was a list of numbers.\n",
    "Here are the dimensions of ``A``:"
   ]
  },
  {
   "cell_type": "code",
   "execution_count": 37,
   "metadata": {
    "id": "DSPKjbmC68v2"
   },
   "outputs": [
    {
     "data": {
      "text/plain": [
       "2"
      ]
     },
     "execution_count": 37,
     "metadata": {},
     "output_type": "execute_result"
    }
   ],
   "source": [
    "A.ndim"
   ]
  },
  {
   "cell_type": "code",
   "execution_count": 38,
   "metadata": {
    "id": "lzKgaqfe68v2"
   },
   "outputs": [
    {
     "data": {
      "text/plain": [
       "(5, 5)"
      ]
     },
     "execution_count": 38,
     "metadata": {},
     "output_type": "execute_result"
    }
   ],
   "source": [
    "A.shape"
   ]
  },
  {
   "cell_type": "markdown",
   "metadata": {
    "id": "ZDxmBBYN68v2"
   },
   "source": [
    "Let's access some elements of ``A``:"
   ]
  },
  {
   "cell_type": "code",
   "execution_count": 39,
   "metadata": {
    "id": "udJl96kD68v3"
   },
   "outputs": [
    {
     "data": {
      "text/plain": [
       "2.0"
      ]
     },
     "execution_count": 39,
     "metadata": {},
     "output_type": "execute_result"
    }
   ],
   "source": [
    "A[0, 0]"
   ]
  },
  {
   "cell_type": "code",
   "execution_count": 40,
   "metadata": {
    "id": "gMaqmE9268v3"
   },
   "outputs": [
    {
     "data": {
      "text/plain": [
       "2.0"
      ]
     },
     "execution_count": 40,
     "metadata": {},
     "output_type": "execute_result"
    }
   ],
   "source": [
    "A[2, 2]"
   ]
  },
  {
   "cell_type": "markdown",
   "metadata": {
    "id": "zvhVSlCv68v3"
   },
   "source": [
    "You can access the 3rd row like this:"
   ]
  },
  {
   "cell_type": "code",
   "execution_count": 41,
   "metadata": {
    "id": "piuwoArX68v3"
   },
   "outputs": [
    {
     "data": {
      "text/plain": [
       "array([ 0., -1.,  2., -1.,  0.])"
      ]
     },
     "execution_count": 41,
     "metadata": {},
     "output_type": "execute_result"
    }
   ],
   "source": [
    "A[2]"
   ]
  },
  {
   "cell_type": "markdown",
   "metadata": {
    "id": "hcoFHaGV68v3"
   },
   "source": [
    "You can get a submatrix, say the first 3x3 submatrix like this:"
   ]
  },
  {
   "cell_type": "code",
   "execution_count": 42,
   "metadata": {
    "id": "zINzJqO568v3"
   },
   "outputs": [
    {
     "data": {
      "text/plain": [
       "array([[ 2., -1.,  0.],\n",
       "       [-1.,  2., -1.],\n",
       "       [ 0., -1.,  2.]])"
      ]
     },
     "execution_count": 42,
     "metadata": {},
     "output_type": "execute_result"
    }
   ],
   "source": [
    "A[:3, :3]"
   ]
  },
  {
   "cell_type": "markdown",
   "metadata": {
    "id": "ZoX1dqd368v4"
   },
   "source": [
    "And so on.\n",
    "\n",
    "You can multiply matrices with numbers:"
   ]
  },
  {
   "cell_type": "code",
   "execution_count": 43,
   "metadata": {
    "id": "wu9rwq3Q68v4"
   },
   "outputs": [
    {
     "data": {
      "text/plain": [
       "array([[ 4., -2.,  0.,  0.,  0.],\n",
       "       [-2.,  4., -2.,  0.,  0.],\n",
       "       [ 0., -2.,  4., -2.,  0.],\n",
       "       [ 0.,  0., -2.,  4., -2.],\n",
       "       [ 0.,  0.,  0., -2.,  4.]])"
      ]
     },
     "execution_count": 43,
     "metadata": {},
     "output_type": "execute_result"
    }
   ],
   "source": [
    "2.0 * A"
   ]
  },
  {
   "cell_type": "code",
   "execution_count": 44,
   "metadata": {
    "id": "hqighWlO68v4"
   },
   "outputs": [
    {
     "data": {
      "text/plain": [
       "array([[ 6., -3.,  0.,  0.,  0.],\n",
       "       [-3.,  6., -3.,  0.,  0.],\n",
       "       [ 0., -3.,  6., -3.,  0.],\n",
       "       [ 0.,  0., -3.,  6., -3.],\n",
       "       [ 0.,  0.,  0., -3.,  6.]])"
      ]
     },
     "execution_count": 44,
     "metadata": {},
     "output_type": "execute_result"
    }
   ],
   "source": [
    "A * 3.0"
   ]
  },
  {
   "cell_type": "markdown",
   "metadata": {
    "id": "zNv4L9Ti68v4"
   },
   "source": [
    "You can raise them to a power:"
   ]
  },
  {
   "cell_type": "code",
   "execution_count": 45,
   "metadata": {
    "id": "etIaUsW768v4"
   },
   "outputs": [
    {
     "data": {
      "text/plain": [
       "array([[ 8., -1.,  0.,  0.,  0.],\n",
       "       [-1.,  8., -1.,  0.,  0.],\n",
       "       [ 0., -1.,  8., -1.,  0.],\n",
       "       [ 0.,  0., -1.,  8., -1.],\n",
       "       [ 0.,  0.,  0., -1.,  8.]])"
      ]
     },
     "execution_count": 45,
     "metadata": {},
     "output_type": "execute_result"
    }
   ],
   "source": [
    "A ** 3"
   ]
  },
  {
   "cell_type": "markdown",
   "metadata": {
    "id": "SKbgzUUv68v4"
   },
   "source": [
    "You can pass them through functions:"
   ]
  },
  {
   "cell_type": "code",
   "execution_count": 46,
   "metadata": {
    "id": "Yzl29_pM68v4"
   },
   "outputs": [
    {
     "data": {
      "text/plain": [
       "array([[7.3890561 , 0.36787944, 1.        , 1.        , 1.        ],\n",
       "       [0.36787944, 7.3890561 , 0.36787944, 1.        , 1.        ],\n",
       "       [1.        , 0.36787944, 7.3890561 , 0.36787944, 1.        ],\n",
       "       [1.        , 1.        , 0.36787944, 7.3890561 , 0.36787944],\n",
       "       [1.        , 1.        , 1.        , 0.36787944, 7.3890561 ]])"
      ]
     },
     "execution_count": 46,
     "metadata": {},
     "output_type": "execute_result"
    }
   ],
   "source": [
    "np.exp(A)"
   ]
  },
  {
   "cell_type": "markdown",
   "metadata": {
    "id": "1HDkGTn168v5"
   },
   "source": [
    "You can add them together:"
   ]
  },
  {
   "cell_type": "code",
   "execution_count": 47,
   "metadata": {
    "id": "BRxGo0qI68v5"
   },
   "outputs": [
    {
     "data": {
      "text/plain": [
       "array([[ 4., -2.,  0.,  0.,  0.],\n",
       "       [-2.,  4., -2.,  0.,  0.],\n",
       "       [ 0., -2.,  4., -2.,  0.],\n",
       "       [ 0.,  0., -2.,  4., -2.],\n",
       "       [ 0.,  0.,  0., -2.,  4.]])"
      ]
     },
     "execution_count": 47,
     "metadata": {},
     "output_type": "execute_result"
    }
   ],
   "source": [
    "A + A"
   ]
  },
  {
   "cell_type": "markdown",
   "metadata": {
    "id": "GH6a_IBA68v5"
   },
   "source": [
    "You can multiply them together (assuming that the dimensions match):"
   ]
  },
  {
   "cell_type": "code",
   "execution_count": 48,
   "metadata": {
    "id": "A1kFG-3m68v5"
   },
   "outputs": [
    {
     "data": {
      "text/plain": [
       "array([[ 5., -4.,  1.,  0.,  0.],\n",
       "       [-4.,  6., -4.,  1.,  0.],\n",
       "       [ 1., -4.,  6., -4.,  1.],\n",
       "       [ 0.,  1., -4.,  6., -4.],\n",
       "       [ 0.,  0.,  1., -4.,  5.]])"
      ]
     },
     "execution_count": 48,
     "metadata": {},
     "output_type": "execute_result"
    }
   ],
   "source": [
    "A.dot(A)"
   ]
  },
  {
   "cell_type": "markdown",
   "metadata": {
    "id": "2D7CQC1U68v5"
   },
   "source": [
    "You can multiply a matrix with a vector:"
   ]
  },
  {
   "cell_type": "code",
   "execution_count": 49,
   "metadata": {
    "id": "IhsxFlp668v5"
   },
   "outputs": [
    {
     "data": {
      "text/plain": [
       "array([ 0.4, -0.2,  5. , -7. ,  5. ])"
      ]
     },
     "execution_count": 49,
     "metadata": {},
     "output_type": "execute_result"
    }
   ],
   "source": [
    "A.dot(a)"
   ]
  },
  {
   "cell_type": "markdown",
   "metadata": {
    "id": "-_qMnmOJ68v6"
   },
   "source": [
    "Remember the column matrix ``acm``:"
   ]
  },
  {
   "cell_type": "code",
   "execution_count": 50,
   "metadata": {
    "id": "lUAaNYzX68v6"
   },
   "outputs": [
    {
     "data": {
      "text/plain": [
       "array([[ 1.2],\n",
       "       [ 2. ],\n",
       "       [ 3. ],\n",
       "       [-1. ],\n",
       "       [ 2. ]])"
      ]
     },
     "execution_count": 50,
     "metadata": {},
     "output_type": "execute_result"
    }
   ],
   "source": [
    "acm"
   ]
  },
  {
   "cell_type": "markdown",
   "metadata": {
    "id": "vdIyC9B268v6"
   },
   "source": [
    "You can also multiply the matrix with it since the dimensions match:"
   ]
  },
  {
   "cell_type": "code",
   "execution_count": 51,
   "metadata": {
    "id": "rkQdnIg868v7"
   },
   "outputs": [
    {
     "data": {
      "text/plain": [
       "array([[ 0.4],\n",
       "       [-0.2],\n",
       "       [ 5. ],\n",
       "       [-7. ],\n",
       "       [ 5. ]])"
      ]
     },
     "execution_count": 51,
     "metadata": {},
     "output_type": "execute_result"
    }
   ],
   "source": [
    "A.dot(acm)"
   ]
  },
  {
   "cell_type": "markdown",
   "metadata": {
    "id": "8iYAL_eI68v7"
   },
   "source": [
    "You can also multiply ``acm`` (5x1) with its transpose (1x5).\n",
    "The transpose is:"
   ]
  },
  {
   "cell_type": "code",
   "execution_count": 52,
   "metadata": {
    "id": "n7l4ke3T68v8"
   },
   "outputs": [
    {
     "data": {
      "text/plain": [
       "array([[ 1.2,  2. ,  3. , -1. ,  2. ]])"
      ]
     },
     "execution_count": 52,
     "metadata": {},
     "output_type": "execute_result"
    }
   ],
   "source": [
    "acm.T"
   ]
  },
  {
   "cell_type": "markdown",
   "metadata": {
    "id": "RmciU7ek68v8"
   },
   "source": [
    "And here is the result of the multiplication:"
   ]
  },
  {
   "cell_type": "code",
   "execution_count": 53,
   "metadata": {
    "id": "iKL0EQJC68v8"
   },
   "outputs": [
    {
     "data": {
      "text/plain": [
       "array([[ 1.44,  2.4 ,  3.6 , -1.2 ,  2.4 ],\n",
       "       [ 2.4 ,  4.  ,  6.  , -2.  ,  4.  ],\n",
       "       [ 3.6 ,  6.  ,  9.  , -3.  ,  6.  ],\n",
       "       [-1.2 , -2.  , -3.  ,  1.  , -2.  ],\n",
       "       [ 2.4 ,  4.  ,  6.  , -2.  ,  4.  ]])"
      ]
     },
     "execution_count": 53,
     "metadata": {},
     "output_type": "execute_result"
    }
   ],
   "source": [
    "acm.dot(acm.T)"
   ]
  },
  {
   "cell_type": "markdown",
   "metadata": {
    "id": "hmog8JP968v8"
   },
   "source": [
    "Here is another example of the transpose operator:"
   ]
  },
  {
   "cell_type": "code",
   "execution_count": 54,
   "metadata": {
    "id": "Era_ms_F68v9"
   },
   "outputs": [
    {
     "data": {
      "text/plain": [
       "array([[ 0,  1,  2,  3,  4],\n",
       "       [ 5,  6,  7,  8,  9],\n",
       "       [10, 11, 12, 13, 14],\n",
       "       [15, 16, 17, 18, 19],\n",
       "       [20, 21, 22, 23, 24]])"
      ]
     },
     "execution_count": 54,
     "metadata": {},
     "output_type": "execute_result"
    }
   ],
   "source": [
    "B = np.arange(25).reshape(5, 5)\n",
    "B"
   ]
  },
  {
   "cell_type": "code",
   "execution_count": 55,
   "metadata": {
    "id": "qxyvBlDl68v9"
   },
   "outputs": [
    {
     "data": {
      "text/plain": [
       "array([[ 0,  5, 10, 15, 20],\n",
       "       [ 1,  6, 11, 16, 21],\n",
       "       [ 2,  7, 12, 17, 22],\n",
       "       [ 3,  8, 13, 18, 23],\n",
       "       [ 4,  9, 14, 19, 24]])"
      ]
     },
     "execution_count": 55,
     "metadata": {},
     "output_type": "execute_result"
    }
   ],
   "source": [
    "B.T"
   ]
  },
  {
   "cell_type": "markdown",
   "metadata": {
    "id": "BhgzEMdd68v9"
   },
   "source": [
    "There are some special numpy functions for creating arrays.\n",
    "Here is how to make an array of zeros:"
   ]
  },
  {
   "cell_type": "code",
   "execution_count": 56,
   "metadata": {
    "id": "gBZ8hGhk68v-"
   },
   "outputs": [
    {
     "data": {
      "text/plain": [
       "array([[0., 0., 0., 0., 0.],\n",
       "       [0., 0., 0., 0., 0.],\n",
       "       [0., 0., 0., 0., 0.],\n",
       "       [0., 0., 0., 0., 0.]])"
      ]
     },
     "execution_count": 56,
     "metadata": {},
     "output_type": "execute_result"
    }
   ],
   "source": [
    "np.zeros((4, 5))"
   ]
  },
  {
   "cell_type": "markdown",
   "metadata": {
    "id": "_moflPco68v-"
   },
   "source": [
    "An array of ones:"
   ]
  },
  {
   "cell_type": "code",
   "execution_count": 57,
   "metadata": {
    "id": "BgzGFzax68v-"
   },
   "outputs": [
    {
     "data": {
      "text/plain": [
       "array([[1., 1.],\n",
       "       [1., 1.],\n",
       "       [1., 1.],\n",
       "       [1., 1.],\n",
       "       [1., 1.]])"
      ]
     },
     "execution_count": 57,
     "metadata": {},
     "output_type": "execute_result"
    }
   ],
   "source": [
    "np.ones((5, 2))"
   ]
  },
  {
   "cell_type": "markdown",
   "metadata": {
    "id": "NDLCwuLG68v-"
   },
   "source": [
    "A unit matrix:"
   ]
  },
  {
   "cell_type": "code",
   "execution_count": 58,
   "metadata": {
    "id": "wL3IVnLw68v_"
   },
   "outputs": [
    {
     "data": {
      "text/plain": [
       "array([[1., 0., 0., 0., 0.],\n",
       "       [0., 1., 0., 0., 0.],\n",
       "       [0., 0., 1., 0., 0.],\n",
       "       [0., 0., 0., 1., 0.],\n",
       "       [0., 0., 0., 0., 1.]])"
      ]
     },
     "execution_count": 58,
     "metadata": {},
     "output_type": "execute_result"
    }
   ],
   "source": [
    "np.eye(5)"
   ]
  },
  {
   "cell_type": "markdown",
   "metadata": {
    "id": "r56M1r5Z68v_"
   },
   "source": [
    "Now, we typically want to do some more linear algebra with matrices.\n",
    "For example, we may want to get the determinant of a matrix:"
   ]
  },
  {
   "cell_type": "code",
   "execution_count": 59,
   "metadata": {
    "id": "GVI9aXkT68v_"
   },
   "outputs": [
    {
     "data": {
      "text/plain": [
       "6.0"
      ]
     },
     "execution_count": 59,
     "metadata": {},
     "output_type": "execute_result"
    }
   ],
   "source": [
    "np.linalg.det(A)"
   ]
  },
  {
   "cell_type": "markdown",
   "metadata": {
    "id": "JkfqqDNg68v_"
   },
   "source": [
    "Or we may want to solve a linear system of the form:\n",
    "$$\n",
    "A x = b,\n",
    "$$\n",
    "where $b$ is a given vector and $x$ is the uknown vector we are looking for.\n",
    "Let's create and solve such a linear system."
   ]
  },
  {
   "cell_type": "code",
   "execution_count": 60,
   "metadata": {
    "id": "5lL8Fqbw68wA"
   },
   "outputs": [],
   "source": [
    "# I already have 5x5 matrix A, just define the b:\n",
    "b = np.array([2.0, -1.0, 3.0, 4.0, 2.0])"
   ]
  },
  {
   "cell_type": "code",
   "execution_count": 61,
   "metadata": {
    "id": "4hVHmjog68wA"
   },
   "outputs": [
    {
     "data": {
      "text/plain": [
       "array([4.16666667, 6.33333333, 9.5       , 9.66666667, 5.83333333])"
      ]
     },
     "execution_count": 61,
     "metadata": {},
     "output_type": "execute_result"
    }
   ],
   "source": [
    "# Here is how to solve the linear system:\n",
    "x = np.linalg.solve(A, b)\n",
    "x"
   ]
  },
  {
   "cell_type": "markdown",
   "metadata": {
    "id": "8CwvCPXV68wA"
   },
   "source": [
    "Let's see if the solution works as expected by calculating $Ax$:"
   ]
  },
  {
   "cell_type": "code",
   "execution_count": null,
   "metadata": {
    "id": "h29J_Z_d68wA"
   },
   "outputs": [],
   "source": [
    "print('Ax = ', A.dot(x))\n",
    "print('b  = ', b)"
   ]
  },
  {
   "cell_type": "markdown",
   "metadata": {
    "id": "XBtvLxXP68wA"
   },
   "source": [
    "You can also find the eigenvalues of a matrix:"
   ]
  },
  {
   "cell_type": "code",
   "execution_count": null,
   "metadata": {
    "id": "XvsjqNkw68wB"
   },
   "outputs": [],
   "source": [
    "lam, v = np.linalg.eig(A)"
   ]
  },
  {
   "cell_type": "markdown",
   "metadata": {
    "id": "QerpsYIw68wB"
   },
   "source": [
    "The eigenvalues are:"
   ]
  },
  {
   "cell_type": "code",
   "execution_count": null,
   "metadata": {
    "id": "iXbzYblJ68wB"
   },
   "outputs": [],
   "source": [
    "lam"
   ]
  },
  {
   "cell_type": "markdown",
   "metadata": {
    "id": "cX7I1yMe68wB"
   },
   "source": [
    "The eigenvectors are put in a matrix:"
   ]
  },
  {
   "cell_type": "code",
   "execution_count": null,
   "metadata": {
    "id": "Fdcx4xc868wC"
   },
   "outputs": [],
   "source": [
    "v"
   ]
  },
  {
   "cell_type": "markdown",
   "metadata": {
    "id": "KG_IGbBe68wC"
   },
   "source": [
    "So, each column of that matrix is an eigenvector.\n",
    "Let's test that \n",
    "$$\n",
    "A v_i = \\lambda_i v_i,\n",
    "$$\n",
    "for the $i$-th eigenvalue:"
   ]
  },
  {
   "cell_type": "code",
   "execution_count": null,
   "metadata": {
    "id": "qlwF-Jhp68wC"
   },
   "outputs": [],
   "source": [
    "# Which eigenvalue do you want to test:\n",
    "i = 0\n",
    "print('Av_i        = ', A.dot(v[:, i]))\n",
    "print('lamda_i v_i = ', lam[i] * v[:, i])"
   ]
  },
  {
   "cell_type": "markdown",
   "metadata": {
    "id": "oHDCsTA368wD"
   },
   "source": [
    "By the way, ``v[:, i]`` gives you the $i$-th column of the matrix ``v``."
   ]
  },
  {
   "cell_type": "markdown",
   "metadata": {
    "id": "NZ5s8UJR68wD"
   },
   "source": [
    "### Questions\n",
    "\n",
    "+ Consider the quadratic function:\n",
    "$$\n",
    "f(x_1, x_2) = x_1^2 -x_1x_2 + x_2^2 + 3x_1 + 4x_2.\n",
    "$$\n",
    "We are interested in finding its minimum.\n",
    "A necessary condition for the minimum is that the gradient of $f(x_1, x_2)$ is zero.\n",
    "The gradient is:\n",
    "$$\n",
    "\\frac{\\partial f(x_1,x_2)}{\\partial x_1} = 2x_1 -x_2 + 3 = 0,\n",
    "$$\n",
    "and\n",
    "$$\n",
    "\\frac{\\partial f(x_1, x_2)}{\\partial x_2} = -x_1 + 2x_2 + 4 = 0.\n",
    "$$\n",
    "Rearranging, we get the two equations:\n",
    "$$\n",
    "\\begin{array}{ccc}\n",
    "2x_1 - x_2 &=& -3,\\\\\n",
    "-x_1 + 2x_2 &=& -4.\\\\\n",
    "\\end{array}\n",
    "$$\n",
    "These can also be written in matrix-vector form:\n",
    "$$\n",
    "\\begin{bmatrix}\n",
    "2 &-1\\\\\n",
    "-1 & 2\n",
    "\\end{bmatrix}\\cdot\n",
    "\\begin{bmatrix}\n",
    "x_1\\\\\n",
    "x_2\n",
    "\\end{bmatrix}\n",
    "= \\begin{bmatrix}\n",
    "-3\\\\\n",
    "-4\n",
    "\\end{bmatrix}.\n",
    "$$\n",
    "Use the numpy functionality to solve this linear system and thus find the minimum of $f(x_1,x_2)$."
   ]
  },
  {
   "cell_type": "code",
   "execution_count": null,
   "metadata": {
    "id": "bIQrnOFy68wE"
   },
   "outputs": [],
   "source": [
    "# your code here"
   ]
  },
  {
   "cell_type": "markdown",
   "metadata": {
    "id": "YsuZgfga68wE"
   },
   "source": [
    "+ For the point you found above to be a true minimum of the $f(x_1,x_2)$ (and not a maximum for example) is that the matrix of second derivatives (the so-called Hessian matrix) must be positive definite, i.e., that the matrix has only positive eigenvalues.\n",
    "The hessian matrix in this problem is:\n",
    "$$\n",
    "H = \\begin{bmatrix}\n",
    "\\frac{\\partial^2 f(x_1,x_2)}{\\partial x_1^2}& \\frac{\\partial^2 f(x_1,x_2)}{\\partial x_1\\partial x_2}\\\\\n",
    "\\frac{\\partial^2 f(x_1,x_2)}{\\partial x_1\\partial x_2} & \\frac{\\partial^2 f(x_1,x_2)}{\\partial x_1^2}\n",
    "\\end{bmatrix} =\n",
    "\\begin{bmatrix}\n",
    "2 &-1\\\\\n",
    "-1 & 2\n",
    "\\end{bmatrix}.\n",
    "$$\n",
    "Use numpy functionality to verify that the matrix $H$ is indeed positive definite."
   ]
  },
  {
   "cell_type": "code",
   "execution_count": null,
   "metadata": {
    "id": "gnDW-9Fq68wE"
   },
   "outputs": [],
   "source": [
    "# your code here"
   ]
  },
  {
   "cell_type": "markdown",
   "metadata": {
    "id": "tgDLjQE068wE"
   },
   "source": [
    "+ If $H$ is a positive definite matrix, then the following property is true for any vector $x\\not = 0$:\n",
    "$$\n",
    "x^THx \\ge 0.\n",
    "$$\n",
    "In words, if you sandwich $H$ around the same vector produce a scalar, that scalar is a positive number.\n",
    "Test this hypothesis numerically using numpy functioanlity.\n",
    "Hint: Use the ``dot`` function and twich to calculate $x^THx$."
   ]
  },
  {
   "cell_type": "code",
   "execution_count": null,
   "metadata": {
    "id": "3XHiRMDb68wE"
   },
   "outputs": [],
   "source": [
    "# here is a random vector for you to play with:\n",
    "x = np.random.randn(2)\n",
    "print('x = ', x)\n",
    "# Your code here: Compute x^T * H * x:"
   ]
  },
  {
   "cell_type": "markdown",
   "metadata": {
    "id": "J_ZD80P568wF"
   },
   "source": [
    "## Multi-dimensional numpy arrays\n",
    "\n",
    "You can have 3D numpy arrays:"
   ]
  },
  {
   "cell_type": "code",
   "execution_count": null,
   "metadata": {
    "id": "2QD6dN1R68wF"
   },
   "outputs": [],
   "source": [
    "C = np.random.randn(10, 3, 4)\n",
    "C"
   ]
  },
  {
   "cell_type": "code",
   "execution_count": null,
   "metadata": {
    "id": "lEVpejQt68wF"
   },
   "outputs": [],
   "source": [
    "C.ndim"
   ]
  },
  {
   "cell_type": "code",
   "execution_count": null,
   "metadata": {
    "id": "14dZdKps68wF"
   },
   "outputs": [],
   "source": [
    "C.shape"
   ]
  },
  {
   "cell_type": "code",
   "execution_count": null,
   "metadata": {
    "id": "1kxBY5Fb68wF"
   },
   "outputs": [],
   "source": [
    "C[0, 2, 3]"
   ]
  },
  {
   "cell_type": "code",
   "execution_count": null,
   "metadata": {
    "id": "5MevIbOp68wG"
   },
   "outputs": [],
   "source": [
    "C[0]"
   ]
  },
  {
   "cell_type": "code",
   "execution_count": null,
   "metadata": {
    "id": "McF0Gh_q68wG"
   },
   "outputs": [],
   "source": [
    "C[0, 1]"
   ]
  },
  {
   "cell_type": "markdown",
   "metadata": {
    "id": "00Y2idJi68wG"
   },
   "source": [
    "Or even higher dimensional:"
   ]
  },
  {
   "cell_type": "code",
   "execution_count": null,
   "metadata": {
    "id": "zqWbPxXf68wG"
   },
   "outputs": [],
   "source": [
    "D = np.random.randn(3, 4, 5, 2, 5)"
   ]
  },
  {
   "cell_type": "code",
   "execution_count": null,
   "metadata": {
    "id": "OQLj8jlo68wG"
   },
   "outputs": [],
   "source": [
    "D.ndim"
   ]
  },
  {
   "cell_type": "code",
   "execution_count": null,
   "metadata": {
    "id": "ldKu7WW968wG"
   },
   "outputs": [],
   "source": [
    "D.shape"
   ]
  },
  {
   "cell_type": "markdown",
   "metadata": {
    "id": "FuCjZivI68wH"
   },
   "source": [
    "Of course, most of the time we will be working with 1D (Vectors) and 2D (Matrices)."
   ]
  }
 ],
 "metadata": {
  "colab": {
   "name": "python-basics-9.ipynb",
   "provenance": []
  },
  "kernelspec": {
   "display_name": "Python 3 (ipykernel)",
   "language": "python",
   "name": "python3"
  },
  "language_info": {
   "codemirror_mode": {
    "name": "ipython",
    "version": 3
   },
   "file_extension": ".py",
   "mimetype": "text/x-python",
   "name": "python",
   "nbconvert_exporter": "python",
   "pygments_lexer": "ipython3",
   "version": "3.10.6"
  }
 },
 "nbformat": 4,
 "nbformat_minor": 1
}
